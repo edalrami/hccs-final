{
 "cells": [
  {
   "cell_type": "markdown",
   "metadata": {},
   "source": [
    "# Healthcare Final Project\n",
    "\n",
    "#### Edwin Ramirez, Darshil Desai, Rashi Saxena"
   ]
  },
  {
   "cell_type": "code",
   "execution_count": 450,
   "metadata": {},
   "outputs": [],
   "source": [
    "import pandas as pd\n",
    "import numpy as np\n",
    "import matplotlib.pyplot as plt\n",
    "from sklearn.model_selection import train_test_split, GridSearchCV, cross_val_score, cross_validate\n",
    "from sklearn.feature_selection import f_classif, chi2, SelectKBest\n",
    "from sklearn.metrics import accuracy_score, confusion_matrix, f1_score, make_scorer,roc_auc_score, mean_squared_error\n",
    "from sklearn.pipeline import Pipeline\n",
    "from sklearn.naive_bayes import GaussianNB\n",
    "from sklearn import preprocessing\n",
    "from sklearn.linear_model import LogisticRegression, LinearRegression, Lasso\n",
    "from sklearn.model_selection import train_test_split\n",
    "from scipy.stats import chi2_contingency\n",
    "from scipy import stats\n",
    "import seaborn as sns\n",
    "from sklearn.neighbors import KNeighborsClassifier\n",
    "import re\n",
    "\n",
    "from IPython.display import Image"
   ]
  },
  {
   "cell_type": "code",
   "execution_count": 2,
   "metadata": {},
   "outputs": [
    {
     "data": {
      "text/html": [
       "<div>\n",
       "<style scoped>\n",
       "    .dataframe tbody tr th:only-of-type {\n",
       "        vertical-align: middle;\n",
       "    }\n",
       "\n",
       "    .dataframe tbody tr th {\n",
       "        vertical-align: top;\n",
       "    }\n",
       "\n",
       "    .dataframe thead th {\n",
       "        text-align: right;\n",
       "    }\n",
       "</style>\n",
       "<table border=\"1\" class=\"dataframe\">\n",
       "  <thead>\n",
       "    <tr style=\"text-align: right;\">\n",
       "      <th></th>\n",
       "      <th>pdc</th>\n",
       "      <th>num_ip_post</th>\n",
       "      <th>total_los_post</th>\n",
       "      <th>num_op_post</th>\n",
       "      <th>num_er_post</th>\n",
       "      <th>num_ndc_post</th>\n",
       "      <th>num_gpi6_post</th>\n",
       "      <th>adjust_total_30d_post</th>\n",
       "      <th>generic_rate_post</th>\n",
       "      <th>post_ip_flag</th>\n",
       "      <th>...</th>\n",
       "      <th>generic_cost</th>\n",
       "      <th>brand_cost</th>\n",
       "      <th>ratio_G_total_cost</th>\n",
       "      <th>numofgen_post</th>\n",
       "      <th>numofbrand_post</th>\n",
       "      <th>generic_cost_post</th>\n",
       "      <th>brand_cost_post</th>\n",
       "      <th>ratio_G_total_cost_post</th>\n",
       "      <th>pdc_80_flag</th>\n",
       "      <th>drug_class</th>\n",
       "    </tr>\n",
       "  </thead>\n",
       "  <tbody>\n",
       "    <tr>\n",
       "      <th>0</th>\n",
       "      <td>0.333333</td>\n",
       "      <td>0</td>\n",
       "      <td>0</td>\n",
       "      <td>4</td>\n",
       "      <td>0</td>\n",
       "      <td>15</td>\n",
       "      <td>5</td>\n",
       "      <td>14.466667</td>\n",
       "      <td>0.101382</td>\n",
       "      <td>0</td>\n",
       "      <td>...</td>\n",
       "      <td>30.621563</td>\n",
       "      <td>2984.927229</td>\n",
       "      <td>0.010155</td>\n",
       "      <td>2</td>\n",
       "      <td>13</td>\n",
       "      <td>196.359216</td>\n",
       "      <td>3001.501507</td>\n",
       "      <td>0.061403</td>\n",
       "      <td>0</td>\n",
       "      <td>*ANTIDIABETICS*</td>\n",
       "    </tr>\n",
       "    <tr>\n",
       "      <th>1</th>\n",
       "      <td>0.866667</td>\n",
       "      <td>0</td>\n",
       "      <td>0</td>\n",
       "      <td>5</td>\n",
       "      <td>0</td>\n",
       "      <td>16</td>\n",
       "      <td>4</td>\n",
       "      <td>18.000000</td>\n",
       "      <td>0.888889</td>\n",
       "      <td>0</td>\n",
       "      <td>...</td>\n",
       "      <td>720.788173</td>\n",
       "      <td>0.000000</td>\n",
       "      <td>1.000000</td>\n",
       "      <td>14</td>\n",
       "      <td>2</td>\n",
       "      <td>671.755173</td>\n",
       "      <td>735.661568</td>\n",
       "      <td>0.477297</td>\n",
       "      <td>1</td>\n",
       "      <td>*ANTIDIABETICS*</td>\n",
       "    </tr>\n",
       "    <tr>\n",
       "      <th>2</th>\n",
       "      <td>0.938889</td>\n",
       "      <td>0</td>\n",
       "      <td>0</td>\n",
       "      <td>7</td>\n",
       "      <td>0</td>\n",
       "      <td>11</td>\n",
       "      <td>4</td>\n",
       "      <td>8.600000</td>\n",
       "      <td>1.000000</td>\n",
       "      <td>0</td>\n",
       "      <td>...</td>\n",
       "      <td>179.538533</td>\n",
       "      <td>0.000000</td>\n",
       "      <td>1.000000</td>\n",
       "      <td>11</td>\n",
       "      <td>0</td>\n",
       "      <td>171.446621</td>\n",
       "      <td>0.000000</td>\n",
       "      <td>1.000000</td>\n",
       "      <td>1</td>\n",
       "      <td>*ANTICOAGULANTS*</td>\n",
       "    </tr>\n",
       "    <tr>\n",
       "      <th>3</th>\n",
       "      <td>0.077778</td>\n",
       "      <td>1</td>\n",
       "      <td>12</td>\n",
       "      <td>40</td>\n",
       "      <td>0</td>\n",
       "      <td>5</td>\n",
       "      <td>5</td>\n",
       "      <td>2.033333</td>\n",
       "      <td>1.000000</td>\n",
       "      <td>1</td>\n",
       "      <td>...</td>\n",
       "      <td>105.816329</td>\n",
       "      <td>0.000000</td>\n",
       "      <td>1.000000</td>\n",
       "      <td>5</td>\n",
       "      <td>0</td>\n",
       "      <td>335.826436</td>\n",
       "      <td>0.000000</td>\n",
       "      <td>1.000000</td>\n",
       "      <td>0</td>\n",
       "      <td>*ANTICOAGULANTS*</td>\n",
       "    </tr>\n",
       "    <tr>\n",
       "      <th>4</th>\n",
       "      <td>0.444444</td>\n",
       "      <td>0</td>\n",
       "      <td>0</td>\n",
       "      <td>12</td>\n",
       "      <td>1</td>\n",
       "      <td>15</td>\n",
       "      <td>9</td>\n",
       "      <td>14.833333</td>\n",
       "      <td>0.528090</td>\n",
       "      <td>0</td>\n",
       "      <td>...</td>\n",
       "      <td>630.173638</td>\n",
       "      <td>3265.595950</td>\n",
       "      <td>0.161758</td>\n",
       "      <td>8</td>\n",
       "      <td>7</td>\n",
       "      <td>75.988845</td>\n",
       "      <td>2054.400835</td>\n",
       "      <td>0.035669</td>\n",
       "      <td>0</td>\n",
       "      <td>*ANTIDIABETICS*</td>\n",
       "    </tr>\n",
       "  </tbody>\n",
       "</table>\n",
       "<p>5 rows × 94 columns</p>\n",
       "</div>"
      ],
      "text/plain": [
       "        pdc  num_ip_post  total_los_post  num_op_post  num_er_post  \\\n",
       "0  0.333333            0               0            4            0   \n",
       "1  0.866667            0               0            5            0   \n",
       "2  0.938889            0               0            7            0   \n",
       "3  0.077778            1              12           40            0   \n",
       "4  0.444444            0               0           12            1   \n",
       "\n",
       "   num_ndc_post  num_gpi6_post  adjust_total_30d_post  generic_rate_post  \\\n",
       "0            15              5              14.466667           0.101382   \n",
       "1            16              4              18.000000           0.888889   \n",
       "2            11              4               8.600000           1.000000   \n",
       "3             5              5               2.033333           1.000000   \n",
       "4            15              9              14.833333           0.528090   \n",
       "\n",
       "   post_ip_flag        ...         generic_cost   brand_cost  \\\n",
       "0             0        ...            30.621563  2984.927229   \n",
       "1             0        ...           720.788173     0.000000   \n",
       "2             0        ...           179.538533     0.000000   \n",
       "3             1        ...           105.816329     0.000000   \n",
       "4             0        ...           630.173638  3265.595950   \n",
       "\n",
       "   ratio_G_total_cost  numofgen_post  numofbrand_post  generic_cost_post  \\\n",
       "0            0.010155              2               13         196.359216   \n",
       "1            1.000000             14                2         671.755173   \n",
       "2            1.000000             11                0         171.446621   \n",
       "3            1.000000              5                0         335.826436   \n",
       "4            0.161758              8                7          75.988845   \n",
       "\n",
       "   brand_cost_post  ratio_G_total_cost_post  pdc_80_flag        drug_class  \n",
       "0      3001.501507                 0.061403            0   *ANTIDIABETICS*  \n",
       "1       735.661568                 0.477297            1   *ANTIDIABETICS*  \n",
       "2         0.000000                 1.000000            1  *ANTICOAGULANTS*  \n",
       "3         0.000000                 1.000000            0  *ANTICOAGULANTS*  \n",
       "4      2054.400835                 0.035669            0   *ANTIDIABETICS*  \n",
       "\n",
       "[5 rows x 94 columns]"
      ]
     },
     "execution_count": 2,
     "metadata": {},
     "output_type": "execute_result"
    }
   ],
   "source": [
    "# Reading in the data file\n",
    "data = pd.read_csv('projectTrain.csv')\n",
    "data.head()"
   ]
  },
  {
   "cell_type": "code",
   "execution_count": 3,
   "metadata": {},
   "outputs": [
    {
     "name": "stdout",
     "output_type": "stream",
     "text": [
      "This dataset has 2000 records and 94 features\n"
     ]
    }
   ],
   "source": [
    "# Taking a look at the data dimensions\n",
    "print ('This dataset has {} records and {} features'.format(data.shape[0], data.shape[1]))"
   ]
  },
  {
   "cell_type": "markdown",
   "metadata": {},
   "source": [
    "## Determining the Categorical Features"
   ]
  },
  {
   "cell_type": "code",
   "execution_count": 393,
   "metadata": {},
   "outputs": [],
   "source": [
    "#Gather all feature names\n",
    "possible_cat_features = np.array(list(data))\n",
    "\n",
    "feat_unique_vals = np.array([len(np.unique(data[i])) for i in possible_cat_features])"
   ]
  },
  {
   "cell_type": "markdown",
   "metadata": {},
   "source": [
    "Variables that contain more than 2 unique values could potentially be considered a categorical variable that we have to encode with one hot encoding. We want to only encode categorical variables that contain more than 2 unique values because those that are binary are already encoded. Therefore, if we were to encode these as well, they would lead to a misrepresentation of the number of categorical variables we have. If we set a limit to the number of unique values, we'll have a set of variables that we could individually check in the data dictionary. In this scenario we'll set the maximum unique value to 20."
   ]
  },
  {
   "cell_type": "code",
   "execution_count": 394,
   "metadata": {},
   "outputs": [],
   "source": [
    "possible_features = np.unique(possible_cat_features[(feat_unique_vals >2) & (feat_unique_vals < 20)])"
   ]
  },
  {
   "cell_type": "code",
   "execution_count": 395,
   "metadata": {},
   "outputs": [
    {
     "name": "stdout",
     "output_type": "stream",
     "text": [
      "These are the following variables that may require one hot encoding: \n",
      "(0, 'age_cat')\n",
      "(1, 'age_grpN')\n",
      "(2, 'idx_paytypN')\n",
      "(3, 'idx_prodtypeN')\n",
      "(4, 'num_er')\n",
      "(5, 'num_er_post')\n",
      "(6, 'num_ip')\n",
      "(7, 'num_ip_post')\n",
      "(8, 'pdc_cat')\n",
      "(9, 'pre_CCI')\n",
      "(10, 'pre_total_cat')\n",
      "(11, 'regionN')\n"
     ]
    }
   ],
   "source": [
    "print(\"These are the following variables that may require one hot encoding: \")\n",
    "count = 0\n",
    "for val in possible_features:\n",
    "    print((count,val) )\n",
    "    count = count+1"
   ]
  },
  {
   "cell_type": "markdown",
   "metadata": {},
   "source": [
    "### Potential Categorical Features That May Require One Hot Encoding \n",
    "\n",
    "- age_cat\n",
    "- age_grpN\n",
    "- idx_paytypB\n",
    "- idx_prodtypeN\n",
    "- num_er\n",
    "- num_er_post\n",
    "- num_ip\n",
    "- pdc_cat\n",
    "- pre_CCI\n",
    "- pre_total_cat\n",
    "- regionN\n",
    "\n",
    "After viewing the data dictionary, we see that num_er (number of visits), and num_ip (number of stays) are continuous variables, and additionaly we have to remove num_er_post because we will remove all variables related to the post index period to not affect our target variable `post_total_cost`."
   ]
  },
  {
   "cell_type": "code",
   "execution_count": 396,
   "metadata": {},
   "outputs": [],
   "source": [
    "index = [4,5,6,7,8]\n",
    "possible_features = np.delete(possible_features, index)"
   ]
  },
  {
   "cell_type": "code",
   "execution_count": 397,
   "metadata": {},
   "outputs": [
    {
     "data": {
      "text/plain": [
       "array(['age_cat', 'age_grpN', 'idx_paytypN', 'idx_prodtypeN', 'pre_CCI',\n",
       "       'pre_total_cat', 'regionN'], dtype='<U26')"
      ]
     },
     "execution_count": 397,
     "metadata": {},
     "output_type": "execute_result"
    }
   ],
   "source": [
    "possible_features"
   ]
  },
  {
   "cell_type": "code",
   "execution_count": 398,
   "metadata": {},
   "outputs": [],
   "source": [
    "un_encoded = data[possible_features]"
   ]
  },
  {
   "cell_type": "code",
   "execution_count": 399,
   "metadata": {},
   "outputs": [
    {
     "data": {
      "text/html": [
       "<div>\n",
       "<style scoped>\n",
       "    .dataframe tbody tr th:only-of-type {\n",
       "        vertical-align: middle;\n",
       "    }\n",
       "\n",
       "    .dataframe tbody tr th {\n",
       "        vertical-align: top;\n",
       "    }\n",
       "\n",
       "    .dataframe thead th {\n",
       "        text-align: right;\n",
       "    }\n",
       "</style>\n",
       "<table border=\"1\" class=\"dataframe\">\n",
       "  <thead>\n",
       "    <tr style=\"text-align: right;\">\n",
       "      <th></th>\n",
       "      <th>age_cat</th>\n",
       "      <th>age_grpN</th>\n",
       "      <th>idx_paytypN</th>\n",
       "      <th>idx_prodtypeN</th>\n",
       "      <th>pre_CCI</th>\n",
       "      <th>pre_total_cat</th>\n",
       "      <th>regionN</th>\n",
       "    </tr>\n",
       "  </thead>\n",
       "  <tbody>\n",
       "    <tr>\n",
       "      <th>0</th>\n",
       "      <td>1</td>\n",
       "      <td>0</td>\n",
       "      <td>0</td>\n",
       "      <td>1</td>\n",
       "      <td>1</td>\n",
       "      <td>6</td>\n",
       "      <td>2</td>\n",
       "    </tr>\n",
       "    <tr>\n",
       "      <th>1</th>\n",
       "      <td>1</td>\n",
       "      <td>0</td>\n",
       "      <td>3</td>\n",
       "      <td>1</td>\n",
       "      <td>0</td>\n",
       "      <td>3</td>\n",
       "      <td>2</td>\n",
       "    </tr>\n",
       "    <tr>\n",
       "      <th>2</th>\n",
       "      <td>0</td>\n",
       "      <td>0</td>\n",
       "      <td>0</td>\n",
       "      <td>2</td>\n",
       "      <td>0</td>\n",
       "      <td>8</td>\n",
       "      <td>2</td>\n",
       "    </tr>\n",
       "    <tr>\n",
       "      <th>3</th>\n",
       "      <td>0</td>\n",
       "      <td>0</td>\n",
       "      <td>0</td>\n",
       "      <td>1</td>\n",
       "      <td>0</td>\n",
       "      <td>9</td>\n",
       "      <td>2</td>\n",
       "    </tr>\n",
       "    <tr>\n",
       "      <th>4</th>\n",
       "      <td>3</td>\n",
       "      <td>1</td>\n",
       "      <td>0</td>\n",
       "      <td>2</td>\n",
       "      <td>1</td>\n",
       "      <td>7</td>\n",
       "      <td>2</td>\n",
       "    </tr>\n",
       "  </tbody>\n",
       "</table>\n",
       "</div>"
      ],
      "text/plain": [
       "   age_cat  age_grpN  idx_paytypN  idx_prodtypeN  pre_CCI  pre_total_cat  \\\n",
       "0        1         0            0              1        1              6   \n",
       "1        1         0            3              1        0              3   \n",
       "2        0         0            0              2        0              8   \n",
       "3        0         0            0              1        0              9   \n",
       "4        3         1            0              2        1              7   \n",
       "\n",
       "   regionN  \n",
       "0        2  \n",
       "1        2  \n",
       "2        2  \n",
       "3        2  \n",
       "4        2  "
      ]
     },
     "execution_count": 399,
     "metadata": {},
     "output_type": "execute_result"
    }
   ],
   "source": [
    "label_encoder = preprocessing.LabelEncoder()\n",
    "cat_features2 = un_encoded.apply(label_encoder.fit_transform)\n",
    "cat_features2.head()"
   ]
  },
  {
   "cell_type": "code",
   "execution_count": 400,
   "metadata": {},
   "outputs": [],
   "source": [
    "def one_hot_encode(df_column, data):\n",
    "        feature = np.array(data[df_column])\n",
    "        feature = feature.reshape((2000, 1))\n",
    "        \n",
    "        enc = preprocessing.OneHotEncoder()\n",
    "        enc.fit(feature)\n",
    "        \n",
    "        #Transform the data\n",
    "        onehotlabels = enc.transform(feature).toarray()\n",
    "        no_cols = onehotlabels.shape[1]\n",
    "        labels = []\n",
    "        for ii in range(no_cols):\n",
    "            labels.append(df_column + str(ii))\n",
    "            \n",
    "        one_hot_encoded = pd.DataFrame(onehotlabels)\n",
    "        one_hot_encoded.columns = labels\n",
    "        \n",
    "        return one_hot_encoded"
   ]
  },
  {
   "cell_type": "code",
   "execution_count": 401,
   "metadata": {
    "scrolled": true
   },
   "outputs": [
    {
     "name": "stderr",
     "output_type": "stream",
     "text": [
      "C:\\Users\\edalr\\Anaconda3\\lib\\site-packages\\sklearn\\preprocessing\\_encoders.py:368: FutureWarning: The handling of integer data will change in version 0.22. Currently, the categories are determined based on the range [0, max(values)], while in the future they will be determined based on the unique values.\n",
      "If you want the future behaviour and silence this warning, you can specify \"categories='auto'\".\n",
      "In case you used a LabelEncoder before this OneHotEncoder to convert the categories to integers, then you can now use the OneHotEncoder directly.\n",
      "  warnings.warn(msg, FutureWarning)\n",
      "C:\\Users\\edalr\\Anaconda3\\lib\\site-packages\\sklearn\\preprocessing\\_encoders.py:368: FutureWarning: The handling of integer data will change in version 0.22. Currently, the categories are determined based on the range [0, max(values)], while in the future they will be determined based on the unique values.\n",
      "If you want the future behaviour and silence this warning, you can specify \"categories='auto'\".\n",
      "In case you used a LabelEncoder before this OneHotEncoder to convert the categories to integers, then you can now use the OneHotEncoder directly.\n",
      "  warnings.warn(msg, FutureWarning)\n",
      "C:\\Users\\edalr\\Anaconda3\\lib\\site-packages\\sklearn\\preprocessing\\_encoders.py:368: FutureWarning: The handling of integer data will change in version 0.22. Currently, the categories are determined based on the range [0, max(values)], while in the future they will be determined based on the unique values.\n",
      "If you want the future behaviour and silence this warning, you can specify \"categories='auto'\".\n",
      "In case you used a LabelEncoder before this OneHotEncoder to convert the categories to integers, then you can now use the OneHotEncoder directly.\n",
      "  warnings.warn(msg, FutureWarning)\n",
      "C:\\Users\\edalr\\Anaconda3\\lib\\site-packages\\sklearn\\preprocessing\\_encoders.py:368: FutureWarning: The handling of integer data will change in version 0.22. Currently, the categories are determined based on the range [0, max(values)], while in the future they will be determined based on the unique values.\n",
      "If you want the future behaviour and silence this warning, you can specify \"categories='auto'\".\n",
      "In case you used a LabelEncoder before this OneHotEncoder to convert the categories to integers, then you can now use the OneHotEncoder directly.\n",
      "  warnings.warn(msg, FutureWarning)\n",
      "C:\\Users\\edalr\\Anaconda3\\lib\\site-packages\\sklearn\\preprocessing\\_encoders.py:368: FutureWarning: The handling of integer data will change in version 0.22. Currently, the categories are determined based on the range [0, max(values)], while in the future they will be determined based on the unique values.\n",
      "If you want the future behaviour and silence this warning, you can specify \"categories='auto'\".\n",
      "In case you used a LabelEncoder before this OneHotEncoder to convert the categories to integers, then you can now use the OneHotEncoder directly.\n",
      "  warnings.warn(msg, FutureWarning)\n",
      "C:\\Users\\edalr\\Anaconda3\\lib\\site-packages\\sklearn\\preprocessing\\_encoders.py:368: FutureWarning: The handling of integer data will change in version 0.22. Currently, the categories are determined based on the range [0, max(values)], while in the future they will be determined based on the unique values.\n",
      "If you want the future behaviour and silence this warning, you can specify \"categories='auto'\".\n",
      "In case you used a LabelEncoder before this OneHotEncoder to convert the categories to integers, then you can now use the OneHotEncoder directly.\n",
      "  warnings.warn(msg, FutureWarning)\n",
      "C:\\Users\\edalr\\Anaconda3\\lib\\site-packages\\sklearn\\preprocessing\\_encoders.py:368: FutureWarning: The handling of integer data will change in version 0.22. Currently, the categories are determined based on the range [0, max(values)], while in the future they will be determined based on the unique values.\n",
      "If you want the future behaviour and silence this warning, you can specify \"categories='auto'\".\n",
      "In case you used a LabelEncoder before this OneHotEncoder to convert the categories to integers, then you can now use the OneHotEncoder directly.\n",
      "  warnings.warn(msg, FutureWarning)\n"
     ]
    }
   ],
   "source": [
    "encoded = [one_hot_encode(i, cat_features2) for i in un_encoded.columns]"
   ]
  },
  {
   "cell_type": "code",
   "execution_count": 402,
   "metadata": {},
   "outputs": [],
   "source": [
    "encoded_cats = pd.DataFrame()"
   ]
  },
  {
   "cell_type": "code",
   "execution_count": 403,
   "metadata": {},
   "outputs": [],
   "source": [
    "for i in range(len(encoded)):\n",
    "    encoded_cats = pd.concat([encoded_cats, encoded[i]], axis=1)"
   ]
  },
  {
   "cell_type": "code",
   "execution_count": 404,
   "metadata": {},
   "outputs": [
    {
     "data": {
      "text/html": [
       "<div>\n",
       "<style scoped>\n",
       "    .dataframe tbody tr th:only-of-type {\n",
       "        vertical-align: middle;\n",
       "    }\n",
       "\n",
       "    .dataframe tbody tr th {\n",
       "        vertical-align: top;\n",
       "    }\n",
       "\n",
       "    .dataframe thead th {\n",
       "        text-align: right;\n",
       "    }\n",
       "</style>\n",
       "<table border=\"1\" class=\"dataframe\">\n",
       "  <thead>\n",
       "    <tr style=\"text-align: right;\">\n",
       "      <th></th>\n",
       "      <th>age_cat0</th>\n",
       "      <th>age_cat1</th>\n",
       "      <th>age_cat2</th>\n",
       "      <th>age_cat3</th>\n",
       "      <th>age_cat4</th>\n",
       "      <th>age_cat5</th>\n",
       "      <th>age_grpN0</th>\n",
       "      <th>age_grpN1</th>\n",
       "      <th>age_grpN2</th>\n",
       "      <th>idx_paytypN0</th>\n",
       "      <th>...</th>\n",
       "      <th>pre_total_cat4</th>\n",
       "      <th>pre_total_cat5</th>\n",
       "      <th>pre_total_cat6</th>\n",
       "      <th>pre_total_cat7</th>\n",
       "      <th>pre_total_cat8</th>\n",
       "      <th>pre_total_cat9</th>\n",
       "      <th>regionN0</th>\n",
       "      <th>regionN1</th>\n",
       "      <th>regionN2</th>\n",
       "      <th>regionN3</th>\n",
       "    </tr>\n",
       "  </thead>\n",
       "  <tbody>\n",
       "    <tr>\n",
       "      <th>0</th>\n",
       "      <td>0.0</td>\n",
       "      <td>1.0</td>\n",
       "      <td>0.0</td>\n",
       "      <td>0.0</td>\n",
       "      <td>0.0</td>\n",
       "      <td>0.0</td>\n",
       "      <td>1.0</td>\n",
       "      <td>0.0</td>\n",
       "      <td>0.0</td>\n",
       "      <td>1.0</td>\n",
       "      <td>...</td>\n",
       "      <td>0.0</td>\n",
       "      <td>0.0</td>\n",
       "      <td>1.0</td>\n",
       "      <td>0.0</td>\n",
       "      <td>0.0</td>\n",
       "      <td>0.0</td>\n",
       "      <td>0.0</td>\n",
       "      <td>0.0</td>\n",
       "      <td>1.0</td>\n",
       "      <td>0.0</td>\n",
       "    </tr>\n",
       "    <tr>\n",
       "      <th>1</th>\n",
       "      <td>0.0</td>\n",
       "      <td>1.0</td>\n",
       "      <td>0.0</td>\n",
       "      <td>0.0</td>\n",
       "      <td>0.0</td>\n",
       "      <td>0.0</td>\n",
       "      <td>1.0</td>\n",
       "      <td>0.0</td>\n",
       "      <td>0.0</td>\n",
       "      <td>0.0</td>\n",
       "      <td>...</td>\n",
       "      <td>0.0</td>\n",
       "      <td>0.0</td>\n",
       "      <td>0.0</td>\n",
       "      <td>0.0</td>\n",
       "      <td>0.0</td>\n",
       "      <td>0.0</td>\n",
       "      <td>0.0</td>\n",
       "      <td>0.0</td>\n",
       "      <td>1.0</td>\n",
       "      <td>0.0</td>\n",
       "    </tr>\n",
       "    <tr>\n",
       "      <th>2</th>\n",
       "      <td>1.0</td>\n",
       "      <td>0.0</td>\n",
       "      <td>0.0</td>\n",
       "      <td>0.0</td>\n",
       "      <td>0.0</td>\n",
       "      <td>0.0</td>\n",
       "      <td>1.0</td>\n",
       "      <td>0.0</td>\n",
       "      <td>0.0</td>\n",
       "      <td>1.0</td>\n",
       "      <td>...</td>\n",
       "      <td>0.0</td>\n",
       "      <td>0.0</td>\n",
       "      <td>0.0</td>\n",
       "      <td>0.0</td>\n",
       "      <td>1.0</td>\n",
       "      <td>0.0</td>\n",
       "      <td>0.0</td>\n",
       "      <td>0.0</td>\n",
       "      <td>1.0</td>\n",
       "      <td>0.0</td>\n",
       "    </tr>\n",
       "    <tr>\n",
       "      <th>3</th>\n",
       "      <td>1.0</td>\n",
       "      <td>0.0</td>\n",
       "      <td>0.0</td>\n",
       "      <td>0.0</td>\n",
       "      <td>0.0</td>\n",
       "      <td>0.0</td>\n",
       "      <td>1.0</td>\n",
       "      <td>0.0</td>\n",
       "      <td>0.0</td>\n",
       "      <td>1.0</td>\n",
       "      <td>...</td>\n",
       "      <td>0.0</td>\n",
       "      <td>0.0</td>\n",
       "      <td>0.0</td>\n",
       "      <td>0.0</td>\n",
       "      <td>0.0</td>\n",
       "      <td>1.0</td>\n",
       "      <td>0.0</td>\n",
       "      <td>0.0</td>\n",
       "      <td>1.0</td>\n",
       "      <td>0.0</td>\n",
       "    </tr>\n",
       "    <tr>\n",
       "      <th>4</th>\n",
       "      <td>0.0</td>\n",
       "      <td>0.0</td>\n",
       "      <td>0.0</td>\n",
       "      <td>1.0</td>\n",
       "      <td>0.0</td>\n",
       "      <td>0.0</td>\n",
       "      <td>0.0</td>\n",
       "      <td>1.0</td>\n",
       "      <td>0.0</td>\n",
       "      <td>1.0</td>\n",
       "      <td>...</td>\n",
       "      <td>0.0</td>\n",
       "      <td>0.0</td>\n",
       "      <td>0.0</td>\n",
       "      <td>1.0</td>\n",
       "      <td>0.0</td>\n",
       "      <td>0.0</td>\n",
       "      <td>0.0</td>\n",
       "      <td>0.0</td>\n",
       "      <td>1.0</td>\n",
       "      <td>0.0</td>\n",
       "    </tr>\n",
       "  </tbody>\n",
       "</table>\n",
       "<p>5 rows × 42 columns</p>\n",
       "</div>"
      ],
      "text/plain": [
       "   age_cat0  age_cat1  age_cat2  age_cat3  age_cat4  age_cat5  age_grpN0  \\\n",
       "0       0.0       1.0       0.0       0.0       0.0       0.0        1.0   \n",
       "1       0.0       1.0       0.0       0.0       0.0       0.0        1.0   \n",
       "2       1.0       0.0       0.0       0.0       0.0       0.0        1.0   \n",
       "3       1.0       0.0       0.0       0.0       0.0       0.0        1.0   \n",
       "4       0.0       0.0       0.0       1.0       0.0       0.0        0.0   \n",
       "\n",
       "   age_grpN1  age_grpN2  idx_paytypN0    ...     pre_total_cat4  \\\n",
       "0        0.0        0.0           1.0    ...                0.0   \n",
       "1        0.0        0.0           0.0    ...                0.0   \n",
       "2        0.0        0.0           1.0    ...                0.0   \n",
       "3        0.0        0.0           1.0    ...                0.0   \n",
       "4        1.0        0.0           1.0    ...                0.0   \n",
       "\n",
       "   pre_total_cat5  pre_total_cat6  pre_total_cat7  pre_total_cat8  \\\n",
       "0             0.0             1.0             0.0             0.0   \n",
       "1             0.0             0.0             0.0             0.0   \n",
       "2             0.0             0.0             0.0             1.0   \n",
       "3             0.0             0.0             0.0             0.0   \n",
       "4             0.0             0.0             1.0             0.0   \n",
       "\n",
       "   pre_total_cat9  regionN0  regionN1  regionN2  regionN3  \n",
       "0             0.0       0.0       0.0       1.0       0.0  \n",
       "1             0.0       0.0       0.0       1.0       0.0  \n",
       "2             0.0       0.0       0.0       1.0       0.0  \n",
       "3             1.0       0.0       0.0       1.0       0.0  \n",
       "4             0.0       0.0       0.0       1.0       0.0  \n",
       "\n",
       "[5 rows x 42 columns]"
      ]
     },
     "execution_count": 404,
     "metadata": {},
     "output_type": "execute_result"
    }
   ],
   "source": [
    "encoded_cats.head()"
   ]
  },
  {
   "cell_type": "code",
   "execution_count": 405,
   "metadata": {},
   "outputs": [
    {
     "data": {
      "text/plain": [
       "(2000, 42)"
      ]
     },
     "execution_count": 405,
     "metadata": {},
     "output_type": "execute_result"
    }
   ],
   "source": [
    "encoded_cats.shape"
   ]
  },
  {
   "cell_type": "markdown",
   "metadata": {},
   "source": [
    "Now we must include the additional binary categorical variables with our encoded categorical variables. We can do this by viewing all the total categorical variables that only contain 2 unique values."
   ]
  },
  {
   "cell_type": "code",
   "execution_count": 406,
   "metadata": {},
   "outputs": [],
   "source": [
    "other_cats = np.unique(possible_cat_features[(feat_unique_vals < 3)])"
   ]
  },
  {
   "cell_type": "code",
   "execution_count": 407,
   "metadata": {},
   "outputs": [],
   "source": [
    "other_cats = np.setdiff1d(other_cats, possible_features)"
   ]
  },
  {
   "cell_type": "code",
   "execution_count": 408,
   "metadata": {},
   "outputs": [],
   "source": [
    "other_cats = data[other_cats]"
   ]
  },
  {
   "cell_type": "code",
   "execution_count": 409,
   "metadata": {},
   "outputs": [],
   "source": [
    "other_cats = [other_cats.columns[[not i for i in [bool(re.search('post', x)) for x in other_cats.columns]]]]"
   ]
  },
  {
   "cell_type": "code",
   "execution_count": 410,
   "metadata": {},
   "outputs": [],
   "source": [
    "other_cats = np.array(other_cats)"
   ]
  },
  {
   "cell_type": "code",
   "execution_count": 411,
   "metadata": {},
   "outputs": [
    {
     "data": {
      "text/plain": [
       "array(['ALCOHOL_DRUG', 'ASTHMA', 'CARDIAC_ARRYTHMIA', 'CARDIAC_VALVULAR',\n",
       "       'CEREBROVASCULAR', 'CHF', 'CHRONIC_KIDNEY', 'CHRONIC_PAIN_FIBRO',\n",
       "       'COPD', 'Cancer_In_Situ', 'DEMENTIA', 'DEPRESSION', 'DIABETES',\n",
       "       'DYSLIPIDEMIA', 'EPILEPSY_SEIZURE', 'HEPATITIS', 'HIV_AIDS',\n",
       "       'HYPERTENSION', 'LIVER_GALLBLADDER_PANCREAS', 'Leukemia_Lymphoma',\n",
       "       'MI_CAD', 'Metastatic', 'OSTEOARTHRITIS', 'Other_Cancer',\n",
       "       'PARALYSIS', 'PEPTIC_ULCER', 'PERIPHERAL_VASCULAR',\n",
       "       'RENAL_FAILURE', 'RHEUMATOLOGIC', 'SCHIZOPHRENIA',\n",
       "       'SLEEP_DISORDERS', 'SMOKING', 'Solid_Tumor', 'THYROID',\n",
       "       'drug_class', 'pdc_80_flag', 'pre_er_flag', 'pre_ip_flag', 'sexN'],\n",
       "      dtype=object)"
      ]
     },
     "execution_count": 411,
     "metadata": {},
     "output_type": "execute_result"
    }
   ],
   "source": [
    "other_cats[0]\n"
   ]
  },
  {
   "cell_type": "code",
   "execution_count": 412,
   "metadata": {},
   "outputs": [
    {
     "data": {
      "text/plain": [
       "(2000, 81)"
      ]
     },
     "execution_count": 412,
     "metadata": {},
     "output_type": "execute_result"
    }
   ],
   "source": [
    "cat_vars = pd.concat([data[other_cats[0]], encoded_cats], axis= 1)\n",
    "cat_vars.shape"
   ]
  },
  {
   "cell_type": "markdown",
   "metadata": {},
   "source": [
    "## Determining the continuous variables"
   ]
  },
  {
   "cell_type": "markdown",
   "metadata": {},
   "source": [
    "We can determine the same process for our continuous variables by simply removing all cate"
   ]
  },
  {
   "cell_type": "code",
   "execution_count": 418,
   "metadata": {},
   "outputs": [],
   "source": [
    "non_continuous = list(possible_features) + list(other_cats[0])\n",
    "non_continuous.append('post_total_cost')\n",
    "non_continuous.append('pdc')\n",
    "non_continuous.append('pdc_cat')"
   ]
  },
  {
   "cell_type": "code",
   "execution_count": null,
   "metadata": {},
   "outputs": [],
   "source": []
  },
  {
   "cell_type": "code",
   "execution_count": 419,
   "metadata": {
    "scrolled": true
   },
   "outputs": [],
   "source": [
    "continuous_df = data.drop(non_continuous, axis=1)\n",
    "\n",
    "#remove post index variables\n",
    "cont_col = [continuous_df.columns[[not i for i in [bool(re.search('post', x)) for x in continuous_df.columns]]]]\n"
   ]
  },
  {
   "cell_type": "code",
   "execution_count": 420,
   "metadata": {},
   "outputs": [],
   "source": [
    "continuous_df = continuous_df[cont_col[0]]"
   ]
  },
  {
   "cell_type": "code",
   "execution_count": 421,
   "metadata": {
    "scrolled": true
   },
   "outputs": [],
   "source": [
    "#Store target y\n",
    "target_var = data['post_total_cost']"
   ]
  },
  {
   "cell_type": "code",
   "execution_count": 422,
   "metadata": {
    "scrolled": false
   },
   "outputs": [
    {
     "data": {
      "text/html": [
       "<div>\n",
       "<style scoped>\n",
       "    .dataframe tbody tr th:only-of-type {\n",
       "        vertical-align: middle;\n",
       "    }\n",
       "\n",
       "    .dataframe tbody tr th {\n",
       "        vertical-align: top;\n",
       "    }\n",
       "\n",
       "    .dataframe thead th {\n",
       "        text-align: right;\n",
       "    }\n",
       "</style>\n",
       "<table border=\"1\" class=\"dataframe\">\n",
       "  <thead>\n",
       "    <tr style=\"text-align: right;\">\n",
       "      <th></th>\n",
       "      <th>idx_copay</th>\n",
       "      <th>log_idx_copay</th>\n",
       "      <th>pre_ip_cost</th>\n",
       "      <th>pre_er_cost</th>\n",
       "      <th>pre_rx_cost</th>\n",
       "      <th>pre_op_cost</th>\n",
       "      <th>pre_total_cost</th>\n",
       "      <th>pre_medical_cost</th>\n",
       "      <th>num_ip</th>\n",
       "      <th>total_los</th>\n",
       "      <th>...</th>\n",
       "      <th>pre_total_cat4</th>\n",
       "      <th>pre_total_cat5</th>\n",
       "      <th>pre_total_cat6</th>\n",
       "      <th>pre_total_cat7</th>\n",
       "      <th>pre_total_cat8</th>\n",
       "      <th>pre_total_cat9</th>\n",
       "      <th>regionN0</th>\n",
       "      <th>regionN1</th>\n",
       "      <th>regionN2</th>\n",
       "      <th>regionN3</th>\n",
       "    </tr>\n",
       "  </thead>\n",
       "  <tbody>\n",
       "    <tr>\n",
       "      <th>0</th>\n",
       "      <td>40.474500</td>\n",
       "      <td>3.700672</td>\n",
       "      <td>0.000000</td>\n",
       "      <td>0.0</td>\n",
       "      <td>3015.548793</td>\n",
       "      <td>1626.271037</td>\n",
       "      <td>4641.819829</td>\n",
       "      <td>1626.271037</td>\n",
       "      <td>0</td>\n",
       "      <td>0</td>\n",
       "      <td>...</td>\n",
       "      <td>0.0</td>\n",
       "      <td>0.0</td>\n",
       "      <td>1.0</td>\n",
       "      <td>0.0</td>\n",
       "      <td>0.0</td>\n",
       "      <td>0.0</td>\n",
       "      <td>0.0</td>\n",
       "      <td>0.0</td>\n",
       "      <td>1.0</td>\n",
       "      <td>0.0</td>\n",
       "    </tr>\n",
       "    <tr>\n",
       "      <th>1</th>\n",
       "      <td>4.060471</td>\n",
       "      <td>1.401299</td>\n",
       "      <td>0.000000</td>\n",
       "      <td>0.0</td>\n",
       "      <td>720.788173</td>\n",
       "      <td>479.349400</td>\n",
       "      <td>1200.137573</td>\n",
       "      <td>479.349400</td>\n",
       "      <td>0</td>\n",
       "      <td>0</td>\n",
       "      <td>...</td>\n",
       "      <td>0.0</td>\n",
       "      <td>0.0</td>\n",
       "      <td>0.0</td>\n",
       "      <td>0.0</td>\n",
       "      <td>0.0</td>\n",
       "      <td>0.0</td>\n",
       "      <td>0.0</td>\n",
       "      <td>0.0</td>\n",
       "      <td>1.0</td>\n",
       "      <td>0.0</td>\n",
       "    </tr>\n",
       "    <tr>\n",
       "      <th>2</th>\n",
       "      <td>0.010000</td>\n",
       "      <td>-4.605170</td>\n",
       "      <td>9794.292309</td>\n",
       "      <td>0.0</td>\n",
       "      <td>195.891492</td>\n",
       "      <td>781.502660</td>\n",
       "      <td>10771.686460</td>\n",
       "      <td>10575.794970</td>\n",
       "      <td>1</td>\n",
       "      <td>6</td>\n",
       "      <td>...</td>\n",
       "      <td>0.0</td>\n",
       "      <td>0.0</td>\n",
       "      <td>0.0</td>\n",
       "      <td>0.0</td>\n",
       "      <td>1.0</td>\n",
       "      <td>0.0</td>\n",
       "      <td>0.0</td>\n",
       "      <td>0.0</td>\n",
       "      <td>1.0</td>\n",
       "      <td>0.0</td>\n",
       "    </tr>\n",
       "    <tr>\n",
       "      <th>3</th>\n",
       "      <td>10.203185</td>\n",
       "      <td>2.322700</td>\n",
       "      <td>43476.276460</td>\n",
       "      <td>0.0</td>\n",
       "      <td>105.816329</td>\n",
       "      <td>186.932041</td>\n",
       "      <td>43769.024830</td>\n",
       "      <td>43663.208500</td>\n",
       "      <td>2</td>\n",
       "      <td>17</td>\n",
       "      <td>...</td>\n",
       "      <td>0.0</td>\n",
       "      <td>0.0</td>\n",
       "      <td>0.0</td>\n",
       "      <td>0.0</td>\n",
       "      <td>0.0</td>\n",
       "      <td>1.0</td>\n",
       "      <td>0.0</td>\n",
       "      <td>0.0</td>\n",
       "      <td>1.0</td>\n",
       "      <td>0.0</td>\n",
       "    </tr>\n",
       "    <tr>\n",
       "      <th>4</th>\n",
       "      <td>4.050485</td>\n",
       "      <td>1.398837</td>\n",
       "      <td>0.000000</td>\n",
       "      <td>0.0</td>\n",
       "      <td>3895.769588</td>\n",
       "      <td>2302.981377</td>\n",
       "      <td>6198.750965</td>\n",
       "      <td>2302.981377</td>\n",
       "      <td>0</td>\n",
       "      <td>0</td>\n",
       "      <td>...</td>\n",
       "      <td>0.0</td>\n",
       "      <td>0.0</td>\n",
       "      <td>0.0</td>\n",
       "      <td>1.0</td>\n",
       "      <td>0.0</td>\n",
       "      <td>0.0</td>\n",
       "      <td>0.0</td>\n",
       "      <td>0.0</td>\n",
       "      <td>1.0</td>\n",
       "      <td>0.0</td>\n",
       "    </tr>\n",
       "  </tbody>\n",
       "</table>\n",
       "<p>5 rows × 106 columns</p>\n",
       "</div>"
      ],
      "text/plain": [
       "   idx_copay  log_idx_copay   pre_ip_cost  pre_er_cost  pre_rx_cost  \\\n",
       "0  40.474500       3.700672      0.000000          0.0  3015.548793   \n",
       "1   4.060471       1.401299      0.000000          0.0   720.788173   \n",
       "2   0.010000      -4.605170   9794.292309          0.0   195.891492   \n",
       "3  10.203185       2.322700  43476.276460          0.0   105.816329   \n",
       "4   4.050485       1.398837      0.000000          0.0  3895.769588   \n",
       "\n",
       "   pre_op_cost  pre_total_cost  pre_medical_cost  num_ip  total_los    ...     \\\n",
       "0  1626.271037     4641.819829       1626.271037       0          0    ...      \n",
       "1   479.349400     1200.137573        479.349400       0          0    ...      \n",
       "2   781.502660    10771.686460      10575.794970       1          6    ...      \n",
       "3   186.932041    43769.024830      43663.208500       2         17    ...      \n",
       "4  2302.981377     6198.750965       2302.981377       0          0    ...      \n",
       "\n",
       "   pre_total_cat4  pre_total_cat5  pre_total_cat6  pre_total_cat7  \\\n",
       "0             0.0             0.0             1.0             0.0   \n",
       "1             0.0             0.0             0.0             0.0   \n",
       "2             0.0             0.0             0.0             0.0   \n",
       "3             0.0             0.0             0.0             0.0   \n",
       "4             0.0             0.0             0.0             1.0   \n",
       "\n",
       "   pre_total_cat8  pre_total_cat9  regionN0  regionN1  regionN2  regionN3  \n",
       "0             0.0             0.0       0.0       0.0       1.0       0.0  \n",
       "1             0.0             0.0       0.0       0.0       1.0       0.0  \n",
       "2             1.0             0.0       0.0       0.0       1.0       0.0  \n",
       "3             0.0             1.0       0.0       0.0       1.0       0.0  \n",
       "4             0.0             0.0       0.0       0.0       1.0       0.0  \n",
       "\n",
       "[5 rows x 106 columns]"
      ]
     },
     "execution_count": 422,
     "metadata": {},
     "output_type": "execute_result"
    }
   ],
   "source": [
    "all_features = pd.concat([continuous_df, cat_vars], axis=1)\n",
    "all_features.head()"
   ]
  },
  {
   "cell_type": "code",
   "execution_count": 423,
   "metadata": {},
   "outputs": [],
   "source": [
    "#Drop NA values\n",
    "all_features = pd.concat([all_features, target_var], axis=1)\n",
    "all_features.dropna(inplace=True)"
   ]
  },
  {
   "cell_type": "code",
   "execution_count": 424,
   "metadata": {
    "scrolled": true
   },
   "outputs": [],
   "source": [
    "from sklearn.model_selection import train_test_split\n",
    "X_train, X_test, y_train, y_test = train_test_split(all_features.drop(columns = ['post_total_cost']), all_features['post_total_cost'], test_size=0.2, random_state=42)"
   ]
  },
  {
   "cell_type": "code",
   "execution_count": 425,
   "metadata": {},
   "outputs": [],
   "source": [
    "X_train.to_csv(\"X_train.csv\", index = False)\n",
    "X_test.to_csv(\"X_test.csv\", index = False)\n",
    "y_train.to_csv(\"y_train.csv\", index = False)\n",
    "y_test.to_csv(\"y_test.csv\", index = False)"
   ]
  },
  {
   "cell_type": "markdown",
   "metadata": {},
   "source": [
    "### Export Data to use in R"
   ]
  },
  {
   "cell_type": "code",
   "execution_count": 427,
   "metadata": {},
   "outputs": [
    {
     "data": {
      "text/html": [
       "<div>\n",
       "<style scoped>\n",
       "    .dataframe tbody tr th:only-of-type {\n",
       "        vertical-align: middle;\n",
       "    }\n",
       "\n",
       "    .dataframe tbody tr th {\n",
       "        vertical-align: top;\n",
       "    }\n",
       "\n",
       "    .dataframe thead th {\n",
       "        text-align: right;\n",
       "    }\n",
       "</style>\n",
       "<table border=\"1\" class=\"dataframe\">\n",
       "  <thead>\n",
       "    <tr style=\"text-align: right;\">\n",
       "      <th></th>\n",
       "      <th>0</th>\n",
       "      <th>1</th>\n",
       "      <th>2</th>\n",
       "      <th>3</th>\n",
       "      <th>4</th>\n",
       "      <th>5</th>\n",
       "      <th>6</th>\n",
       "      <th>7</th>\n",
       "      <th>8</th>\n",
       "      <th>9</th>\n",
       "      <th>...</th>\n",
       "      <th>71</th>\n",
       "      <th>72</th>\n",
       "      <th>73</th>\n",
       "      <th>74</th>\n",
       "      <th>75</th>\n",
       "      <th>76</th>\n",
       "      <th>77</th>\n",
       "      <th>78</th>\n",
       "      <th>79</th>\n",
       "      <th>80</th>\n",
       "    </tr>\n",
       "  </thead>\n",
       "  <tbody>\n",
       "    <tr>\n",
       "      <th>0</th>\n",
       "      <td>ALCOHOL_DRUG</td>\n",
       "      <td>ASTHMA</td>\n",
       "      <td>CARDIAC_ARRYTHMIA</td>\n",
       "      <td>CARDIAC_VALVULAR</td>\n",
       "      <td>CEREBROVASCULAR</td>\n",
       "      <td>CHF</td>\n",
       "      <td>CHRONIC_KIDNEY</td>\n",
       "      <td>CHRONIC_PAIN_FIBRO</td>\n",
       "      <td>COPD</td>\n",
       "      <td>Cancer_In_Situ</td>\n",
       "      <td>...</td>\n",
       "      <td>pre_total_cat4</td>\n",
       "      <td>pre_total_cat5</td>\n",
       "      <td>pre_total_cat6</td>\n",
       "      <td>pre_total_cat7</td>\n",
       "      <td>pre_total_cat8</td>\n",
       "      <td>pre_total_cat9</td>\n",
       "      <td>regionN0</td>\n",
       "      <td>regionN1</td>\n",
       "      <td>regionN2</td>\n",
       "      <td>regionN3</td>\n",
       "    </tr>\n",
       "  </tbody>\n",
       "</table>\n",
       "<p>1 rows × 81 columns</p>\n",
       "</div>"
      ],
      "text/plain": [
       "             0       1                  2                 3                4   \\\n",
       "0  ALCOHOL_DRUG  ASTHMA  CARDIAC_ARRYTHMIA  CARDIAC_VALVULAR  CEREBROVASCULAR   \n",
       "\n",
       "    5               6                   7     8               9     ...     \\\n",
       "0  CHF  CHRONIC_KIDNEY  CHRONIC_PAIN_FIBRO  COPD  Cancer_In_Situ    ...      \n",
       "\n",
       "               71              72              73              74  \\\n",
       "0  pre_total_cat4  pre_total_cat5  pre_total_cat6  pre_total_cat7   \n",
       "\n",
       "               75              76        77        78        79        80  \n",
       "0  pre_total_cat8  pre_total_cat9  regionN0  regionN1  regionN2  regionN3  \n",
       "\n",
       "[1 rows x 81 columns]"
      ]
     },
     "execution_count": 427,
     "metadata": {},
     "output_type": "execute_result"
    }
   ],
   "source": [
    "cat_names = list(cat_vars.columns)\n",
    "cat_names = pd.DataFrame(cat_names).T\n",
    "cat_names"
   ]
  },
  {
   "cell_type": "code",
   "execution_count": 428,
   "metadata": {},
   "outputs": [],
   "source": [
    "cont_names = list(continuous_df.columns)"
   ]
  },
  {
   "cell_type": "code",
   "execution_count": 429,
   "metadata": {},
   "outputs": [
    {
     "data": {
      "text/html": [
       "<div>\n",
       "<style scoped>\n",
       "    .dataframe tbody tr th:only-of-type {\n",
       "        vertical-align: middle;\n",
       "    }\n",
       "\n",
       "    .dataframe tbody tr th {\n",
       "        vertical-align: top;\n",
       "    }\n",
       "\n",
       "    .dataframe thead th {\n",
       "        text-align: right;\n",
       "    }\n",
       "</style>\n",
       "<table border=\"1\" class=\"dataframe\">\n",
       "  <thead>\n",
       "    <tr style=\"text-align: right;\">\n",
       "      <th></th>\n",
       "      <th>0</th>\n",
       "      <th>1</th>\n",
       "      <th>2</th>\n",
       "      <th>3</th>\n",
       "      <th>4</th>\n",
       "      <th>5</th>\n",
       "      <th>6</th>\n",
       "      <th>7</th>\n",
       "      <th>8</th>\n",
       "      <th>9</th>\n",
       "      <th>...</th>\n",
       "      <th>15</th>\n",
       "      <th>16</th>\n",
       "      <th>17</th>\n",
       "      <th>18</th>\n",
       "      <th>19</th>\n",
       "      <th>20</th>\n",
       "      <th>21</th>\n",
       "      <th>22</th>\n",
       "      <th>23</th>\n",
       "      <th>24</th>\n",
       "    </tr>\n",
       "  </thead>\n",
       "  <tbody>\n",
       "    <tr>\n",
       "      <th>0</th>\n",
       "      <td>idx_copay</td>\n",
       "      <td>log_idx_copay</td>\n",
       "      <td>pre_ip_cost</td>\n",
       "      <td>pre_er_cost</td>\n",
       "      <td>pre_rx_cost</td>\n",
       "      <td>pre_op_cost</td>\n",
       "      <td>pre_total_cost</td>\n",
       "      <td>pre_medical_cost</td>\n",
       "      <td>num_ip</td>\n",
       "      <td>total_los</td>\n",
       "      <td>...</td>\n",
       "      <td>generic_rate</td>\n",
       "      <td>log_pre_ip_cost</td>\n",
       "      <td>log_pre_er_cost</td>\n",
       "      <td>log_pre_op_cost</td>\n",
       "      <td>log_pre_rx_cost</td>\n",
       "      <td>numofgen</td>\n",
       "      <td>numofbrand</td>\n",
       "      <td>generic_cost</td>\n",
       "      <td>brand_cost</td>\n",
       "      <td>ratio_G_total_cost</td>\n",
       "    </tr>\n",
       "  </tbody>\n",
       "</table>\n",
       "<p>1 rows × 25 columns</p>\n",
       "</div>"
      ],
      "text/plain": [
       "          0              1            2            3            4   \\\n",
       "0  idx_copay  log_idx_copay  pre_ip_cost  pre_er_cost  pre_rx_cost   \n",
       "\n",
       "            5               6                 7       8          9   \\\n",
       "0  pre_op_cost  pre_total_cost  pre_medical_cost  num_ip  total_los   \n",
       "\n",
       "          ...                    15               16               17  \\\n",
       "0         ...          generic_rate  log_pre_ip_cost  log_pre_er_cost   \n",
       "\n",
       "                18               19        20          21            22  \\\n",
       "0  log_pre_op_cost  log_pre_rx_cost  numofgen  numofbrand  generic_cost   \n",
       "\n",
       "           23                  24  \n",
       "0  brand_cost  ratio_G_total_cost  \n",
       "\n",
       "[1 rows x 25 columns]"
      ]
     },
     "execution_count": 429,
     "metadata": {},
     "output_type": "execute_result"
    }
   ],
   "source": [
    "pd.DataFrame(cont_names).T"
   ]
  },
  {
   "cell_type": "code",
   "execution_count": 430,
   "metadata": {},
   "outputs": [],
   "source": [
    "cont_names = pd.DataFrame(cont_names).T"
   ]
  },
  {
   "cell_type": "code",
   "execution_count": 432,
   "metadata": {},
   "outputs": [],
   "source": [
    "cat_names.to_csv(\"cat_names.csv\", index = False)\n",
    "cont_names.to_csv('cont_names.csv', index = False)"
   ]
  },
  {
   "cell_type": "markdown",
   "metadata": {},
   "source": [
    "# AFTER R PROGRAMMING"
   ]
  },
  {
   "cell_type": "markdown",
   "metadata": {},
   "source": [
    "# LOGISTIC REGRESSION"
   ]
  },
  {
   "cell_type": "code",
   "execution_count": 433,
   "metadata": {},
   "outputs": [],
   "source": [
    "weights_ = np.array([-0.256602078, 0.003651686, -0.100005702, -0.487385694])"
   ]
  },
  {
   "cell_type": "code",
   "execution_count": 434,
   "metadata": {},
   "outputs": [
    {
     "data": {
      "text/plain": [
       "array([-0.25660208,  0.00365169, -0.1000057 , -0.48738569])"
      ]
     },
     "execution_count": 434,
     "metadata": {},
     "output_type": "execute_result"
    }
   ],
   "source": [
    "weights_"
   ]
  },
  {
   "cell_type": "code",
   "execution_count": 435,
   "metadata": {},
   "outputs": [],
   "source": [
    "ad = all_features[all_features.drug_class == \"*ANTIDIABETICS*\"]"
   ]
  },
  {
   "cell_type": "code",
   "execution_count": 436,
   "metadata": {},
   "outputs": [],
   "source": [
    "X_train2, X_test2, y_train2, y_test2 = train_test_split(ad.drop(columns = ['pdc_80_flag']), ad['pdc_80_flag'], test_size=0.2, random_state=42)"
   ]
  },
  {
   "cell_type": "code",
   "execution_count": 437,
   "metadata": {},
   "outputs": [],
   "source": [
    "X_test2[\"intr\"] = 1"
   ]
  },
  {
   "cell_type": "code",
   "execution_count": 438,
   "metadata": {},
   "outputs": [],
   "source": [
    "A = X_test2[[\"intr\",  \"adjust_total_30d\", \"age_cat0\", \"age_grpN0\"]]"
   ]
  },
  {
   "cell_type": "code",
   "execution_count": 439,
   "metadata": {},
   "outputs": [],
   "source": [
    "logit = lambda x: 1/(1+np.exp(-x))\n",
    "\n",
    "coef = weights_\n",
    "\n",
    "your_name = np.dot(A, coef)\n",
    "log_your_name = [logit(i) for i in your_name]\n",
    "classify = [0 if i < 0.5 else 1 for i in log_your_name]"
   ]
  },
  {
   "cell_type": "code",
   "execution_count": 445,
   "metadata": {},
   "outputs": [
    {
     "name": "stdout",
     "output_type": "stream",
     "text": [
      "Accuracy of Logistic Regression Model:  0.62\n"
     ]
    }
   ],
   "source": [
    "accuracy = sum(classify == y_test2)/len(y_test2)\n",
    "print(\"Accuracy of Logistic Regression Model: \", round(accuracy,2))"
   ]
  },
  {
   "cell_type": "code",
   "execution_count": 451,
   "metadata": {},
   "outputs": [
    {
     "data": {
      "image/png": "[encoded data removed]",
      "text/plain": [
       "<IPython.core.display.Image object>"
      ]
     },
     "execution_count": 451,
     "metadata": {},
     "output_type": "execute_result"
    }
   ],
   "source": [
    "Image(filename=\"log1.png\")"
   ]
  },
  {
   "cell_type": "markdown",
   "metadata": {},
   "source": [
    "# LINEAR REGRESSION"
   ]
  },
  {
   "cell_type": "code",
   "execution_count": 446,
   "metadata": {},
   "outputs": [
    {
     "name": "stdout",
     "output_type": "stream",
     "text": [
      "\n",
      "Call:\n",
      "lm(formula = post_total_cost ~ ., data = lm_data2)\n",
      "\n",
      "Residuals:\n",
      "   Min     1Q Median     3Q    Max \n",
      "-34069  -6559  -2846   1785  72532 \n",
      "\n",
      "Coefficients:\n",
      "                      Estimate Std. Error t value Pr(>|t|)    \n",
      "(Intercept)          6.970e+03  3.406e+03   2.047  0.04087 *  \n",
      "idx_copay            9.731e+00  1.658e+01   0.587  0.55745    \n",
      "log_idx_copay       -2.410e+02  1.781e+02  -1.353  0.17634    \n",
      "pre_er_cost          3.544e-01  3.219e-01   1.101  0.27108    \n",
      "pre_op_cost          3.104e-01  6.895e-02   4.502 7.27e-06 ***\n",
      "num_op               4.081e+01  4.756e+01   0.858  0.39096    \n",
      "num_er               2.518e+02  5.076e+02   0.496  0.61991    \n",
      "num_gpi6            -1.862e+02  1.543e+02  -1.207  0.22779    \n",
      "adjust_total_30d     4.203e+01  3.643e+01   1.153  0.24889    \n",
      "generic_rate        -2.402e+03  2.552e+03  -0.941  0.34670    \n",
      "log_pre_op_cost     -4.767e+01  2.118e+02  -0.225  0.82200    \n",
      "log_pre_rx_cost      1.174e+02  3.049e+02   0.385  0.70020    \n",
      "numofbrand          -3.325e+01  1.346e+02  -0.247  0.80493    \n",
      "brand_cost           1.431e+00  2.178e-01   6.570 6.93e-11 ***\n",
      "ratio_G_total_cost   2.552e+03  1.580e+03   1.615  0.10658    \n",
      "ASTHMA              -3.665e+02  1.531e+03  -0.239  0.81079    \n",
      "CEREBROVASCULAR      2.899e+03  2.633e+03   1.101  0.27117    \n",
      "CHF                  4.714e+03  1.966e+03   2.398  0.01661 *  \n",
      "DEMENTIA             1.409e+04  7.404e+03   1.903  0.05724 .  \n",
      "DEPRESSION           2.028e+03  1.318e+03   1.539  0.12398    \n",
      "DIABETES            -2.869e+03  1.004e+03  -2.859  0.00431 ** \n",
      "Metastatic           2.014e+04  3.707e+03   5.433 6.46e-08 ***\n",
      "OSTEOARTHRITIS       4.696e+03  7.553e+02   6.217 6.55e-10 ***\n",
      "PARALYSIS           -4.607e+03  2.856e+03  -1.613  0.10691    \n",
      "PERIPHERAL_VASCULAR  1.904e+03  1.562e+03   1.219  0.22316    \n",
      "SCHIZOPHRENIA        5.093e+03  8.852e+03   0.575  0.56517    \n",
      "SLEEP_DISORDERS      1.066e+03  1.008e+03   1.057  0.29047    \n",
      "pdc_80_flag         -2.384e+03  7.273e+02  -3.278  0.00107 ** \n",
      "sexN                 4.793e+01  6.818e+02   0.070  0.94397    \n",
      "age_cat1            -2.071e+03  1.070e+03  -1.937  0.05299 .  \n",
      "age_cat2            -6.897e+02  9.528e+02  -0.724  0.46928    \n",
      "age_cat3             7.733e+02  8.846e+02   0.874  0.38216    \n",
      "idx_paytypN2        -6.690e+03  4.863e+03  -1.376  0.16915    \n",
      "idx_prodtypeN2       2.303e+03  1.415e+03   1.628  0.10380    \n",
      "pre_CCI1             6.674e+02  9.761e+02   0.684  0.49427    \n",
      "pre_CCI2             6.049e+02  1.279e+03   0.473  0.63635    \n",
      "pre_CCI3             5.371e+03  1.682e+03   3.194  0.00143 ** \n",
      "pre_CCI6             8.439e+03  4.021e+03   2.099  0.03600 *  \n",
      "pre_CCI8             1.063e+04  6.831e+03   1.557  0.11977    \n",
      "pre_total_cat0      -6.329e+02  1.795e+03  -0.353  0.72445    \n",
      "pre_total_cat1      -1.920e+03  1.378e+03  -1.393  0.16387    \n",
      "pre_total_cat2       1.351e+02  1.301e+03   0.104  0.91726    \n",
      "pre_total_cat5       2.675e+03  1.131e+03   2.365  0.01817 *  \n",
      "pre_total_cat6       3.389e+03  1.186e+03   2.858  0.00433 ** \n",
      "pre_total_cat7       5.775e+02  1.181e+03   0.489  0.62481    \n",
      "regionN1            -4.108e+02  1.107e+03  -0.371  0.71072    \n",
      "regionN2            -2.217e+03  1.076e+03  -2.060  0.03957 *  \n",
      "regionN3             2.772e+02  1.556e+03   0.178  0.85866    \n",
      "---\n",
      "Signif. codes:  0 ‘***’ 0.001 ‘**’ 0.01 ‘*’ 0.05 ‘.’ 0.1 ‘ ’ 1\n",
      "\n",
      "Residual standard error: 12400 on 1494 degrees of freedom\n",
      "Multiple R-squared:  0.2609,\tAdjusted R-squared:  0.2377 \n",
      "F-statistic: 11.22 on 47 and 1494 DF,  p-value: < 2.2e-16\n",
      "\n",
      "\n"
     ]
    }
   ],
   "source": [
    "f = open(\"lm.txt\", \"r\")\n",
    "print(f.read())"
   ]
  },
  {
   "cell_type": "code",
   "execution_count": 449,
   "metadata": {},
   "outputs": [
    {
     "data": {
      "image/png": "[encoded data removed]",
      "text/plain": [
       "<IPython.core.display.Image object>"
      ]
     },
     "execution_count": 449,
     "metadata": {},
     "output_type": "execute_result"
    }
   ],
   "source": [
    "Image(filename='lm1.png')"
   ]
  },
  {
   "cell_type": "code",
   "execution_count": 452,
   "metadata": {},
   "outputs": [
    {
     "data": {
      "image/png": "[encoded data removed]",
      "text/plain": [
       "<IPython.core.display.Image object>"
      ]
     },
     "execution_count": 452,
     "metadata": {},
     "output_type": "execute_result"
    }
   ],
   "source": [
    "Image(filename='lm2.png')"
   ]
  },
  {
   "cell_type": "code",
   "execution_count": 453,
   "metadata": {},
   "outputs": [
    {
     "data": {
      "image/png": "[encoded data removed]",
      "text/plain": [
       "<IPython.core.display.Image object>"
      ]
     },
     "execution_count": 453,
     "metadata": {},
     "output_type": "execute_result"
    }
   ],
   "source": [
    "Image(filename='lm3.png')"
   ]
  },
  {
   "cell_type": "code",
   "execution_count": null,
   "metadata": {},
   "outputs": [],
   "source": []
  }
 ],
 "metadata": {
  "kernelspec": {
   "display_name": "Python 3",
   "language": "python",
   "name": "python3"
  },
  "language_info": {
   "codemirror_mode": {
    "name": "ipython",
    "version": 3
   },
   "file_extension": ".py",
   "mimetype": "text/x-python",
   "name": "python",
   "nbconvert_exporter": "python",
   "pygments_lexer": "ipython3",
   "version": "3.6.6"
  }
 },
 "nbformat": 4,
 "nbformat_minor": 2
}
