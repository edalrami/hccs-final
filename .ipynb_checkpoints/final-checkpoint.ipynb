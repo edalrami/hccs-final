{
 "cells": [
  {
   "cell_type": "markdown",
   "metadata": {},
   "source": [
    "# Healthcare Final Project\n",
    "\n",
    "#### Edwin Ramirez, Darshil Desai, Rashi Saxena"
   ]
  },
  {
   "cell_type": "code",
   "execution_count": 104,
   "metadata": {},
   "outputs": [],
   "source": [
    "import pandas as pd\n",
    "import numpy as np\n",
    "import matplotlib.pyplot as plt\n",
    "from sklearn.model_selection import train_test_split, GridSearchCV, cross_val_score, cross_validate\n",
    "from sklearn.feature_selection import f_classif, chi2, SelectKBest\n",
    "from sklearn.metrics import accuracy_score, confusion_matrix, f1_score, make_scorer,roc_auc_score, mean_squared_error\n",
    "from sklearn.pipeline import Pipeline\n",
    "from sklearn.naive_bayes import GaussianNB\n",
    "from sklearn import preprocessing\n",
    "from sklearn.linear_model import LogisticRegression, LinearRegression, Lasso\n",
    "from sklearn.model_selection import train_test_split\n",
    "from scipy.stats import chi2_contingency\n",
    "from scipy import stats\n",
    "import seaborn as sns\n",
    "from sklearn.neighbors import KNeighborsClassifier\n",
    "import re\n"
   ]
  },
  {
   "cell_type": "code",
   "execution_count": 2,
   "metadata": {},
   "outputs": [
    {
     "data": {
      "text/html": [
       "<div>\n",
       "<style scoped>\n",
       "    .dataframe tbody tr th:only-of-type {\n",
       "        vertical-align: middle;\n",
       "    }\n",
       "\n",
       "    .dataframe tbody tr th {\n",
       "        vertical-align: top;\n",
       "    }\n",
       "\n",
       "    .dataframe thead th {\n",
       "        text-align: right;\n",
       "    }\n",
       "</style>\n",
       "<table border=\"1\" class=\"dataframe\">\n",
       "  <thead>\n",
       "    <tr style=\"text-align: right;\">\n",
       "      <th></th>\n",
       "      <th>pdc</th>\n",
       "      <th>num_ip_post</th>\n",
       "      <th>total_los_post</th>\n",
       "      <th>num_op_post</th>\n",
       "      <th>num_er_post</th>\n",
       "      <th>num_ndc_post</th>\n",
       "      <th>num_gpi6_post</th>\n",
       "      <th>adjust_total_30d_post</th>\n",
       "      <th>generic_rate_post</th>\n",
       "      <th>post_ip_flag</th>\n",
       "      <th>...</th>\n",
       "      <th>generic_cost</th>\n",
       "      <th>brand_cost</th>\n",
       "      <th>ratio_G_total_cost</th>\n",
       "      <th>numofgen_post</th>\n",
       "      <th>numofbrand_post</th>\n",
       "      <th>generic_cost_post</th>\n",
       "      <th>brand_cost_post</th>\n",
       "      <th>ratio_G_total_cost_post</th>\n",
       "      <th>pdc_80_flag</th>\n",
       "      <th>drug_class</th>\n",
       "    </tr>\n",
       "  </thead>\n",
       "  <tbody>\n",
       "    <tr>\n",
       "      <th>0</th>\n",
       "      <td>0.333333</td>\n",
       "      <td>0</td>\n",
       "      <td>0</td>\n",
       "      <td>4</td>\n",
       "      <td>0</td>\n",
       "      <td>15</td>\n",
       "      <td>5</td>\n",
       "      <td>14.466667</td>\n",
       "      <td>0.101382</td>\n",
       "      <td>0</td>\n",
       "      <td>...</td>\n",
       "      <td>30.621563</td>\n",
       "      <td>2984.927229</td>\n",
       "      <td>0.010155</td>\n",
       "      <td>2</td>\n",
       "      <td>13</td>\n",
       "      <td>196.359216</td>\n",
       "      <td>3001.501507</td>\n",
       "      <td>0.061403</td>\n",
       "      <td>0</td>\n",
       "      <td>*ANTIDIABETICS*</td>\n",
       "    </tr>\n",
       "    <tr>\n",
       "      <th>1</th>\n",
       "      <td>0.866667</td>\n",
       "      <td>0</td>\n",
       "      <td>0</td>\n",
       "      <td>5</td>\n",
       "      <td>0</td>\n",
       "      <td>16</td>\n",
       "      <td>4</td>\n",
       "      <td>18.000000</td>\n",
       "      <td>0.888889</td>\n",
       "      <td>0</td>\n",
       "      <td>...</td>\n",
       "      <td>720.788173</td>\n",
       "      <td>0.000000</td>\n",
       "      <td>1.000000</td>\n",
       "      <td>14</td>\n",
       "      <td>2</td>\n",
       "      <td>671.755173</td>\n",
       "      <td>735.661568</td>\n",
       "      <td>0.477297</td>\n",
       "      <td>1</td>\n",
       "      <td>*ANTIDIABETICS*</td>\n",
       "    </tr>\n",
       "    <tr>\n",
       "      <th>2</th>\n",
       "      <td>0.938889</td>\n",
       "      <td>0</td>\n",
       "      <td>0</td>\n",
       "      <td>7</td>\n",
       "      <td>0</td>\n",
       "      <td>11</td>\n",
       "      <td>4</td>\n",
       "      <td>8.600000</td>\n",
       "      <td>1.000000</td>\n",
       "      <td>0</td>\n",
       "      <td>...</td>\n",
       "      <td>179.538533</td>\n",
       "      <td>0.000000</td>\n",
       "      <td>1.000000</td>\n",
       "      <td>11</td>\n",
       "      <td>0</td>\n",
       "      <td>171.446621</td>\n",
       "      <td>0.000000</td>\n",
       "      <td>1.000000</td>\n",
       "      <td>1</td>\n",
       "      <td>*ANTICOAGULANTS*</td>\n",
       "    </tr>\n",
       "    <tr>\n",
       "      <th>3</th>\n",
       "      <td>0.077778</td>\n",
       "      <td>1</td>\n",
       "      <td>12</td>\n",
       "      <td>40</td>\n",
       "      <td>0</td>\n",
       "      <td>5</td>\n",
       "      <td>5</td>\n",
       "      <td>2.033333</td>\n",
       "      <td>1.000000</td>\n",
       "      <td>1</td>\n",
       "      <td>...</td>\n",
       "      <td>105.816329</td>\n",
       "      <td>0.000000</td>\n",
       "      <td>1.000000</td>\n",
       "      <td>5</td>\n",
       "      <td>0</td>\n",
       "      <td>335.826436</td>\n",
       "      <td>0.000000</td>\n",
       "      <td>1.000000</td>\n",
       "      <td>0</td>\n",
       "      <td>*ANTICOAGULANTS*</td>\n",
       "    </tr>\n",
       "    <tr>\n",
       "      <th>4</th>\n",
       "      <td>0.444444</td>\n",
       "      <td>0</td>\n",
       "      <td>0</td>\n",
       "      <td>12</td>\n",
       "      <td>1</td>\n",
       "      <td>15</td>\n",
       "      <td>9</td>\n",
       "      <td>14.833333</td>\n",
       "      <td>0.528090</td>\n",
       "      <td>0</td>\n",
       "      <td>...</td>\n",
       "      <td>630.173638</td>\n",
       "      <td>3265.595950</td>\n",
       "      <td>0.161758</td>\n",
       "      <td>8</td>\n",
       "      <td>7</td>\n",
       "      <td>75.988845</td>\n",
       "      <td>2054.400835</td>\n",
       "      <td>0.035669</td>\n",
       "      <td>0</td>\n",
       "      <td>*ANTIDIABETICS*</td>\n",
       "    </tr>\n",
       "  </tbody>\n",
       "</table>\n",
       "<p>5 rows × 94 columns</p>\n",
       "</div>"
      ],
      "text/plain": [
       "        pdc  num_ip_post  total_los_post  num_op_post  num_er_post  \\\n",
       "0  0.333333            0               0            4            0   \n",
       "1  0.866667            0               0            5            0   \n",
       "2  0.938889            0               0            7            0   \n",
       "3  0.077778            1              12           40            0   \n",
       "4  0.444444            0               0           12            1   \n",
       "\n",
       "   num_ndc_post  num_gpi6_post  adjust_total_30d_post  generic_rate_post  \\\n",
       "0            15              5              14.466667           0.101382   \n",
       "1            16              4              18.000000           0.888889   \n",
       "2            11              4               8.600000           1.000000   \n",
       "3             5              5               2.033333           1.000000   \n",
       "4            15              9              14.833333           0.528090   \n",
       "\n",
       "   post_ip_flag        ...         generic_cost   brand_cost  \\\n",
       "0             0        ...            30.621563  2984.927229   \n",
       "1             0        ...           720.788173     0.000000   \n",
       "2             0        ...           179.538533     0.000000   \n",
       "3             1        ...           105.816329     0.000000   \n",
       "4             0        ...           630.173638  3265.595950   \n",
       "\n",
       "   ratio_G_total_cost  numofgen_post  numofbrand_post  generic_cost_post  \\\n",
       "0            0.010155              2               13         196.359216   \n",
       "1            1.000000             14                2         671.755173   \n",
       "2            1.000000             11                0         171.446621   \n",
       "3            1.000000              5                0         335.826436   \n",
       "4            0.161758              8                7          75.988845   \n",
       "\n",
       "   brand_cost_post  ratio_G_total_cost_post  pdc_80_flag        drug_class  \n",
       "0      3001.501507                 0.061403            0   *ANTIDIABETICS*  \n",
       "1       735.661568                 0.477297            1   *ANTIDIABETICS*  \n",
       "2         0.000000                 1.000000            1  *ANTICOAGULANTS*  \n",
       "3         0.000000                 1.000000            0  *ANTICOAGULANTS*  \n",
       "4      2054.400835                 0.035669            0   *ANTIDIABETICS*  \n",
       "\n",
       "[5 rows x 94 columns]"
      ]
     },
     "execution_count": 2,
     "metadata": {},
     "output_type": "execute_result"
    }
   ],
   "source": [
    "# Reading in the data file\n",
    "data = pd.read_csv('projectTrain.csv')\n",
    "data.head()"
   ]
  },
  {
   "cell_type": "code",
   "execution_count": 3,
   "metadata": {},
   "outputs": [
    {
     "name": "stdout",
     "output_type": "stream",
     "text": [
      "This dataset has 2000 records and 94 features\n"
     ]
    }
   ],
   "source": [
    "# Taking a look at the data dimensions\n",
    "print ('This dataset has {} records and {} features'.format(data.shape[0], data.shape[1]))"
   ]
  },
  {
   "cell_type": "markdown",
   "metadata": {},
   "source": [
    "## Determining the Categorical Features"
   ]
  },
  {
   "cell_type": "code",
   "execution_count": 145,
   "metadata": {},
   "outputs": [],
   "source": [
    "#Gather all feature names\n",
    "possible_cat_features = np.array(list(data))\n",
    "\n",
    "feat_unique_vals = np.array([len(np.unique(data[i])) for i in possible_cat_features])"
   ]
  },
  {
   "cell_type": "markdown",
   "metadata": {},
   "source": [
    "Variables that contain more than 2 unique values could potentially be considered a categorical variable that we have to encode with one hot encoding. We want to only encode categorical variables that contain more than 2 unique values because those that are binary are already encoded. Therefore, if we were to encode these as well, they would lead to a misrepresentation of the number of categorical variables we have. If we set a limit to the number of unique values, we'll have a set of variables that we could individually check in the data dictionary. In this scenario we'll set the maximum unique value to 20."
   ]
  },
  {
   "cell_type": "code",
   "execution_count": 183,
   "metadata": {},
   "outputs": [],
   "source": [
    "possible_features = np.unique(possible_cat_features[(feat_unique_vals >2) & (feat_unique_vals < 20)])"
   ]
  },
  {
   "cell_type": "code",
   "execution_count": 184,
   "metadata": {},
   "outputs": [
    {
     "name": "stdout",
     "output_type": "stream",
     "text": [
      "These are the following variables that may require one hot encoding: \n",
      "(0, 'age_cat')\n",
      "(1, 'age_grpN')\n",
      "(2, 'idx_paytypN')\n",
      "(3, 'idx_prodtypeN')\n",
      "(4, 'num_er')\n",
      "(5, 'num_er_post')\n",
      "(6, 'num_ip')\n",
      "(7, 'num_ip_post')\n",
      "(8, 'pdc_cat')\n",
      "(9, 'pre_CCI')\n",
      "(10, 'pre_total_cat')\n",
      "(11, 'regionN')\n"
     ]
    }
   ],
   "source": [
    "print(\"These are the following variables that may require one hot encoding: \")\n",
    "count = 0\n",
    "for val in possible_features:\n",
    "    print((count,val) )\n",
    "    count = count+1"
   ]
  },
  {
   "cell_type": "markdown",
   "metadata": {},
   "source": [
    "### Potential Categorical Features That May Require One Hot Encoding \n",
    "\n",
    "- age_cat\n",
    "- age_grpN\n",
    "- idx_paytypB\n",
    "- idx_prodtypeN\n",
    "- num_er\n",
    "- num_er_post\n",
    "- num_ip\n",
    "- pdc_cat\n",
    "- pre_CCI\n",
    "- pre_total_cat\n",
    "- regionN\n",
    "\n",
    "After viewing the data dictionary, we see that num_er (number of visits), and num_ip (number of stays) are continuous variables, and additionaly we have to remove num_er_post because we will remove all variables related to the post index period to not affect our target variable `post_total_cost`."
   ]
  },
  {
   "cell_type": "code",
   "execution_count": 186,
   "metadata": {},
   "outputs": [],
   "source": [
    "index = [4,5,6,7]\n",
    "possible_features = np.delete(possible_features, index)"
   ]
  },
  {
   "cell_type": "code",
   "execution_count": 187,
   "metadata": {},
   "outputs": [
    {
     "data": {
      "text/plain": [
       "array(['age_cat', 'age_grpN', 'idx_paytypN', 'idx_prodtypeN', 'pdc_cat',\n",
       "       'pre_CCI', 'pre_total_cat', 'regionN'], dtype='<U26')"
      ]
     },
     "execution_count": 187,
     "metadata": {},
     "output_type": "execute_result"
    }
   ],
   "source": [
    "possible_features"
   ]
  },
  {
   "cell_type": "code",
   "execution_count": 189,
   "metadata": {},
   "outputs": [],
   "source": [
    "un_encoded = data[possible_features]"
   ]
  },
  {
   "cell_type": "code",
   "execution_count": 190,
   "metadata": {},
   "outputs": [
    {
     "data": {
      "text/html": [
       "<div>\n",
       "<style scoped>\n",
       "    .dataframe tbody tr th:only-of-type {\n",
       "        vertical-align: middle;\n",
       "    }\n",
       "\n",
       "    .dataframe tbody tr th {\n",
       "        vertical-align: top;\n",
       "    }\n",
       "\n",
       "    .dataframe thead th {\n",
       "        text-align: right;\n",
       "    }\n",
       "</style>\n",
       "<table border=\"1\" class=\"dataframe\">\n",
       "  <thead>\n",
       "    <tr style=\"text-align: right;\">\n",
       "      <th></th>\n",
       "      <th>age_cat</th>\n",
       "      <th>age_grpN</th>\n",
       "      <th>idx_paytypN</th>\n",
       "      <th>idx_prodtypeN</th>\n",
       "      <th>pdc_cat</th>\n",
       "      <th>pre_CCI</th>\n",
       "      <th>pre_total_cat</th>\n",
       "      <th>regionN</th>\n",
       "    </tr>\n",
       "  </thead>\n",
       "  <tbody>\n",
       "    <tr>\n",
       "      <th>0</th>\n",
       "      <td>1</td>\n",
       "      <td>0</td>\n",
       "      <td>0</td>\n",
       "      <td>1</td>\n",
       "      <td>3</td>\n",
       "      <td>1</td>\n",
       "      <td>6</td>\n",
       "      <td>2</td>\n",
       "    </tr>\n",
       "    <tr>\n",
       "      <th>1</th>\n",
       "      <td>1</td>\n",
       "      <td>0</td>\n",
       "      <td>3</td>\n",
       "      <td>1</td>\n",
       "      <td>1</td>\n",
       "      <td>0</td>\n",
       "      <td>3</td>\n",
       "      <td>2</td>\n",
       "    </tr>\n",
       "    <tr>\n",
       "      <th>2</th>\n",
       "      <td>0</td>\n",
       "      <td>0</td>\n",
       "      <td>0</td>\n",
       "      <td>2</td>\n",
       "      <td>1</td>\n",
       "      <td>0</td>\n",
       "      <td>8</td>\n",
       "      <td>2</td>\n",
       "    </tr>\n",
       "    <tr>\n",
       "      <th>3</th>\n",
       "      <td>0</td>\n",
       "      <td>0</td>\n",
       "      <td>0</td>\n",
       "      <td>1</td>\n",
       "      <td>0</td>\n",
       "      <td>0</td>\n",
       "      <td>9</td>\n",
       "      <td>2</td>\n",
       "    </tr>\n",
       "    <tr>\n",
       "      <th>4</th>\n",
       "      <td>3</td>\n",
       "      <td>1</td>\n",
       "      <td>0</td>\n",
       "      <td>2</td>\n",
       "      <td>3</td>\n",
       "      <td>1</td>\n",
       "      <td>7</td>\n",
       "      <td>2</td>\n",
       "    </tr>\n",
       "  </tbody>\n",
       "</table>\n",
       "</div>"
      ],
      "text/plain": [
       "   age_cat  age_grpN  idx_paytypN  idx_prodtypeN  pdc_cat  pre_CCI  \\\n",
       "0        1         0            0              1        3        1   \n",
       "1        1         0            3              1        1        0   \n",
       "2        0         0            0              2        1        0   \n",
       "3        0         0            0              1        0        0   \n",
       "4        3         1            0              2        3        1   \n",
       "\n",
       "   pre_total_cat  regionN  \n",
       "0              6        2  \n",
       "1              3        2  \n",
       "2              8        2  \n",
       "3              9        2  \n",
       "4              7        2  "
      ]
     },
     "execution_count": 190,
     "metadata": {},
     "output_type": "execute_result"
    }
   ],
   "source": [
    "label_encoder = preprocessing.LabelEncoder()\n",
    "cat_features2 = un_encoded.apply(label_encoder.fit_transform)\n",
    "cat_features2.head()"
   ]
  },
  {
   "cell_type": "code",
   "execution_count": 191,
   "metadata": {},
   "outputs": [],
   "source": [
    "def one_hot_encode(df_column, data):\n",
    "        feature = np.array(data[df_column])\n",
    "        feature = feature.reshape((2000, 1))\n",
    "        \n",
    "        enc = preprocessing.OneHotEncoder()\n",
    "        enc.fit(feature)\n",
    "        \n",
    "        #Transform the data\n",
    "        onehotlabels = enc.transform(feature).toarray()\n",
    "        no_cols = onehotlabels.shape[1]\n",
    "        labels = []\n",
    "        for ii in range(no_cols):\n",
    "            labels.append(df_column + str(ii))\n",
    "            \n",
    "        one_hot_encoded = pd.DataFrame(onehotlabels)\n",
    "        one_hot_encoded.columns = labels\n",
    "        \n",
    "        return one_hot_encoded"
   ]
  },
  {
   "cell_type": "code",
   "execution_count": 192,
   "metadata": {
    "scrolled": true
   },
   "outputs": [
    {
     "name": "stderr",
     "output_type": "stream",
     "text": [
      "C:\\Users\\edalr\\Anaconda3\\lib\\site-packages\\sklearn\\preprocessing\\_encoders.py:368: FutureWarning: The handling of integer data will change in version 0.22. Currently, the categories are determined based on the range [0, max(values)], while in the future they will be determined based on the unique values.\n",
      "If you want the future behaviour and silence this warning, you can specify \"categories='auto'\".\n",
      "In case you used a LabelEncoder before this OneHotEncoder to convert the categories to integers, then you can now use the OneHotEncoder directly.\n",
      "  warnings.warn(msg, FutureWarning)\n",
      "C:\\Users\\edalr\\Anaconda3\\lib\\site-packages\\sklearn\\preprocessing\\_encoders.py:368: FutureWarning: The handling of integer data will change in version 0.22. Currently, the categories are determined based on the range [0, max(values)], while in the future they will be determined based on the unique values.\n",
      "If you want the future behaviour and silence this warning, you can specify \"categories='auto'\".\n",
      "In case you used a LabelEncoder before this OneHotEncoder to convert the categories to integers, then you can now use the OneHotEncoder directly.\n",
      "  warnings.warn(msg, FutureWarning)\n",
      "C:\\Users\\edalr\\Anaconda3\\lib\\site-packages\\sklearn\\preprocessing\\_encoders.py:368: FutureWarning: The handling of integer data will change in version 0.22. Currently, the categories are determined based on the range [0, max(values)], while in the future they will be determined based on the unique values.\n",
      "If you want the future behaviour and silence this warning, you can specify \"categories='auto'\".\n",
      "In case you used a LabelEncoder before this OneHotEncoder to convert the categories to integers, then you can now use the OneHotEncoder directly.\n",
      "  warnings.warn(msg, FutureWarning)\n",
      "C:\\Users\\edalr\\Anaconda3\\lib\\site-packages\\sklearn\\preprocessing\\_encoders.py:368: FutureWarning: The handling of integer data will change in version 0.22. Currently, the categories are determined based on the range [0, max(values)], while in the future they will be determined based on the unique values.\n",
      "If you want the future behaviour and silence this warning, you can specify \"categories='auto'\".\n",
      "In case you used a LabelEncoder before this OneHotEncoder to convert the categories to integers, then you can now use the OneHotEncoder directly.\n",
      "  warnings.warn(msg, FutureWarning)\n",
      "C:\\Users\\edalr\\Anaconda3\\lib\\site-packages\\sklearn\\preprocessing\\_encoders.py:368: FutureWarning: The handling of integer data will change in version 0.22. Currently, the categories are determined based on the range [0, max(values)], while in the future they will be determined based on the unique values.\n",
      "If you want the future behaviour and silence this warning, you can specify \"categories='auto'\".\n",
      "In case you used a LabelEncoder before this OneHotEncoder to convert the categories to integers, then you can now use the OneHotEncoder directly.\n",
      "  warnings.warn(msg, FutureWarning)\n",
      "C:\\Users\\edalr\\Anaconda3\\lib\\site-packages\\sklearn\\preprocessing\\_encoders.py:368: FutureWarning: The handling of integer data will change in version 0.22. Currently, the categories are determined based on the range [0, max(values)], while in the future they will be determined based on the unique values.\n",
      "If you want the future behaviour and silence this warning, you can specify \"categories='auto'\".\n",
      "In case you used a LabelEncoder before this OneHotEncoder to convert the categories to integers, then you can now use the OneHotEncoder directly.\n",
      "  warnings.warn(msg, FutureWarning)\n",
      "C:\\Users\\edalr\\Anaconda3\\lib\\site-packages\\sklearn\\preprocessing\\_encoders.py:368: FutureWarning: The handling of integer data will change in version 0.22. Currently, the categories are determined based on the range [0, max(values)], while in the future they will be determined based on the unique values.\n",
      "If you want the future behaviour and silence this warning, you can specify \"categories='auto'\".\n",
      "In case you used a LabelEncoder before this OneHotEncoder to convert the categories to integers, then you can now use the OneHotEncoder directly.\n",
      "  warnings.warn(msg, FutureWarning)\n",
      "C:\\Users\\edalr\\Anaconda3\\lib\\site-packages\\sklearn\\preprocessing\\_encoders.py:368: FutureWarning: The handling of integer data will change in version 0.22. Currently, the categories are determined based on the range [0, max(values)], while in the future they will be determined based on the unique values.\n",
      "If you want the future behaviour and silence this warning, you can specify \"categories='auto'\".\n",
      "In case you used a LabelEncoder before this OneHotEncoder to convert the categories to integers, then you can now use the OneHotEncoder directly.\n",
      "  warnings.warn(msg, FutureWarning)\n"
     ]
    }
   ],
   "source": [
    "encoded = [one_hot_encode(i, cat_features2) for i in un_encoded.columns]"
   ]
  },
  {
   "cell_type": "code",
   "execution_count": 211,
   "metadata": {},
   "outputs": [],
   "source": [
    "encoded_cats = pd.DataFrame()"
   ]
  },
  {
   "cell_type": "code",
   "execution_count": 212,
   "metadata": {},
   "outputs": [],
   "source": [
    "for i in range(len(encoded)):\n",
    "    encoded_cats = pd.concat([encoded_cats, encoded[i]], axis=1)"
   ]
  },
  {
   "cell_type": "code",
   "execution_count": 213,
   "metadata": {},
   "outputs": [
    {
     "data": {
      "text/html": [
       "<div>\n",
       "<style scoped>\n",
       "    .dataframe tbody tr th:only-of-type {\n",
       "        vertical-align: middle;\n",
       "    }\n",
       "\n",
       "    .dataframe tbody tr th {\n",
       "        vertical-align: top;\n",
       "    }\n",
       "\n",
       "    .dataframe thead th {\n",
       "        text-align: right;\n",
       "    }\n",
       "</style>\n",
       "<table border=\"1\" class=\"dataframe\">\n",
       "  <thead>\n",
       "    <tr style=\"text-align: right;\">\n",
       "      <th></th>\n",
       "      <th>age_cat0</th>\n",
       "      <th>age_cat1</th>\n",
       "      <th>age_cat2</th>\n",
       "      <th>age_cat3</th>\n",
       "      <th>age_cat4</th>\n",
       "      <th>age_cat5</th>\n",
       "      <th>age_grpN0</th>\n",
       "      <th>age_grpN1</th>\n",
       "      <th>age_grpN2</th>\n",
       "      <th>idx_paytypN0</th>\n",
       "      <th>...</th>\n",
       "      <th>pre_total_cat4</th>\n",
       "      <th>pre_total_cat5</th>\n",
       "      <th>pre_total_cat6</th>\n",
       "      <th>pre_total_cat7</th>\n",
       "      <th>pre_total_cat8</th>\n",
       "      <th>pre_total_cat9</th>\n",
       "      <th>regionN0</th>\n",
       "      <th>regionN1</th>\n",
       "      <th>regionN2</th>\n",
       "      <th>regionN3</th>\n",
       "    </tr>\n",
       "  </thead>\n",
       "  <tbody>\n",
       "    <tr>\n",
       "      <th>0</th>\n",
       "      <td>0.0</td>\n",
       "      <td>1.0</td>\n",
       "      <td>0.0</td>\n",
       "      <td>0.0</td>\n",
       "      <td>0.0</td>\n",
       "      <td>0.0</td>\n",
       "      <td>1.0</td>\n",
       "      <td>0.0</td>\n",
       "      <td>0.0</td>\n",
       "      <td>1.0</td>\n",
       "      <td>...</td>\n",
       "      <td>0.0</td>\n",
       "      <td>0.0</td>\n",
       "      <td>1.0</td>\n",
       "      <td>0.0</td>\n",
       "      <td>0.0</td>\n",
       "      <td>0.0</td>\n",
       "      <td>0.0</td>\n",
       "      <td>0.0</td>\n",
       "      <td>1.0</td>\n",
       "      <td>0.0</td>\n",
       "    </tr>\n",
       "    <tr>\n",
       "      <th>1</th>\n",
       "      <td>0.0</td>\n",
       "      <td>1.0</td>\n",
       "      <td>0.0</td>\n",
       "      <td>0.0</td>\n",
       "      <td>0.0</td>\n",
       "      <td>0.0</td>\n",
       "      <td>1.0</td>\n",
       "      <td>0.0</td>\n",
       "      <td>0.0</td>\n",
       "      <td>0.0</td>\n",
       "      <td>...</td>\n",
       "      <td>0.0</td>\n",
       "      <td>0.0</td>\n",
       "      <td>0.0</td>\n",
       "      <td>0.0</td>\n",
       "      <td>0.0</td>\n",
       "      <td>0.0</td>\n",
       "      <td>0.0</td>\n",
       "      <td>0.0</td>\n",
       "      <td>1.0</td>\n",
       "      <td>0.0</td>\n",
       "    </tr>\n",
       "    <tr>\n",
       "      <th>2</th>\n",
       "      <td>1.0</td>\n",
       "      <td>0.0</td>\n",
       "      <td>0.0</td>\n",
       "      <td>0.0</td>\n",
       "      <td>0.0</td>\n",
       "      <td>0.0</td>\n",
       "      <td>1.0</td>\n",
       "      <td>0.0</td>\n",
       "      <td>0.0</td>\n",
       "      <td>1.0</td>\n",
       "      <td>...</td>\n",
       "      <td>0.0</td>\n",
       "      <td>0.0</td>\n",
       "      <td>0.0</td>\n",
       "      <td>0.0</td>\n",
       "      <td>1.0</td>\n",
       "      <td>0.0</td>\n",
       "      <td>0.0</td>\n",
       "      <td>0.0</td>\n",
       "      <td>1.0</td>\n",
       "      <td>0.0</td>\n",
       "    </tr>\n",
       "    <tr>\n",
       "      <th>3</th>\n",
       "      <td>1.0</td>\n",
       "      <td>0.0</td>\n",
       "      <td>0.0</td>\n",
       "      <td>0.0</td>\n",
       "      <td>0.0</td>\n",
       "      <td>0.0</td>\n",
       "      <td>1.0</td>\n",
       "      <td>0.0</td>\n",
       "      <td>0.0</td>\n",
       "      <td>1.0</td>\n",
       "      <td>...</td>\n",
       "      <td>0.0</td>\n",
       "      <td>0.0</td>\n",
       "      <td>0.0</td>\n",
       "      <td>0.0</td>\n",
       "      <td>0.0</td>\n",
       "      <td>1.0</td>\n",
       "      <td>0.0</td>\n",
       "      <td>0.0</td>\n",
       "      <td>1.0</td>\n",
       "      <td>0.0</td>\n",
       "    </tr>\n",
       "    <tr>\n",
       "      <th>4</th>\n",
       "      <td>0.0</td>\n",
       "      <td>0.0</td>\n",
       "      <td>0.0</td>\n",
       "      <td>1.0</td>\n",
       "      <td>0.0</td>\n",
       "      <td>0.0</td>\n",
       "      <td>0.0</td>\n",
       "      <td>1.0</td>\n",
       "      <td>0.0</td>\n",
       "      <td>1.0</td>\n",
       "      <td>...</td>\n",
       "      <td>0.0</td>\n",
       "      <td>0.0</td>\n",
       "      <td>0.0</td>\n",
       "      <td>1.0</td>\n",
       "      <td>0.0</td>\n",
       "      <td>0.0</td>\n",
       "      <td>0.0</td>\n",
       "      <td>0.0</td>\n",
       "      <td>1.0</td>\n",
       "      <td>0.0</td>\n",
       "    </tr>\n",
       "  </tbody>\n",
       "</table>\n",
       "<p>5 rows × 46 columns</p>\n",
       "</div>"
      ],
      "text/plain": [
       "   age_cat0  age_cat1  age_cat2  age_cat3  age_cat4  age_cat5  age_grpN0  \\\n",
       "0       0.0       1.0       0.0       0.0       0.0       0.0        1.0   \n",
       "1       0.0       1.0       0.0       0.0       0.0       0.0        1.0   \n",
       "2       1.0       0.0       0.0       0.0       0.0       0.0        1.0   \n",
       "3       1.0       0.0       0.0       0.0       0.0       0.0        1.0   \n",
       "4       0.0       0.0       0.0       1.0       0.0       0.0        0.0   \n",
       "\n",
       "   age_grpN1  age_grpN2  idx_paytypN0    ...     pre_total_cat4  \\\n",
       "0        0.0        0.0           1.0    ...                0.0   \n",
       "1        0.0        0.0           0.0    ...                0.0   \n",
       "2        0.0        0.0           1.0    ...                0.0   \n",
       "3        0.0        0.0           1.0    ...                0.0   \n",
       "4        1.0        0.0           1.0    ...                0.0   \n",
       "\n",
       "   pre_total_cat5  pre_total_cat6  pre_total_cat7  pre_total_cat8  \\\n",
       "0             0.0             1.0             0.0             0.0   \n",
       "1             0.0             0.0             0.0             0.0   \n",
       "2             0.0             0.0             0.0             1.0   \n",
       "3             0.0             0.0             0.0             0.0   \n",
       "4             0.0             0.0             1.0             0.0   \n",
       "\n",
       "   pre_total_cat9  regionN0  regionN1  regionN2  regionN3  \n",
       "0             0.0       0.0       0.0       1.0       0.0  \n",
       "1             0.0       0.0       0.0       1.0       0.0  \n",
       "2             0.0       0.0       0.0       1.0       0.0  \n",
       "3             1.0       0.0       0.0       1.0       0.0  \n",
       "4             0.0       0.0       0.0       1.0       0.0  \n",
       "\n",
       "[5 rows x 46 columns]"
      ]
     },
     "execution_count": 213,
     "metadata": {},
     "output_type": "execute_result"
    }
   ],
   "source": [
    "encoded_cats.head()"
   ]
  },
  {
   "cell_type": "code",
   "execution_count": 214,
   "metadata": {},
   "outputs": [
    {
     "data": {
      "text/plain": [
       "(2000, 46)"
      ]
     },
     "execution_count": 214,
     "metadata": {},
     "output_type": "execute_result"
    }
   ],
   "source": [
    "encoded_cats.shape"
   ]
  },
  {
   "cell_type": "markdown",
   "metadata": {},
   "source": [
    "Now we must include the additional binary categorical variables with our encoded categorical variables. We can do this by viewing all the total categorical variables that only contain 2 unique values."
   ]
  },
  {
   "cell_type": "code",
   "execution_count": 224,
   "metadata": {},
   "outputs": [],
   "source": [
    "other_cats = np.unique(possible_cat_features[(feat_unique_vals < 3)])"
   ]
  },
  {
   "cell_type": "code",
   "execution_count": 225,
   "metadata": {},
   "outputs": [],
   "source": [
    "other_cats = np.setdiff1d(other_cats, possible_features)"
   ]
  },
  {
   "cell_type": "code",
   "execution_count": 226,
   "metadata": {},
   "outputs": [],
   "source": [
    "other_cats = data[other_cats]"
   ]
  },
  {
   "cell_type": "code",
   "execution_count": 228,
   "metadata": {},
   "outputs": [],
   "source": [
    "other_cats = [other_cats.columns[[not i for i in [bool(re.search('post', x)) for x in other_cats.columns]]]]"
   ]
  },
  {
   "cell_type": "code",
   "execution_count": 232,
   "metadata": {},
   "outputs": [],
   "source": [
    "other_cats = np.array(other_cats)"
   ]
  },
  {
   "cell_type": "code",
   "execution_count": 234,
   "metadata": {},
   "outputs": [
    {
     "data": {
      "text/plain": [
       "array(['ALCOHOL_DRUG', 'ASTHMA', 'CARDIAC_ARRYTHMIA', 'CARDIAC_VALVULAR',\n",
       "       'CEREBROVASCULAR', 'CHF', 'CHRONIC_KIDNEY', 'CHRONIC_PAIN_FIBRO',\n",
       "       'COPD', 'Cancer_In_Situ', 'DEMENTIA', 'DEPRESSION', 'DIABETES',\n",
       "       'DYSLIPIDEMIA', 'EPILEPSY_SEIZURE', 'HEPATITIS', 'HIV_AIDS',\n",
       "       'HYPERTENSION', 'LIVER_GALLBLADDER_PANCREAS', 'Leukemia_Lymphoma',\n",
       "       'MI_CAD', 'Metastatic', 'OSTEOARTHRITIS', 'Other_Cancer',\n",
       "       'PARALYSIS', 'PEPTIC_ULCER', 'PERIPHERAL_VASCULAR',\n",
       "       'RENAL_FAILURE', 'RHEUMATOLOGIC', 'SCHIZOPHRENIA',\n",
       "       'SLEEP_DISORDERS', 'SMOKING', 'Solid_Tumor', 'THYROID',\n",
       "       'drug_class', 'pdc_80_flag', 'pre_er_flag', 'pre_ip_flag', 'sexN'],\n",
       "      dtype=object)"
      ]
     },
     "execution_count": 234,
     "metadata": {},
     "output_type": "execute_result"
    }
   ],
   "source": [
    "other_cats[0]\n"
   ]
  },
  {
   "cell_type": "code",
   "execution_count": 235,
   "metadata": {},
   "outputs": [
    {
     "data": {
      "text/plain": [
       "(2000, 85)"
      ]
     },
     "execution_count": 235,
     "metadata": {},
     "output_type": "execute_result"
    }
   ],
   "source": [
    "cat_vars = pd.concat([data[other_cats[0]], encoded_cats], axis= 1)\n",
    "cat_vars.shape"
   ]
  },
  {
   "cell_type": "markdown",
   "metadata": {},
   "source": [
    "## Determining the continuous variables"
   ]
  },
  {
   "cell_type": "markdown",
   "metadata": {},
   "source": [
    "We can determine the same process for our continuous variables by simply removing all cate"
   ]
  },
  {
   "cell_type": "code",
   "execution_count": 247,
   "metadata": {},
   "outputs": [],
   "source": [
    "non_continuous = list(possible_features) + list(other_cats[0])\n",
    "non_continuous.append('post_total_cost')"
   ]
  },
  {
   "cell_type": "code",
   "execution_count": null,
   "metadata": {},
   "outputs": [],
   "source": []
  },
  {
   "cell_type": "code",
   "execution_count": 286,
   "metadata": {
    "scrolled": true
   },
   "outputs": [],
   "source": [
    "continuous_df = data.drop(non_continuous, axis=1)\n",
    "\n",
    "#remove post index variables\n",
    "cont_col = [continuous_df.columns[[not i for i in [bool(re.search('post', x)) for x in continuous_df.columns]]]]\n"
   ]
  },
  {
   "cell_type": "code",
   "execution_count": 287,
   "metadata": {},
   "outputs": [],
   "source": [
    "continuous_df = continuous_df[cont_col[0]]"
   ]
  },
  {
   "cell_type": "code",
   "execution_count": 288,
   "metadata": {
    "scrolled": true
   },
   "outputs": [],
   "source": [
    "#Store target y\n",
    "target_var = data['post_total_cost']"
   ]
  },
  {
   "cell_type": "code",
   "execution_count": 289,
   "metadata": {
    "scrolled": true
   },
   "outputs": [
    {
     "data": {
      "text/html": [
       "<div>\n",
       "<style scoped>\n",
       "    .dataframe tbody tr th:only-of-type {\n",
       "        vertical-align: middle;\n",
       "    }\n",
       "\n",
       "    .dataframe tbody tr th {\n",
       "        vertical-align: top;\n",
       "    }\n",
       "\n",
       "    .dataframe thead th {\n",
       "        text-align: right;\n",
       "    }\n",
       "</style>\n",
       "<table border=\"1\" class=\"dataframe\">\n",
       "  <thead>\n",
       "    <tr style=\"text-align: right;\">\n",
       "      <th></th>\n",
       "      <th>pdc</th>\n",
       "      <th>idx_copay</th>\n",
       "      <th>log_idx_copay</th>\n",
       "      <th>pre_ip_cost</th>\n",
       "      <th>pre_er_cost</th>\n",
       "      <th>pre_rx_cost</th>\n",
       "      <th>pre_op_cost</th>\n",
       "      <th>pre_total_cost</th>\n",
       "      <th>pre_medical_cost</th>\n",
       "      <th>num_ip</th>\n",
       "      <th>...</th>\n",
       "      <th>pre_total_cat4</th>\n",
       "      <th>pre_total_cat5</th>\n",
       "      <th>pre_total_cat6</th>\n",
       "      <th>pre_total_cat7</th>\n",
       "      <th>pre_total_cat8</th>\n",
       "      <th>pre_total_cat9</th>\n",
       "      <th>regionN0</th>\n",
       "      <th>regionN1</th>\n",
       "      <th>regionN2</th>\n",
       "      <th>regionN3</th>\n",
       "    </tr>\n",
       "  </thead>\n",
       "  <tbody>\n",
       "    <tr>\n",
       "      <th>0</th>\n",
       "      <td>0.333333</td>\n",
       "      <td>40.474500</td>\n",
       "      <td>3.700672</td>\n",
       "      <td>0.000000</td>\n",
       "      <td>0.0</td>\n",
       "      <td>3015.548793</td>\n",
       "      <td>1626.271037</td>\n",
       "      <td>4641.819829</td>\n",
       "      <td>1626.271037</td>\n",
       "      <td>0</td>\n",
       "      <td>...</td>\n",
       "      <td>0.0</td>\n",
       "      <td>0.0</td>\n",
       "      <td>1.0</td>\n",
       "      <td>0.0</td>\n",
       "      <td>0.0</td>\n",
       "      <td>0.0</td>\n",
       "      <td>0.0</td>\n",
       "      <td>0.0</td>\n",
       "      <td>1.0</td>\n",
       "      <td>0.0</td>\n",
       "    </tr>\n",
       "    <tr>\n",
       "      <th>1</th>\n",
       "      <td>0.866667</td>\n",
       "      <td>4.060471</td>\n",
       "      <td>1.401299</td>\n",
       "      <td>0.000000</td>\n",
       "      <td>0.0</td>\n",
       "      <td>720.788173</td>\n",
       "      <td>479.349400</td>\n",
       "      <td>1200.137573</td>\n",
       "      <td>479.349400</td>\n",
       "      <td>0</td>\n",
       "      <td>...</td>\n",
       "      <td>0.0</td>\n",
       "      <td>0.0</td>\n",
       "      <td>0.0</td>\n",
       "      <td>0.0</td>\n",
       "      <td>0.0</td>\n",
       "      <td>0.0</td>\n",
       "      <td>0.0</td>\n",
       "      <td>0.0</td>\n",
       "      <td>1.0</td>\n",
       "      <td>0.0</td>\n",
       "    </tr>\n",
       "    <tr>\n",
       "      <th>2</th>\n",
       "      <td>0.938889</td>\n",
       "      <td>0.010000</td>\n",
       "      <td>-4.605170</td>\n",
       "      <td>9794.292309</td>\n",
       "      <td>0.0</td>\n",
       "      <td>195.891492</td>\n",
       "      <td>781.502660</td>\n",
       "      <td>10771.686460</td>\n",
       "      <td>10575.794970</td>\n",
       "      <td>1</td>\n",
       "      <td>...</td>\n",
       "      <td>0.0</td>\n",
       "      <td>0.0</td>\n",
       "      <td>0.0</td>\n",
       "      <td>0.0</td>\n",
       "      <td>1.0</td>\n",
       "      <td>0.0</td>\n",
       "      <td>0.0</td>\n",
       "      <td>0.0</td>\n",
       "      <td>1.0</td>\n",
       "      <td>0.0</td>\n",
       "    </tr>\n",
       "    <tr>\n",
       "      <th>3</th>\n",
       "      <td>0.077778</td>\n",
       "      <td>10.203185</td>\n",
       "      <td>2.322700</td>\n",
       "      <td>43476.276460</td>\n",
       "      <td>0.0</td>\n",
       "      <td>105.816329</td>\n",
       "      <td>186.932041</td>\n",
       "      <td>43769.024830</td>\n",
       "      <td>43663.208500</td>\n",
       "      <td>2</td>\n",
       "      <td>...</td>\n",
       "      <td>0.0</td>\n",
       "      <td>0.0</td>\n",
       "      <td>0.0</td>\n",
       "      <td>0.0</td>\n",
       "      <td>0.0</td>\n",
       "      <td>1.0</td>\n",
       "      <td>0.0</td>\n",
       "      <td>0.0</td>\n",
       "      <td>1.0</td>\n",
       "      <td>0.0</td>\n",
       "    </tr>\n",
       "    <tr>\n",
       "      <th>4</th>\n",
       "      <td>0.444444</td>\n",
       "      <td>4.050485</td>\n",
       "      <td>1.398837</td>\n",
       "      <td>0.000000</td>\n",
       "      <td>0.0</td>\n",
       "      <td>3895.769588</td>\n",
       "      <td>2302.981377</td>\n",
       "      <td>6198.750965</td>\n",
       "      <td>2302.981377</td>\n",
       "      <td>0</td>\n",
       "      <td>...</td>\n",
       "      <td>0.0</td>\n",
       "      <td>0.0</td>\n",
       "      <td>0.0</td>\n",
       "      <td>1.0</td>\n",
       "      <td>0.0</td>\n",
       "      <td>0.0</td>\n",
       "      <td>0.0</td>\n",
       "      <td>0.0</td>\n",
       "      <td>1.0</td>\n",
       "      <td>0.0</td>\n",
       "    </tr>\n",
       "  </tbody>\n",
       "</table>\n",
       "<p>5 rows × 72 columns</p>\n",
       "</div>"
      ],
      "text/plain": [
       "        pdc  idx_copay  log_idx_copay   pre_ip_cost  pre_er_cost  pre_rx_cost  \\\n",
       "0  0.333333  40.474500       3.700672      0.000000          0.0  3015.548793   \n",
       "1  0.866667   4.060471       1.401299      0.000000          0.0   720.788173   \n",
       "2  0.938889   0.010000      -4.605170   9794.292309          0.0   195.891492   \n",
       "3  0.077778  10.203185       2.322700  43476.276460          0.0   105.816329   \n",
       "4  0.444444   4.050485       1.398837      0.000000          0.0  3895.769588   \n",
       "\n",
       "   pre_op_cost  pre_total_cost  pre_medical_cost  num_ip    ...     \\\n",
       "0  1626.271037     4641.819829       1626.271037       0    ...      \n",
       "1   479.349400     1200.137573        479.349400       0    ...      \n",
       "2   781.502660    10771.686460      10575.794970       1    ...      \n",
       "3   186.932041    43769.024830      43663.208500       2    ...      \n",
       "4  2302.981377     6198.750965       2302.981377       0    ...      \n",
       "\n",
       "   pre_total_cat4  pre_total_cat5  pre_total_cat6  pre_total_cat7  \\\n",
       "0             0.0             0.0             1.0             0.0   \n",
       "1             0.0             0.0             0.0             0.0   \n",
       "2             0.0             0.0             0.0             0.0   \n",
       "3             0.0             0.0             0.0             0.0   \n",
       "4             0.0             0.0             0.0             1.0   \n",
       "\n",
       "   pre_total_cat8  pre_total_cat9  regionN0  regionN1  regionN2  regionN3  \n",
       "0             0.0             0.0       0.0       0.0       1.0       0.0  \n",
       "1             0.0             0.0       0.0       0.0       1.0       0.0  \n",
       "2             1.0             0.0       0.0       0.0       1.0       0.0  \n",
       "3             0.0             1.0       0.0       0.0       1.0       0.0  \n",
       "4             0.0             0.0       0.0       0.0       1.0       0.0  \n",
       "\n",
       "[5 rows x 72 columns]"
      ]
     },
     "execution_count": 289,
     "metadata": {},
     "output_type": "execute_result"
    }
   ],
   "source": [
    "all_features = pd.concat([continuous_df, encoded_cats], axis=1)\n",
    "all_features.head()"
   ]
  },
  {
   "cell_type": "code",
   "execution_count": 290,
   "metadata": {},
   "outputs": [],
   "source": [
    "#Drop NA values\n",
    "all_features = pd.concat([all_features, target_var], axis=1)\n",
    "all_features.dropna(inplace=True)"
   ]
  },
  {
   "cell_type": "code",
   "execution_count": 292,
   "metadata": {
    "scrolled": true
   },
   "outputs": [],
   "source": [
    "from sklearn.model_selection import train_test_split\n",
    "X_train, X_test, y_train, y_test = train_test_split(all_features.drop(columns = ['post_total_cost']), all_features['post_total_cost'], test_size=0.2, random_state=42)"
   ]
  },
  {
   "cell_type": "code",
   "execution_count": 293,
   "metadata": {},
   "outputs": [],
   "source": [
    "X_train.to_csv(\"X_train.csv\", index = False)\n",
    "X_test.to_csv(\"X_test.csv\", index = False)\n",
    "y_train.to_csv(\"y_train.csv\", index = False)\n",
    "y_test.to_csv(\"y_test.csv\", index = False)"
   ]
  },
  {
   "cell_type": "markdown",
   "metadata": {},
   "source": [
    "### Use R for Feature Selection Using LASSO"
   ]
  },
  {
   "cell_type": "code",
   "execution_count": null,
   "metadata": {},
   "outputs": [],
   "source": []
  }
 ],
 "metadata": {
  "kernelspec": {
   "display_name": "Python 3",
   "language": "python",
   "name": "python3"
  },
  "language_info": {
   "codemirror_mode": {
    "name": "ipython",
    "version": 3
   },
   "file_extension": ".py",
   "mimetype": "text/x-python",
   "name": "python",
   "nbconvert_exporter": "python",
   "pygments_lexer": "ipython3",
   "version": "3.6.6"
  }
 },
 "nbformat": 4,
 "nbformat_minor": 2
}
