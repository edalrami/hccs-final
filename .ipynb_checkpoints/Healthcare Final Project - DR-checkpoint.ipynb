{
 "cells": [
  {
   "cell_type": "markdown",
   "metadata": {},
   "source": [
    "# Healthcare Case Studies Report\n",
    "- Darshil Desai, Edwin Ramirez, Rashi Saxena\n",
    "\n",
    "(D combined with rupdate) 5/1/19"
   ]
  },
  {
   "cell_type": "markdown",
   "metadata": {},
   "source": [
    "<h1 id=\"tocheading\">Table of Contents</h1>\n",
    "<br>\n",
    "<div id=\"toc\">\n",
    "\n",
    "<h2> test </h2>\n",
    "\n",
    "</div>"
   ]
  },
  {
   "cell_type": "code",
   "execution_count": 3,
   "metadata": {},
   "outputs": [
    {
     "data": {
      "application/javascript": [
       "$.getScript('https://kmahelona.github.io/ipython_notebook_goodies/ipython_notebook_toc.js')\n",
       "// Run this to refresh the table of contents\n"
      ],
      "text/plain": [
       "<IPython.core.display.Javascript object>"
      ]
     },
     "metadata": {},
     "output_type": "display_data"
    }
   ],
   "source": [
    "%%javascript\n",
    "$.getScript('https://kmahelona.github.io/ipython_notebook_goodies/ipython_notebook_toc.js')\n",
    "// Run this to refresh the table of contents"
   ]
  },
  {
   "cell_type": "code",
   "execution_count": 4,
   "metadata": {},
   "outputs": [
    {
     "ename": "ModuleNotFoundError",
     "evalue": "No module named 'stepwise_regression'",
     "output_type": "error",
     "traceback": [
      "\u001b[1;31m---------------------------------------------------------------------------\u001b[0m",
      "\u001b[1;31mModuleNotFoundError\u001b[0m                       Traceback (most recent call last)",
      "\u001b[1;32m<ipython-input-4-bcd8ed8fdf56>\u001b[0m in \u001b[0;36m<module>\u001b[1;34m\u001b[0m\n\u001b[0;32m     18\u001b[0m \u001b[1;32mimport\u001b[0m \u001b[0mre\u001b[0m\u001b[1;33m\u001b[0m\u001b[0m\n\u001b[0;32m     19\u001b[0m \u001b[1;33m\u001b[0m\u001b[0m\n\u001b[1;32m---> 20\u001b[1;33m \u001b[1;32mfrom\u001b[0m \u001b[0mstepwise_regression\u001b[0m \u001b[1;32mimport\u001b[0m \u001b[0mstepwise_regression\u001b[0m  \u001b[1;31m# !pip install stepwise-regression\u001b[0m\u001b[1;33m\u001b[0m\u001b[0m\n\u001b[0m\u001b[0;32m     21\u001b[0m \u001b[1;32mimport\u001b[0m \u001b[0mstatsmodels\u001b[0m\u001b[1;33m.\u001b[0m\u001b[0mformula\u001b[0m\u001b[1;33m.\u001b[0m\u001b[0mapi\u001b[0m \u001b[1;32mas\u001b[0m \u001b[0msmf\u001b[0m\u001b[1;33m\u001b[0m\u001b[0m\n\u001b[0;32m     22\u001b[0m \u001b[1;32mimport\u001b[0m \u001b[0mstatsmodels\u001b[0m\u001b[1;33m.\u001b[0m\u001b[0mstats\u001b[0m\u001b[1;33m.\u001b[0m\u001b[0mapi\u001b[0m \u001b[1;32mas\u001b[0m \u001b[0msms\u001b[0m\u001b[1;33m\u001b[0m\u001b[0m\n",
      "\u001b[1;31mModuleNotFoundError\u001b[0m: No module named 'stepwise_regression'"
     ]
    }
   ],
   "source": [
    "import pandas as pd\n",
    "import numpy as np\n",
    "import matplotlib.pyplot as plt\n",
    "\n",
    "from sklearn.model_selection import train_test_split, cross_val_score\n",
    "from sklearn.feature_selection import f_classif, chi2, SelectKBest\n",
    "from sklearn.metrics import accuracy_score, confusion_matrix, f1_score,roc_auc_score, mean_squared_error\n",
    "from sklearn.naive_bayes import GaussianNB\n",
    "from sklearn import preprocessing\n",
    "from sklearn.linear_model import LogisticRegression, LinearRegression\n",
    "from sklearn.model_selection import train_test_split\n",
    "from sklearn.neighbors import KNeighborsClassifier\n",
    "\n",
    "from scipy.stats import chi2_contingency\n",
    "from scipy import stats\n",
    "\n",
    "import seaborn as sns\n",
    "import re\n",
    "\n",
    "from stepwise_regression import stepwise_regression  # !pip install stepwise-regression\n",
    "import statsmodels.formula.api as smf\n",
    "import statsmodels.stats.api as sms"
   ]
  },
  {
   "cell_type": "markdown",
   "metadata": {},
   "source": [
    "# Project Overview\n",
    "\n",
    "In this project we dive deep into the depths of the healthcare dataset and explore insightful relationships between the different types of data provided and pursue building predictive models\n",
    "\n",
    "\n",
    "\n",
    "\n",
    "We will be predicting: \n",
    "- Regression: Predict post_medical_cost\n",
    "- Classifications - Logistic, KNN and NB: to predict pdc_80_flag"
   ]
  },
  {
   "cell_type": "markdown",
   "metadata": {},
   "source": [
    "# Exploring the Dataset\n",
    "\n",
    "Before we dive deeper into model building, we need to explore our dataset. [ADD MORE]\n"
   ]
  },
  {
   "cell_type": "code",
   "execution_count": 5,
   "metadata": {},
   "outputs": [
    {
     "data": {
      "text/html": [
       "<div>\n",
       "<style scoped>\n",
       "    .dataframe tbody tr th:only-of-type {\n",
       "        vertical-align: middle;\n",
       "    }\n",
       "\n",
       "    .dataframe tbody tr th {\n",
       "        vertical-align: top;\n",
       "    }\n",
       "\n",
       "    .dataframe thead th {\n",
       "        text-align: right;\n",
       "    }\n",
       "</style>\n",
       "<table border=\"1\" class=\"dataframe\">\n",
       "  <thead>\n",
       "    <tr style=\"text-align: right;\">\n",
       "      <th></th>\n",
       "      <th>pdc</th>\n",
       "      <th>num_ip_post</th>\n",
       "      <th>total_los_post</th>\n",
       "      <th>num_op_post</th>\n",
       "      <th>num_er_post</th>\n",
       "      <th>num_ndc_post</th>\n",
       "      <th>num_gpi6_post</th>\n",
       "      <th>adjust_total_30d_post</th>\n",
       "      <th>generic_rate_post</th>\n",
       "      <th>post_ip_flag</th>\n",
       "      <th>...</th>\n",
       "      <th>generic_cost</th>\n",
       "      <th>brand_cost</th>\n",
       "      <th>ratio_G_total_cost</th>\n",
       "      <th>numofgen_post</th>\n",
       "      <th>numofbrand_post</th>\n",
       "      <th>generic_cost_post</th>\n",
       "      <th>brand_cost_post</th>\n",
       "      <th>ratio_G_total_cost_post</th>\n",
       "      <th>pdc_80_flag</th>\n",
       "      <th>drug_class</th>\n",
       "    </tr>\n",
       "  </thead>\n",
       "  <tbody>\n",
       "    <tr>\n",
       "      <th>0</th>\n",
       "      <td>0.333333</td>\n",
       "      <td>0</td>\n",
       "      <td>0</td>\n",
       "      <td>4</td>\n",
       "      <td>0</td>\n",
       "      <td>15</td>\n",
       "      <td>5</td>\n",
       "      <td>14.466667</td>\n",
       "      <td>0.101382</td>\n",
       "      <td>0</td>\n",
       "      <td>...</td>\n",
       "      <td>30.621563</td>\n",
       "      <td>2984.927229</td>\n",
       "      <td>0.010155</td>\n",
       "      <td>2</td>\n",
       "      <td>13</td>\n",
       "      <td>196.359216</td>\n",
       "      <td>3001.501507</td>\n",
       "      <td>0.061403</td>\n",
       "      <td>0</td>\n",
       "      <td>*ANTIDIABETICS*</td>\n",
       "    </tr>\n",
       "    <tr>\n",
       "      <th>1</th>\n",
       "      <td>0.866667</td>\n",
       "      <td>0</td>\n",
       "      <td>0</td>\n",
       "      <td>5</td>\n",
       "      <td>0</td>\n",
       "      <td>16</td>\n",
       "      <td>4</td>\n",
       "      <td>18.000000</td>\n",
       "      <td>0.888889</td>\n",
       "      <td>0</td>\n",
       "      <td>...</td>\n",
       "      <td>720.788173</td>\n",
       "      <td>0.000000</td>\n",
       "      <td>1.000000</td>\n",
       "      <td>14</td>\n",
       "      <td>2</td>\n",
       "      <td>671.755173</td>\n",
       "      <td>735.661568</td>\n",
       "      <td>0.477297</td>\n",
       "      <td>1</td>\n",
       "      <td>*ANTIDIABETICS*</td>\n",
       "    </tr>\n",
       "    <tr>\n",
       "      <th>2</th>\n",
       "      <td>0.938889</td>\n",
       "      <td>0</td>\n",
       "      <td>0</td>\n",
       "      <td>7</td>\n",
       "      <td>0</td>\n",
       "      <td>11</td>\n",
       "      <td>4</td>\n",
       "      <td>8.600000</td>\n",
       "      <td>1.000000</td>\n",
       "      <td>0</td>\n",
       "      <td>...</td>\n",
       "      <td>179.538533</td>\n",
       "      <td>0.000000</td>\n",
       "      <td>1.000000</td>\n",
       "      <td>11</td>\n",
       "      <td>0</td>\n",
       "      <td>171.446621</td>\n",
       "      <td>0.000000</td>\n",
       "      <td>1.000000</td>\n",
       "      <td>1</td>\n",
       "      <td>*ANTICOAGULANTS*</td>\n",
       "    </tr>\n",
       "    <tr>\n",
       "      <th>3</th>\n",
       "      <td>0.077778</td>\n",
       "      <td>1</td>\n",
       "      <td>12</td>\n",
       "      <td>40</td>\n",
       "      <td>0</td>\n",
       "      <td>5</td>\n",
       "      <td>5</td>\n",
       "      <td>2.033333</td>\n",
       "      <td>1.000000</td>\n",
       "      <td>1</td>\n",
       "      <td>...</td>\n",
       "      <td>105.816329</td>\n",
       "      <td>0.000000</td>\n",
       "      <td>1.000000</td>\n",
       "      <td>5</td>\n",
       "      <td>0</td>\n",
       "      <td>335.826436</td>\n",
       "      <td>0.000000</td>\n",
       "      <td>1.000000</td>\n",
       "      <td>0</td>\n",
       "      <td>*ANTICOAGULANTS*</td>\n",
       "    </tr>\n",
       "    <tr>\n",
       "      <th>4</th>\n",
       "      <td>0.444444</td>\n",
       "      <td>0</td>\n",
       "      <td>0</td>\n",
       "      <td>12</td>\n",
       "      <td>1</td>\n",
       "      <td>15</td>\n",
       "      <td>9</td>\n",
       "      <td>14.833333</td>\n",
       "      <td>0.528090</td>\n",
       "      <td>0</td>\n",
       "      <td>...</td>\n",
       "      <td>630.173638</td>\n",
       "      <td>3265.595950</td>\n",
       "      <td>0.161758</td>\n",
       "      <td>8</td>\n",
       "      <td>7</td>\n",
       "      <td>75.988845</td>\n",
       "      <td>2054.400835</td>\n",
       "      <td>0.035669</td>\n",
       "      <td>0</td>\n",
       "      <td>*ANTIDIABETICS*</td>\n",
       "    </tr>\n",
       "  </tbody>\n",
       "</table>\n",
       "<p>5 rows × 94 columns</p>\n",
       "</div>"
      ],
      "text/plain": [
       "        pdc  num_ip_post  total_los_post  num_op_post  num_er_post  \\\n",
       "0  0.333333            0               0            4            0   \n",
       "1  0.866667            0               0            5            0   \n",
       "2  0.938889            0               0            7            0   \n",
       "3  0.077778            1              12           40            0   \n",
       "4  0.444444            0               0           12            1   \n",
       "\n",
       "   num_ndc_post  num_gpi6_post  adjust_total_30d_post  generic_rate_post  \\\n",
       "0            15              5              14.466667           0.101382   \n",
       "1            16              4              18.000000           0.888889   \n",
       "2            11              4               8.600000           1.000000   \n",
       "3             5              5               2.033333           1.000000   \n",
       "4            15              9              14.833333           0.528090   \n",
       "\n",
       "   post_ip_flag        ...         generic_cost   brand_cost  \\\n",
       "0             0        ...            30.621563  2984.927229   \n",
       "1             0        ...           720.788173     0.000000   \n",
       "2             0        ...           179.538533     0.000000   \n",
       "3             1        ...           105.816329     0.000000   \n",
       "4             0        ...           630.173638  3265.595950   \n",
       "\n",
       "   ratio_G_total_cost  numofgen_post  numofbrand_post  generic_cost_post  \\\n",
       "0            0.010155              2               13         196.359216   \n",
       "1            1.000000             14                2         671.755173   \n",
       "2            1.000000             11                0         171.446621   \n",
       "3            1.000000              5                0         335.826436   \n",
       "4            0.161758              8                7          75.988845   \n",
       "\n",
       "   brand_cost_post  ratio_G_total_cost_post  pdc_80_flag        drug_class  \n",
       "0      3001.501507                 0.061403            0   *ANTIDIABETICS*  \n",
       "1       735.661568                 0.477297            1   *ANTIDIABETICS*  \n",
       "2         0.000000                 1.000000            1  *ANTICOAGULANTS*  \n",
       "3         0.000000                 1.000000            0  *ANTICOAGULANTS*  \n",
       "4      2054.400835                 0.035669            0   *ANTIDIABETICS*  \n",
       "\n",
       "[5 rows x 94 columns]"
      ]
     },
     "execution_count": 5,
     "metadata": {},
     "output_type": "execute_result"
    }
   ],
   "source": [
    "# Reading in the data file\n",
    "data = pd.read_csv('projectTrain.csv')\n",
    "data.head()"
   ]
  },
  {
   "cell_type": "code",
   "execution_count": 4,
   "metadata": {},
   "outputs": [
    {
     "name": "stdout",
     "output_type": "stream",
     "text": [
      "This dataset has 2000 records and 94 features\n"
     ]
    }
   ],
   "source": [
    "# Taking a look at the data dimensions\n",
    "print ('This dataset has {} records and {} features'.format(data.shape[0], data.shape[1]))"
   ]
  },
  {
   "cell_type": "code",
   "execution_count": 5,
   "metadata": {},
   "outputs": [
    {
     "name": "stdout",
     "output_type": "stream",
     "text": [
      "Predictor variable for the regression problem: post_medical_cost & for the classification problem: pdc_80_flag\n"
     ]
    }
   ],
   "source": [
    "# Features in focus\n",
    "print ('Predictor variable for the regression problem: post_medical_cost & for the classification problem: pdc_80_flag' )"
   ]
  },
  {
   "cell_type": "markdown",
   "metadata": {},
   "source": [
    "## Creating Datasets\n",
    "\n",
    "In this section we will subset the dataframe and select the features we deem appropriate to further this analysis. Note that these features are not final and among these features there will be several that will not be selected for the machine learning models. In the \"Feature Selection\" section of this project, we will employ the use of various statistical techniques to determine the appropriateness of the same. "
   ]
  },
  {
   "cell_type": "code",
   "execution_count": 6,
   "metadata": {},
   "outputs": [],
   "source": [
    "def create_data(problem_type, data):\n",
    "    \"\"\"        \n",
    "    Returns the continuous AND categorical datasets for either the categorical or continuous problem\n",
    "    \n",
    "    Parameters\n",
    "    -------------\n",
    "    : problem_type: enter either 'class' for classification or 'reg' for regression\n",
    "    : data: the raw dataset provided to us    \n",
    "    \n",
    "    Returns\n",
    "    ---------\n",
    "    2 PROCESSED dataframes. First one being the continuous features and the other being categorical features. \n",
    "    \n",
    "    Example:\n",
    "    ----------\n",
    "    - Data needed for classification\n",
    "    >>> continuous_variables_for_classification_dataframe = create_data('class', data = data)[0]\n",
    "    >>> categorical_variables_for_classification_dataframe = create_data('class', data = data)[1]\n",
    "    \n",
    "    - Data needed for regression\n",
    "    >>> continuous_variables_for_regression_dataframe = create_data('reg', data = data)[0]\n",
    "    >>> categorical_variables_for_regression_dataframe = create_data('reg', data = data)[1]        \n",
    "    \n",
    "    You can then combine them into one training data and use it accordingly. \n",
    "    >>> training_data_regression = pd.concat([continuous_variables_for_regression_dataframe, categorical_variables_for_regression_dataframe], 1)\n",
    "    \"\"\"    \n",
    "        \n",
    "    #-----------------------------------\n",
    "\n",
    "    if problem_type == 'class':\n",
    "        \"\"\"Subsetting the dataset to account for diabetic patients only for classification\"\"\"\n",
    "        data1 = data[data['drug_class'].str.contains('ANTIDIABETIC')]\n",
    "    \n",
    "    if problem_type == 'reg':\n",
    "        \"\"\"Subsetting the dataset to account for diabetic patients only for classification\"\"\"\n",
    "        data1 = data                \n",
    "\n",
    "    #-----------------------------------\n",
    "    \"\"\"Creating the Continous variables\"\"\"\n",
    "    first_cont = data1.iloc[:,0:19]\n",
    "    other_cont = data1.iloc[:,62:92]\n",
    "\n",
    "    # Combine the get all the continuous variables\n",
    "    cont_features = pd.concat([first_cont,other_cont ],axis=1)\n",
    "\n",
    "    # Selecting all columns that dont have the word \"post\" in it\n",
    "    cont_features = cont_features[cont_features.columns[[not i for i in [bool(re.search('post', x)) for x in cont_features.columns]]]]\n",
    "\n",
    "    #-----------------------------------\n",
    "    \"\"\"Categorical variables\"\"\"\n",
    "\n",
    "    # Subsetting the different types of categorical columns\n",
    "    all_diseases = data1.iloc[:,26:61]  # Diseases\n",
    "    othercats = data1.iloc[:,19:22]  # Other categories like region, Sex, PCI etc\n",
    "    cat_features = pd.concat([all_diseases,othercats ],axis=1)  # Combine all categorical variables into one dataframe\n",
    "\n",
    "    cat_features1 = cat_features  # Rereate for safety\n",
    "\n",
    "    # Initialize an empty list to append select all columns that will be one-hot-encoded\n",
    "    u_cols = []\n",
    "\n",
    "        # --------------------------------------\n",
    "\n",
    "    # For each column check if number of unique values > 2, if so one-hotcode them\n",
    "    for x in cat_features1.columns:\n",
    "\n",
    "        # Chrck if number of unque values in column is greater than 2\n",
    "        if (len(cat_features1[x].value_counts().index)) >2:  \n",
    "            # print (x, len(cat_features1[x].value_counts().index))\n",
    "\n",
    "            # Append to empty list if num of unique values in list is > 2\n",
    "            u_cols.append(x)\n",
    "\n",
    "            # Create dummy variables for the x column\n",
    "            dummy = pd.get_dummies(pd.get_dummies(cat_features1[x], prefix = '{}'.format(x)))\n",
    "\n",
    "            # Append dummy variables to the main  \n",
    "            cat_features1 = pd.concat([cat_features1, dummy], axis=1)\n",
    "\n",
    "    # Keep only the dummy variables, remove the original variable\n",
    "    use_cols = [x for x in cat_features1.columns if x not in u_cols ]\n",
    "\n",
    "    # Finally subset the categorical variables and use only dummy variables\n",
    "    cat_features1 = cat_features1[use_cols]\n",
    "\n",
    "    # --------------------------------------\n",
    "    return cont_features, cat_features1            \n",
    "    # --------------------------------------\n",
    "                "
   ]
  },
  {
   "cell_type": "markdown",
   "metadata": {},
   "source": [
    "###  (A) Classification Dataset\n",
    "\n",
    "In this section we will employ the use of manual feature selection to select relevant features that are required for predicting the pdc_80_flag.\n",
    "\n",
    "- **a. Antidiabetics Only:** The classification problem requires a model trained only on Antidiabetic patients. Therefore, we will subset the dataset accordingly\n",
    "\n",
    "\n",
    "- **b. Selecting continuous features:** Although there are no explicit requirements for selecting the relevant continuous variables, it is important to note that because we are predicting the proportion of days covered (follow up) , it would be more appropriate to limit our continuous features to the pre-index range\n",
    "\n",
    "\n",
    "- **c. Selecting categorical features:** We will begin my selecting all the categorical features that are present. Furthermore, there lies a need to transform categorical features into dummy variables in the event that a categorical variable has more than 2 values"
   ]
  },
  {
   "cell_type": "code",
   "execution_count": 7,
   "metadata": {},
   "outputs": [],
   "source": [
    "# Creating our dataset for the classification problem\n",
    "class_cont_vars = create_data('class', data = data)[0]\n",
    "class_categorical_vars = create_data('class', data = data)[1]"
   ]
  },
  {
   "cell_type": "code",
   "execution_count": 8,
   "metadata": {},
   "outputs": [
    {
     "data": {
      "text/html": [
       "<div>\n",
       "<style scoped>\n",
       "    .dataframe tbody tr th:only-of-type {\n",
       "        vertical-align: middle;\n",
       "    }\n",
       "\n",
       "    .dataframe tbody tr th {\n",
       "        vertical-align: top;\n",
       "    }\n",
       "\n",
       "    .dataframe thead th {\n",
       "        text-align: right;\n",
       "    }\n",
       "</style>\n",
       "<table border=\"1\" class=\"dataframe\">\n",
       "  <thead>\n",
       "    <tr style=\"text-align: right;\">\n",
       "      <th></th>\n",
       "      <th>pdc</th>\n",
       "      <th>pdc_cat</th>\n",
       "      <th>idx_copay</th>\n",
       "      <th>pre_er_cost</th>\n",
       "      <th>pre_rx_cost</th>\n",
       "      <th>pre_op_cost</th>\n",
       "      <th>pre_total_cost</th>\n",
       "      <th>pre_medical_cost</th>\n",
       "      <th>num_ip</th>\n",
       "      <th>total_los</th>\n",
       "      <th>...</th>\n",
       "      <th>log_pre_ip_cost</th>\n",
       "      <th>log_pre_er_cost</th>\n",
       "      <th>log_pre_op_cost</th>\n",
       "      <th>log_pre_rx_cost</th>\n",
       "      <th>pre_total_cat</th>\n",
       "      <th>numofgen</th>\n",
       "      <th>numofbrand</th>\n",
       "      <th>generic_cost</th>\n",
       "      <th>brand_cost</th>\n",
       "      <th>ratio_G_total_cost</th>\n",
       "    </tr>\n",
       "  </thead>\n",
       "  <tbody>\n",
       "    <tr>\n",
       "      <th>0</th>\n",
       "      <td>0.333333</td>\n",
       "      <td>3</td>\n",
       "      <td>40.474500</td>\n",
       "      <td>0.0</td>\n",
       "      <td>3015.548793</td>\n",
       "      <td>1626.271037</td>\n",
       "      <td>4641.819829</td>\n",
       "      <td>1626.271037</td>\n",
       "      <td>0</td>\n",
       "      <td>0</td>\n",
       "      <td>...</td>\n",
       "      <td>-4.60517</td>\n",
       "      <td>-4.60517</td>\n",
       "      <td>7.394045</td>\n",
       "      <td>8.011537</td>\n",
       "      <td>7</td>\n",
       "      <td>2</td>\n",
       "      <td>13</td>\n",
       "      <td>30.621563</td>\n",
       "      <td>2984.927229</td>\n",
       "      <td>0.010155</td>\n",
       "    </tr>\n",
       "    <tr>\n",
       "      <th>1</th>\n",
       "      <td>0.866667</td>\n",
       "      <td>1</td>\n",
       "      <td>4.060471</td>\n",
       "      <td>0.0</td>\n",
       "      <td>720.788173</td>\n",
       "      <td>479.349400</td>\n",
       "      <td>1200.137573</td>\n",
       "      <td>479.349400</td>\n",
       "      <td>0</td>\n",
       "      <td>0</td>\n",
       "      <td>...</td>\n",
       "      <td>-4.60517</td>\n",
       "      <td>-4.60517</td>\n",
       "      <td>6.172430</td>\n",
       "      <td>6.580345</td>\n",
       "      <td>4</td>\n",
       "      <td>17</td>\n",
       "      <td>0</td>\n",
       "      <td>720.788173</td>\n",
       "      <td>0.000000</td>\n",
       "      <td>1.000000</td>\n",
       "    </tr>\n",
       "  </tbody>\n",
       "</table>\n",
       "<p>2 rows × 28 columns</p>\n",
       "</div>"
      ],
      "text/plain": [
       "        pdc  pdc_cat  idx_copay  pre_er_cost  pre_rx_cost  pre_op_cost  \\\n",
       "0  0.333333        3  40.474500          0.0  3015.548793  1626.271037   \n",
       "1  0.866667        1   4.060471          0.0   720.788173   479.349400   \n",
       "\n",
       "   pre_total_cost  pre_medical_cost  num_ip  total_los         ...          \\\n",
       "0     4641.819829       1626.271037       0          0         ...           \n",
       "1     1200.137573        479.349400       0          0         ...           \n",
       "\n",
       "   log_pre_ip_cost  log_pre_er_cost  log_pre_op_cost  log_pre_rx_cost  \\\n",
       "0         -4.60517         -4.60517         7.394045         8.011537   \n",
       "1         -4.60517         -4.60517         6.172430         6.580345   \n",
       "\n",
       "   pre_total_cat  numofgen  numofbrand  generic_cost   brand_cost  \\\n",
       "0              7         2          13     30.621563  2984.927229   \n",
       "1              4        17           0    720.788173     0.000000   \n",
       "\n",
       "   ratio_G_total_cost  \n",
       "0            0.010155  \n",
       "1            1.000000  \n",
       "\n",
       "[2 rows x 28 columns]"
      ]
     },
     "execution_count": 8,
     "metadata": {},
     "output_type": "execute_result"
    }
   ],
   "source": [
    "class_cont_vars.head(2)"
   ]
  },
  {
   "cell_type": "code",
   "execution_count": 9,
   "metadata": {},
   "outputs": [
    {
     "data": {
      "text/html": [
       "<div>\n",
       "<style scoped>\n",
       "    .dataframe tbody tr th:only-of-type {\n",
       "        vertical-align: middle;\n",
       "    }\n",
       "\n",
       "    .dataframe tbody tr th {\n",
       "        vertical-align: top;\n",
       "    }\n",
       "\n",
       "    .dataframe thead th {\n",
       "        text-align: right;\n",
       "    }\n",
       "</style>\n",
       "<table border=\"1\" class=\"dataframe\">\n",
       "  <thead>\n",
       "    <tr style=\"text-align: right;\">\n",
       "      <th></th>\n",
       "      <th>ALCOHOL_DRUG</th>\n",
       "      <th>ASTHMA</th>\n",
       "      <th>CARDIAC_ARRYTHMIA</th>\n",
       "      <th>CARDIAC_VALVULAR</th>\n",
       "      <th>CEREBROVASCULAR</th>\n",
       "      <th>CHRONIC_KIDNEY</th>\n",
       "      <th>CHRONIC_PAIN_FIBRO</th>\n",
       "      <th>CHF</th>\n",
       "      <th>COPD</th>\n",
       "      <th>DEMENTIA</th>\n",
       "      <th>...</th>\n",
       "      <th>pre_CCI_7</th>\n",
       "      <th>pre_CCI_8</th>\n",
       "      <th>pre_CCI_10</th>\n",
       "      <th>age_grpN_2</th>\n",
       "      <th>age_grpN_3</th>\n",
       "      <th>age_grpN_4</th>\n",
       "      <th>regionN_1</th>\n",
       "      <th>regionN_2</th>\n",
       "      <th>regionN_3</th>\n",
       "      <th>regionN_4</th>\n",
       "    </tr>\n",
       "  </thead>\n",
       "  <tbody>\n",
       "    <tr>\n",
       "      <th>0</th>\n",
       "      <td>0</td>\n",
       "      <td>0</td>\n",
       "      <td>0</td>\n",
       "      <td>0</td>\n",
       "      <td>0</td>\n",
       "      <td>0</td>\n",
       "      <td>0</td>\n",
       "      <td>0</td>\n",
       "      <td>0</td>\n",
       "      <td>0</td>\n",
       "      <td>...</td>\n",
       "      <td>0</td>\n",
       "      <td>0</td>\n",
       "      <td>0</td>\n",
       "      <td>1</td>\n",
       "      <td>0</td>\n",
       "      <td>0</td>\n",
       "      <td>0</td>\n",
       "      <td>0</td>\n",
       "      <td>1</td>\n",
       "      <td>0</td>\n",
       "    </tr>\n",
       "    <tr>\n",
       "      <th>1</th>\n",
       "      <td>0</td>\n",
       "      <td>0</td>\n",
       "      <td>0</td>\n",
       "      <td>0</td>\n",
       "      <td>0</td>\n",
       "      <td>0</td>\n",
       "      <td>0</td>\n",
       "      <td>0</td>\n",
       "      <td>0</td>\n",
       "      <td>0</td>\n",
       "      <td>...</td>\n",
       "      <td>0</td>\n",
       "      <td>0</td>\n",
       "      <td>0</td>\n",
       "      <td>1</td>\n",
       "      <td>0</td>\n",
       "      <td>0</td>\n",
       "      <td>0</td>\n",
       "      <td>0</td>\n",
       "      <td>1</td>\n",
       "      <td>0</td>\n",
       "    </tr>\n",
       "  </tbody>\n",
       "</table>\n",
       "<p>2 rows × 52 columns</p>\n",
       "</div>"
      ],
      "text/plain": [
       "   ALCOHOL_DRUG  ASTHMA  CARDIAC_ARRYTHMIA  CARDIAC_VALVULAR  CEREBROVASCULAR  \\\n",
       "0             0       0                  0                 0                0   \n",
       "1             0       0                  0                 0                0   \n",
       "\n",
       "   CHRONIC_KIDNEY  CHRONIC_PAIN_FIBRO  CHF  COPD  DEMENTIA    ...      \\\n",
       "0               0                   0    0     0         0    ...       \n",
       "1               0                   0    0     0         0    ...       \n",
       "\n",
       "   pre_CCI_7  pre_CCI_8  pre_CCI_10  age_grpN_2  age_grpN_3  age_grpN_4  \\\n",
       "0          0          0           0           1           0           0   \n",
       "1          0          0           0           1           0           0   \n",
       "\n",
       "   regionN_1  regionN_2  regionN_3  regionN_4  \n",
       "0          0          0          1          0  \n",
       "1          0          0          1          0  \n",
       "\n",
       "[2 rows x 52 columns]"
      ]
     },
     "execution_count": 9,
     "metadata": {},
     "output_type": "execute_result"
    }
   ],
   "source": [
    "class_categorical_vars.head(2)"
   ]
  },
  {
   "cell_type": "code",
   "execution_count": 10,
   "metadata": {},
   "outputs": [
    {
     "data": {
      "text/plain": [
       "Index(['pdc', 'pdc_cat', 'idx_copay', 'pre_er_cost', 'pre_rx_cost',\n",
       "       'pre_op_cost', 'pre_total_cost', 'pre_medical_cost', 'num_ip',\n",
       "       'total_los', 'num_op', 'num_er', 'num_ndc', 'num_gpi6',\n",
       "       'adjust_total_30d', 'generic_rate', 'pre_ip_flag', 'pre_er_flag',\n",
       "       'log_pre_ip_cost', 'log_pre_er_cost', 'log_pre_op_cost',\n",
       "       'log_pre_rx_cost', 'pre_total_cat', 'numofgen', 'numofbrand',\n",
       "       'generic_cost', 'brand_cost', 'ratio_G_total_cost'],\n",
       "      dtype='object')"
      ]
     },
     "execution_count": 10,
     "metadata": {},
     "output_type": "execute_result"
    }
   ],
   "source": [
    "class_cont_vars.columns"
   ]
  },
  {
   "cell_type": "markdown",
   "metadata": {},
   "source": [
    "###  (B) Regression Dataset\n",
    "\n",
    "In this section we will employ the use of manual feature selection to select relevant features that are required for predicting the pdc_80_flag.\n",
    "\n",
    "- **a. All patients:** The classification problem required a model trained only on Antidiabetic patients. For the purpose of predicting the post_total_cost we will employ the use of \n",
    "\n",
    "\n",
    "- **b. Selecting continuous features:** It is important to note that because we are predicting the proportion of days covered (follow up) , it would be more appropriate to limit our continuous features to the pre-index range\n",
    "\n",
    "\n",
    "- **c. Selecting categorical features:** We will begin my selecting all the categorical features that are present. Furthermore, there lies a need to transform categorical features into dummy variables in the event that a categorical variable has more than 2 values"
   ]
  },
  {
   "cell_type": "code",
   "execution_count": 11,
   "metadata": {},
   "outputs": [],
   "source": [
    "# Creating our dataset for the regression problem\n",
    "reg_cont_vars = create_data('reg', data = data)[0]\n",
    "reg_categorical_vars = create_data('reg', data = data)[1]"
   ]
  },
  {
   "cell_type": "code",
   "execution_count": 12,
   "metadata": {},
   "outputs": [
    {
     "data": {
      "text/html": [
       "<div>\n",
       "<style scoped>\n",
       "    .dataframe tbody tr th:only-of-type {\n",
       "        vertical-align: middle;\n",
       "    }\n",
       "\n",
       "    .dataframe tbody tr th {\n",
       "        vertical-align: top;\n",
       "    }\n",
       "\n",
       "    .dataframe thead th {\n",
       "        text-align: right;\n",
       "    }\n",
       "</style>\n",
       "<table border=\"1\" class=\"dataframe\">\n",
       "  <thead>\n",
       "    <tr style=\"text-align: right;\">\n",
       "      <th></th>\n",
       "      <th>pdc</th>\n",
       "      <th>pdc_cat</th>\n",
       "      <th>idx_copay</th>\n",
       "      <th>pre_er_cost</th>\n",
       "      <th>pre_rx_cost</th>\n",
       "      <th>pre_op_cost</th>\n",
       "      <th>pre_total_cost</th>\n",
       "      <th>pre_medical_cost</th>\n",
       "      <th>num_ip</th>\n",
       "      <th>total_los</th>\n",
       "      <th>...</th>\n",
       "      <th>log_pre_ip_cost</th>\n",
       "      <th>log_pre_er_cost</th>\n",
       "      <th>log_pre_op_cost</th>\n",
       "      <th>log_pre_rx_cost</th>\n",
       "      <th>pre_total_cat</th>\n",
       "      <th>numofgen</th>\n",
       "      <th>numofbrand</th>\n",
       "      <th>generic_cost</th>\n",
       "      <th>brand_cost</th>\n",
       "      <th>ratio_G_total_cost</th>\n",
       "    </tr>\n",
       "  </thead>\n",
       "  <tbody>\n",
       "    <tr>\n",
       "      <th>0</th>\n",
       "      <td>0.333333</td>\n",
       "      <td>3</td>\n",
       "      <td>40.474500</td>\n",
       "      <td>0.0</td>\n",
       "      <td>3015.548793</td>\n",
       "      <td>1626.271037</td>\n",
       "      <td>4641.819829</td>\n",
       "      <td>1626.271037</td>\n",
       "      <td>0</td>\n",
       "      <td>0</td>\n",
       "      <td>...</td>\n",
       "      <td>-4.60517</td>\n",
       "      <td>-4.60517</td>\n",
       "      <td>7.394045</td>\n",
       "      <td>8.011537</td>\n",
       "      <td>7</td>\n",
       "      <td>2</td>\n",
       "      <td>13</td>\n",
       "      <td>30.621563</td>\n",
       "      <td>2984.927229</td>\n",
       "      <td>0.010155</td>\n",
       "    </tr>\n",
       "    <tr>\n",
       "      <th>1</th>\n",
       "      <td>0.866667</td>\n",
       "      <td>1</td>\n",
       "      <td>4.060471</td>\n",
       "      <td>0.0</td>\n",
       "      <td>720.788173</td>\n",
       "      <td>479.349400</td>\n",
       "      <td>1200.137573</td>\n",
       "      <td>479.349400</td>\n",
       "      <td>0</td>\n",
       "      <td>0</td>\n",
       "      <td>...</td>\n",
       "      <td>-4.60517</td>\n",
       "      <td>-4.60517</td>\n",
       "      <td>6.172430</td>\n",
       "      <td>6.580345</td>\n",
       "      <td>4</td>\n",
       "      <td>17</td>\n",
       "      <td>0</td>\n",
       "      <td>720.788173</td>\n",
       "      <td>0.000000</td>\n",
       "      <td>1.000000</td>\n",
       "    </tr>\n",
       "  </tbody>\n",
       "</table>\n",
       "<p>2 rows × 28 columns</p>\n",
       "</div>"
      ],
      "text/plain": [
       "        pdc  pdc_cat  idx_copay  pre_er_cost  pre_rx_cost  pre_op_cost  \\\n",
       "0  0.333333        3  40.474500          0.0  3015.548793  1626.271037   \n",
       "1  0.866667        1   4.060471          0.0   720.788173   479.349400   \n",
       "\n",
       "   pre_total_cost  pre_medical_cost  num_ip  total_los         ...          \\\n",
       "0     4641.819829       1626.271037       0          0         ...           \n",
       "1     1200.137573        479.349400       0          0         ...           \n",
       "\n",
       "   log_pre_ip_cost  log_pre_er_cost  log_pre_op_cost  log_pre_rx_cost  \\\n",
       "0         -4.60517         -4.60517         7.394045         8.011537   \n",
       "1         -4.60517         -4.60517         6.172430         6.580345   \n",
       "\n",
       "   pre_total_cat  numofgen  numofbrand  generic_cost   brand_cost  \\\n",
       "0              7         2          13     30.621563  2984.927229   \n",
       "1              4        17           0    720.788173     0.000000   \n",
       "\n",
       "   ratio_G_total_cost  \n",
       "0            0.010155  \n",
       "1            1.000000  \n",
       "\n",
       "[2 rows x 28 columns]"
      ]
     },
     "execution_count": 12,
     "metadata": {},
     "output_type": "execute_result"
    }
   ],
   "source": [
    "reg_cont_vars.head(2)"
   ]
  },
  {
   "cell_type": "code",
   "execution_count": 13,
   "metadata": {
    "scrolled": true
   },
   "outputs": [
    {
     "data": {
      "text/html": [
       "<div>\n",
       "<style scoped>\n",
       "    .dataframe tbody tr th:only-of-type {\n",
       "        vertical-align: middle;\n",
       "    }\n",
       "\n",
       "    .dataframe tbody tr th {\n",
       "        vertical-align: top;\n",
       "    }\n",
       "\n",
       "    .dataframe thead th {\n",
       "        text-align: right;\n",
       "    }\n",
       "</style>\n",
       "<table border=\"1\" class=\"dataframe\">\n",
       "  <thead>\n",
       "    <tr style=\"text-align: right;\">\n",
       "      <th></th>\n",
       "      <th>ALCOHOL_DRUG</th>\n",
       "      <th>ASTHMA</th>\n",
       "      <th>CARDIAC_ARRYTHMIA</th>\n",
       "      <th>CARDIAC_VALVULAR</th>\n",
       "      <th>CEREBROVASCULAR</th>\n",
       "      <th>CHRONIC_KIDNEY</th>\n",
       "      <th>CHRONIC_PAIN_FIBRO</th>\n",
       "      <th>CHF</th>\n",
       "      <th>COPD</th>\n",
       "      <th>DEMENTIA</th>\n",
       "      <th>...</th>\n",
       "      <th>pre_CCI_8</th>\n",
       "      <th>pre_CCI_9</th>\n",
       "      <th>pre_CCI_10</th>\n",
       "      <th>age_grpN_2</th>\n",
       "      <th>age_grpN_3</th>\n",
       "      <th>age_grpN_4</th>\n",
       "      <th>regionN_1</th>\n",
       "      <th>regionN_2</th>\n",
       "      <th>regionN_3</th>\n",
       "      <th>regionN_4</th>\n",
       "    </tr>\n",
       "  </thead>\n",
       "  <tbody>\n",
       "    <tr>\n",
       "      <th>0</th>\n",
       "      <td>0</td>\n",
       "      <td>0</td>\n",
       "      <td>0</td>\n",
       "      <td>0</td>\n",
       "      <td>0</td>\n",
       "      <td>0</td>\n",
       "      <td>0</td>\n",
       "      <td>0</td>\n",
       "      <td>0</td>\n",
       "      <td>0</td>\n",
       "      <td>...</td>\n",
       "      <td>0</td>\n",
       "      <td>0</td>\n",
       "      <td>0</td>\n",
       "      <td>1</td>\n",
       "      <td>0</td>\n",
       "      <td>0</td>\n",
       "      <td>0</td>\n",
       "      <td>0</td>\n",
       "      <td>1</td>\n",
       "      <td>0</td>\n",
       "    </tr>\n",
       "    <tr>\n",
       "      <th>1</th>\n",
       "      <td>0</td>\n",
       "      <td>0</td>\n",
       "      <td>0</td>\n",
       "      <td>0</td>\n",
       "      <td>0</td>\n",
       "      <td>0</td>\n",
       "      <td>0</td>\n",
       "      <td>0</td>\n",
       "      <td>0</td>\n",
       "      <td>0</td>\n",
       "      <td>...</td>\n",
       "      <td>0</td>\n",
       "      <td>0</td>\n",
       "      <td>0</td>\n",
       "      <td>1</td>\n",
       "      <td>0</td>\n",
       "      <td>0</td>\n",
       "      <td>0</td>\n",
       "      <td>0</td>\n",
       "      <td>1</td>\n",
       "      <td>0</td>\n",
       "    </tr>\n",
       "  </tbody>\n",
       "</table>\n",
       "<p>2 rows × 53 columns</p>\n",
       "</div>"
      ],
      "text/plain": [
       "   ALCOHOL_DRUG  ASTHMA  CARDIAC_ARRYTHMIA  CARDIAC_VALVULAR  CEREBROVASCULAR  \\\n",
       "0             0       0                  0                 0                0   \n",
       "1             0       0                  0                 0                0   \n",
       "\n",
       "   CHRONIC_KIDNEY  CHRONIC_PAIN_FIBRO  CHF  COPD  DEMENTIA    ...      \\\n",
       "0               0                   0    0     0         0    ...       \n",
       "1               0                   0    0     0         0    ...       \n",
       "\n",
       "   pre_CCI_8  pre_CCI_9  pre_CCI_10  age_grpN_2  age_grpN_3  age_grpN_4  \\\n",
       "0          0          0           0           1           0           0   \n",
       "1          0          0           0           1           0           0   \n",
       "\n",
       "   regionN_1  regionN_2  regionN_3  regionN_4  \n",
       "0          0          0          1          0  \n",
       "1          0          0          1          0  \n",
       "\n",
       "[2 rows x 53 columns]"
      ]
     },
     "execution_count": 13,
     "metadata": {},
     "output_type": "execute_result"
    }
   ],
   "source": [
    "reg_categorical_vars.head(2)"
   ]
  },
  {
   "cell_type": "markdown",
   "metadata": {},
   "source": [
    "### (C) Visual Exploratory Data Exploration\n",
    "\n",
    "Now that we have our datsets, lets examine the structure and distribution of the different types of data within these datasets"
   ]
  },
  {
   "cell_type": "code",
   "execution_count": 14,
   "metadata": {},
   "outputs": [
    {
     "data": {
      "image/png": "[encoded data removed]",
      "text/plain": [
       "<Figure size 1080x1080 with 4 Axes>"
      ]
     },
     "metadata": {
      "needs_background": "light"
     },
     "output_type": "display_data"
    }
   ],
   "source": [
    "\n",
    "plt.figure(figsize=(15,15))\n",
    "plt.subplots_adjust(left=None, bottom=None, right=None, top=None, wspace=None, hspace=None)\n",
    "plt.suptitle('Distribution of categorical variables used for Classification', fontsize=30)\n",
    "\n",
    "#-------------------------------------------\n",
    "\n",
    "# Plotting the predictor variable to convey class balance or imbalance\n",
    "# Taking a look at our categorical variables\n",
    "plt.subplot(2,2,1)\n",
    "\n",
    "z = pd.DataFrame(class_categorical_vars.iloc[:,0:31].sum())\n",
    "z.columns = ['counts']\n",
    "z = z.sort_values('counts',ascending=True)\n",
    "plt.barh(z.index, z.counts, color = 'red')\n",
    "\n",
    "#-------------------------------------------\n",
    "\n",
    "# Plotting the predictor variable to convey class balance or imbalance\n",
    "# Taking a look at our categorical variables\n",
    "plt.subplot(2,2,2)\n",
    "\n",
    "z1 = pd.DataFrame(class_categorical_vars.iloc[:,31:].sum())\n",
    "z1.columns = ['counts']\n",
    "z1 = z1.sort_values('counts',ascending=True)\n",
    "plt.barh(z1.index, z1.counts)\n",
    "\n",
    "# Plotting the predictor variable to convey class balance or imbalance\n",
    "# Taking a look at our categorical variables\n",
    "plt.subplot(2,2,3)\n",
    "\n",
    "z = pd.DataFrame(reg_categorical_vars.iloc[:,0:31].sum())\n",
    "z.columns = ['counts']\n",
    "z = z.sort_values('counts',ascending=True)\n",
    "plt.barh(z.index, z.counts, color = 'red')\n",
    "\n",
    "#-------------------------------------------\n",
    "\n",
    "# Plotting the predictor variable to convey class balance or imbalance\n",
    "# Taking a look at our categorical variables\n",
    "plt.subplot(2,2,4)\n",
    "\n",
    "z1 = pd.DataFrame(reg_categorical_vars.iloc[:,31:].sum())\n",
    "z1.columns = ['counts']\n",
    "z1 = z1.sort_values('counts',ascending=True)\n",
    "plt.barh(z1.index, z1.counts)\n",
    "plt.xticks(rotation=70)\n",
    "\n",
    "\n",
    "sns.despine(left=True)"
   ]
  },
  {
   "cell_type": "code",
   "execution_count": 18,
   "metadata": {
    "scrolled": true
   },
   "outputs": [
    {
     "data": {
      "image/png": "[encoded data removed]",
      "text/plain": [
       "<Figure size 1080x720 with 2 Axes>"
      ]
     },
     "metadata": {
      "needs_background": "light"
     },
     "output_type": "display_data"
    }
   ],
   "source": [
    "# Taking a look at our predictor variables\n",
    "\n",
    "plt.figure(figsize=(15,10))\n",
    "plt.subplots_adjust(left=None, bottom=None, right=None, top=None, wspace=0.4, hspace=None)\n",
    "plt.suptitle('Examining our Predictor Variables', fontsize=30)\n",
    "\n",
    "#-------------------------------------------\n",
    "\n",
    "# Plotting the predictor variable to convey class balance or imbalance\n",
    "plt.subplot(2,2,1)\n",
    "\n",
    "a = pd.DataFrame(data.groupby(data.pdc_80_flag)['pdc_80_flag'].count())\n",
    "plt.barh(list(a.index),a.pdc_80_flag, color = 'red')\n",
    "\n",
    "#-------------------------------------------\n",
    "# Plotting the predictor variable to convey class balance or imbalance\n",
    "plt.subplot(2,2,2)\n",
    "sns.distplot(np.log(data['post_total_cost']), label=\"Actual High\")  # Log transforming the post_total_cost \n",
    "\n",
    "sns.despine(left=True)"
   ]
  },
  {
   "cell_type": "code",
   "execution_count": 36,
   "metadata": {},
   "outputs": [
    {
     "data": {
      "text/plain": [
       "Text(0.5, 1.0, 'Primary Payer Type with Total Medical Cost')"
      ]
     },
     "execution_count": 36,
     "metadata": {},
     "output_type": "execute_result"
    },
    {
     "data": {
      "image/png": "[encoded data removed]",
      "text/plain": [
       "<Figure size 1296x720 with 4 Axes>"
      ]
     },
     "metadata": {
      "needs_background": "light"
     },
     "output_type": "display_data"
    }
   ],
   "source": [
    "#Taking a look at Age, Sex, Region, and Primary Payer Type relationship with Total Medical Cost\n",
    "\n",
    "\n",
    "plt.figure(figsize=(18,10))\n",
    "plt.subplots_adjust(left=None, bottom=None, right=None, top=None, wspace=0.4, hspace=0.3)\n",
    "\n",
    "plt.suptitle('Age, Sex, Region, and Primary Payer Type relationship with Total Medical Cost', fontsize=26)\n",
    "\n",
    "#-------------------------------------------\n",
    "plt.subplot(2,2,1)\n",
    "\n",
    "sns.violinplot(x=data1.regionN, y= data['post_total_cost'], linewidth=0.1)\n",
    "plt.xlabel('Region',fontsize = 12)\n",
    "plt.ylabel('Total Medical Cost',fontsize = 12)\n",
    "plt.title('Regions with Total Medical Cost',fontsize = 16)\n",
    "\n",
    "#-------------------------------------------\n",
    "plt.subplot(2,2,2)\n",
    "\n",
    "\n",
    "sns.violinplot(x=data1.age_grpN, y=data['post_total_cost'], linewidth=0.1)\n",
    "plt.xlabel('Age Groups',fontsize = 12)\n",
    "plt.ylabel('Total Medical Cost',fontsize = 12)\n",
    "plt.title('Age Groups with Total Medical Cost',fontsize = 16)\n",
    "#-------------------------------------------\n",
    "plt.subplot(2,2,3)\n",
    "\n",
    "\n",
    "sns.violinplot(x=data1.sexN, y=data['post_total_cost'], linewidth=0.1)\n",
    "plt.xlabel('Sex',fontsize = 12)\n",
    "plt.ylabel('Total Medical Cost',fontsize = 12)\n",
    "plt.title('Gender with Total Medical Cost',fontsize = 16)\n",
    "\n",
    "#--------------------------------------------\n",
    "\n",
    "plt.subplot(2,2,4)\n",
    "\n",
    "\n",
    "sns.violinplot(x=data1.idx_paytypN, y=data['post_total_cost'], linewidth=0.1)\n",
    "plt.xlabel('Primary Payer Type',fontsize = 12)\n",
    "plt.ylabel('Total Medical Cost',fontsize = 12)\n",
    "plt.title('Primary Payer Type with Total Medical Cost',fontsize = 16)"
   ]
  },
  {
   "cell_type": "markdown",
   "metadata": {},
   "source": [
    "Here we are taking a closer look at four of our categorical variables relationship with our predictor variable, total medical cost.\n",
    "\n",
    "`Region`- 1(Northeast), 2(Midwest), 3(South), and 4(West). We can see that the distributions are pretty similar through the regions. We also notice that there are a lot of outliers in regions in all the regions. This may be something we are interested in checking further and eliminating from our data for our models. We can also see that the average total medical cost is different in different regions, showing us that this may be a good variable to use when predicting the total medical cost. \n",
    "\n",
    "`Age Groups`- 1(0 - 18 years), 2(19 - 44 years), 3(45 - 64 years), 4(65+ years). We notice a few things in this plot- 1) that there is no data present for the age group from 0-18 years, 2) there are a lot of outliers present in each age group, 3) the average total medical cost is pretty similar for age group 2,3, but different for age group 4. Groups 2 and 3 have a similar distribution vs group 4 is a bit different than the other groups. \n",
    "\n",
    "`Gender` - 1(Male), 2(Female) - We see that there are a lot of outliers in in both Male and Female groups. We can also see that the average total medical cost seems very similar between the both groups and that both groups also have a similar distribution. \n",
    "\n",
    "`Primary Payer Type` - 1(Commercial), 2(Medicaid), 3(Medicare), 4(Self-Insured). We can there are a lot of outliers in Type 1 and Type 4. We can also observe the difference in the average total medical cost in the different primary payer types along with huge different in the distributions for the different levels of primary payer type through the total medical cost. \n",
    "\n",
    "\n",
    "\n"
   ]
  },
  {
   "cell_type": "code",
   "execution_count": 37,
   "metadata": {},
   "outputs": [],
   "source": [
    "data1 = data[data['drug_class'].str.contains('ANTIDIABETIC')]"
   ]
  },
  {
   "cell_type": "code",
   "execution_count": 54,
   "metadata": {},
   "outputs": [
    {
     "name": "stderr",
     "output_type": "stream",
     "text": [
      "No handles with labels found to put in legend.\n"
     ]
    },
    {
     "data": {
      "image/png": "[encoded data removed]",
      "text/plain": [
       "<Figure size 1296x720 with 4 Axes>"
      ]
     },
     "metadata": {
      "needs_background": "light"
     },
     "output_type": "display_data"
    }
   ],
   "source": [
    "plt.figure(figsize=(18,10))\n",
    "\n",
    "#-------------------------------------------\n",
    "plt.subplot(2,2,1)\n",
    "\n",
    "plot_high = sns.distplot(data.total_los)\n",
    "\n",
    "#-------------------------------------------\n",
    "plt.subplot(2,2,2)\n",
    "\n",
    "plot_low = sns.distplot(data.num_op)\n",
    "\n",
    "#-------------------------------------------\n",
    "plt.subplot(2,2,3)\n",
    "\n",
    "\n",
    "plot_mel = sns.distplot(data.numofgen)\n",
    "\n",
    "#--------------------------------------------\n",
    "\n",
    "plt.subplot(2,2,4)\n",
    "\n",
    "plot_rum = sns.distplot(data.num_ndc)\n",
    "\n",
    "plt.legend()\n",
    "plt.show()"
   ]
  },
  {
   "cell_type": "markdown",
   "metadata": {},
   "source": [
    "We are comparing the distributions for a few our continuous variables that we think will have a strong relationship with both our predictor variables, pdc_80_flag and post_total_cost.  We can see that all four of the continuous features are skewed.\n",
    "`total_los` - this variable is number of total inpatient days, pre-index. <br>\n",
    "`num_op` - this variable is the number of total outpatient visits, pre-index. <br>\n",
    "`numofgen` - this variable is the number of gGeneric scripts filled, pre-index. <br>\n",
    "`num_ndc` - this variable is the number of total number of prescriptions\n"
   ]
  },
  {
   "cell_type": "markdown",
   "metadata": {},
   "source": [
    "# Regression - Feature Selection\n",
    "\n",
    "## (A) Collinearity Tests\n",
    "\n",
    "In this section we will employ the use of a correlation matrix to determine the following: \n",
    "\n",
    "**- (i.) Multicollinearity: ** Determine whether the continous independent variables, which we will use to predict both the **post_total_cost** posed as a regression problem, are independent of one another. Given the high dimensionality of our dataset, it is completely plausible for features to correlate with one another and moving forward without fixing this phenomenon will render the predictive model inaccurate and irrelevant\n",
    "\n",
    "**- (ii.) Correlation between independent vars and predictor variables** Determine whether there exists a significant collinearity between the feature set and the variable we are trying to predict. In simple works, this allows us to answer to confirm that there indeed lies some type of \"relationship\" between what we are trying to predict and what we are using to predict!\n",
    "\n",
    "**- (iii.) Comparative T-Test:** In order to find the categorical variables that have would be valuable factors for us to use in our regression model, that is to predict the total medical costs, we will employ the use of comparative T-Tests to compare the the median post total cost for patients that have a disease(1) differs from the median total cost for patients that do not have a disease(0) for different variables. We will start with some simple boxplots to examine these differences, if any, visually"
   ]
  },
  {
   "cell_type": "markdown",
   "metadata": {},
   "source": [
    "###  Multicollinearity\n",
    "\n",
    "In order to observe multi-colinearity we need to take into account the **post_total_cost** variable. Since we only have the cpontiouos and categorical variables for the regression problem, there lies a need to combine this feature set with the **post_total_cost** from the raw dataset (after correctly indexing ofcourse)"
   ]
  },
  {
   "cell_type": "code",
   "execution_count": 17,
   "metadata": {},
   "outputs": [],
   "source": [
    "# Creating a dataset to measure multi-collinearity between the continuous variables in the regression feature set\n",
    "#.... vs the post_total_cost variable\n",
    "reg_data_multicolin =  pd.concat([reg_cont_vars, pd.DataFrame(data['post_total_cost'])],1)"
   ]
  },
  {
   "cell_type": "code",
   "execution_count": 18,
   "metadata": {},
   "outputs": [
    {
     "data": {
      "text/plain": [
       "Index(['pdc', 'pdc_cat', 'idx_copay', 'pre_er_cost', 'pre_rx_cost',\n",
       "       'pre_op_cost', 'pre_total_cost', 'pre_medical_cost', 'num_ip',\n",
       "       'total_los', 'num_op', 'num_er', 'num_ndc', 'num_gpi6',\n",
       "       'adjust_total_30d', 'generic_rate', 'pre_ip_flag', 'pre_er_flag',\n",
       "       'log_pre_ip_cost', 'log_pre_er_cost', 'log_pre_op_cost',\n",
       "       'log_pre_rx_cost', 'pre_total_cat', 'numofgen', 'numofbrand',\n",
       "       'generic_cost', 'brand_cost', 'ratio_G_total_cost', 'post_total_cost'],\n",
       "      dtype='object')"
      ]
     },
     "execution_count": 18,
     "metadata": {},
     "output_type": "execute_result"
    }
   ],
   "source": [
    "reg_data_multicolin.columns"
   ]
  },
  {
   "cell_type": "code",
   "execution_count": 19,
   "metadata": {},
   "outputs": [
    {
     "data": {
      "image/png": "[encoded data removed]",
      "text/plain": [
       "<Figure size 2160x2160 with 2 Axes>"
      ]
     },
     "metadata": {
      "needs_background": "light"
     },
     "output_type": "display_data"
    }
   ],
   "source": [
    "plt.figure(figsize=(30,30))\n",
    "corr = reg_data_multicolin.corr()\n",
    "sns.heatmap(corr, \n",
    "            xticklabels=corr.columns.values,\n",
    "            yticklabels=corr.columns.values) ;"
   ]
  },
  {
   "cell_type": "markdown",
   "metadata": {},
   "source": [
    "**Next,** lets observe the above phenomenon numerically. Given below are the R^2 values that allow us to see how well numerical values correlate with one another. Recall that a good set of features are independent of one another"
   ]
  },
  {
   "cell_type": "code",
   "execution_count": 20,
   "metadata": {},
   "outputs": [
    {
     "data": {
      "text/html": [
       "<div>\n",
       "<style scoped>\n",
       "    .dataframe tbody tr th:only-of-type {\n",
       "        vertical-align: middle;\n",
       "    }\n",
       "\n",
       "    .dataframe tbody tr th {\n",
       "        vertical-align: top;\n",
       "    }\n",
       "\n",
       "    .dataframe thead th {\n",
       "        text-align: right;\n",
       "    }\n",
       "</style>\n",
       "<table border=\"1\" class=\"dataframe\">\n",
       "  <thead>\n",
       "    <tr style=\"text-align: right;\">\n",
       "      <th></th>\n",
       "      <th>pdc</th>\n",
       "      <th>pdc_cat</th>\n",
       "      <th>idx_copay</th>\n",
       "      <th>pre_er_cost</th>\n",
       "      <th>pre_rx_cost</th>\n",
       "      <th>pre_op_cost</th>\n",
       "      <th>pre_total_cost</th>\n",
       "      <th>pre_medical_cost</th>\n",
       "      <th>num_ip</th>\n",
       "      <th>total_los</th>\n",
       "      <th>...</th>\n",
       "      <th>log_pre_er_cost</th>\n",
       "      <th>log_pre_op_cost</th>\n",
       "      <th>log_pre_rx_cost</th>\n",
       "      <th>pre_total_cat</th>\n",
       "      <th>numofgen</th>\n",
       "      <th>numofbrand</th>\n",
       "      <th>generic_cost</th>\n",
       "      <th>brand_cost</th>\n",
       "      <th>ratio_G_total_cost</th>\n",
       "      <th>post_total_cost</th>\n",
       "    </tr>\n",
       "  </thead>\n",
       "  <tbody>\n",
       "    <tr>\n",
       "      <th>pdc</th>\n",
       "      <td>1.000000</td>\n",
       "      <td>0.341591</td>\n",
       "      <td>-0.058619</td>\n",
       "      <td>-0.006364</td>\n",
       "      <td>0.058645</td>\n",
       "      <td>-0.087541</td>\n",
       "      <td>-0.225819</td>\n",
       "      <td>-0.248723</td>\n",
       "      <td>-0.235985</td>\n",
       "      <td>-0.150989</td>\n",
       "      <td>...</td>\n",
       "      <td>-0.066916</td>\n",
       "      <td>-0.128328</td>\n",
       "      <td>0.104936</td>\n",
       "      <td>-0.241414</td>\n",
       "      <td>0.053872</td>\n",
       "      <td>0.116396</td>\n",
       "      <td>0.082020</td>\n",
       "      <td>0.070601</td>\n",
       "      <td>-0.101133</td>\n",
       "      <td>-0.154861</td>\n",
       "    </tr>\n",
       "    <tr>\n",
       "      <th>pdc_cat</th>\n",
       "      <td>0.341591</td>\n",
       "      <td>1.000000</td>\n",
       "      <td>-0.056841</td>\n",
       "      <td>-0.046401</td>\n",
       "      <td>-0.007951</td>\n",
       "      <td>-0.083604</td>\n",
       "      <td>-0.160923</td>\n",
       "      <td>-0.166922</td>\n",
       "      <td>-0.151466</td>\n",
       "      <td>-0.105001</td>\n",
       "      <td>...</td>\n",
       "      <td>-0.053942</td>\n",
       "      <td>-0.113994</td>\n",
       "      <td>0.019176</td>\n",
       "      <td>-0.208682</td>\n",
       "      <td>-0.023211</td>\n",
       "      <td>0.043687</td>\n",
       "      <td>0.010557</td>\n",
       "      <td>0.012129</td>\n",
       "      <td>-0.053769</td>\n",
       "      <td>-0.055482</td>\n",
       "    </tr>\n",
       "    <tr>\n",
       "      <th>idx_copay</th>\n",
       "      <td>-0.058619</td>\n",
       "      <td>-0.056841</td>\n",
       "      <td>1.000000</td>\n",
       "      <td>0.010053</td>\n",
       "      <td>0.038715</td>\n",
       "      <td>0.013279</td>\n",
       "      <td>0.059075</td>\n",
       "      <td>0.053849</td>\n",
       "      <td>0.051249</td>\n",
       "      <td>0.023157</td>\n",
       "      <td>...</td>\n",
       "      <td>0.009803</td>\n",
       "      <td>0.044617</td>\n",
       "      <td>0.083538</td>\n",
       "      <td>0.118514</td>\n",
       "      <td>-0.014657</td>\n",
       "      <td>0.100952</td>\n",
       "      <td>0.019877</td>\n",
       "      <td>0.076131</td>\n",
       "      <td>-0.134293</td>\n",
       "      <td>0.003074</td>\n",
       "    </tr>\n",
       "    <tr>\n",
       "      <th>pre_er_cost</th>\n",
       "      <td>-0.006364</td>\n",
       "      <td>-0.046401</td>\n",
       "      <td>0.010053</td>\n",
       "      <td>1.000000</td>\n",
       "      <td>0.001647</td>\n",
       "      <td>0.118528</td>\n",
       "      <td>0.139574</td>\n",
       "      <td>0.145867</td>\n",
       "      <td>0.085313</td>\n",
       "      <td>0.087270</td>\n",
       "      <td>...</td>\n",
       "      <td>0.534753</td>\n",
       "      <td>0.110547</td>\n",
       "      <td>0.037106</td>\n",
       "      <td>0.181174</td>\n",
       "      <td>0.038104</td>\n",
       "      <td>-0.008949</td>\n",
       "      <td>0.051707</td>\n",
       "      <td>-0.018656</td>\n",
       "      <td>0.006352</td>\n",
       "      <td>0.064399</td>\n",
       "    </tr>\n",
       "    <tr>\n",
       "      <th>pre_rx_cost</th>\n",
       "      <td>0.058645</td>\n",
       "      <td>-0.007951</td>\n",
       "      <td>0.038715</td>\n",
       "      <td>0.001647</td>\n",
       "      <td>1.000000</td>\n",
       "      <td>0.235396</td>\n",
       "      <td>0.322903</td>\n",
       "      <td>0.130729</td>\n",
       "      <td>0.054448</td>\n",
       "      <td>0.057310</td>\n",
       "      <td>...</td>\n",
       "      <td>0.009556</td>\n",
       "      <td>0.158766</td>\n",
       "      <td>0.457711</td>\n",
       "      <td>0.266932</td>\n",
       "      <td>0.265368</td>\n",
       "      <td>0.403704</td>\n",
       "      <td>0.476390</td>\n",
       "      <td>0.660848</td>\n",
       "      <td>-0.272123</td>\n",
       "      <td>0.267493</td>\n",
       "    </tr>\n",
       "  </tbody>\n",
       "</table>\n",
       "<p>5 rows × 29 columns</p>\n",
       "</div>"
      ],
      "text/plain": [
       "                  pdc   pdc_cat  idx_copay  pre_er_cost  pre_rx_cost  \\\n",
       "pdc          1.000000  0.341591  -0.058619    -0.006364     0.058645   \n",
       "pdc_cat      0.341591  1.000000  -0.056841    -0.046401    -0.007951   \n",
       "idx_copay   -0.058619 -0.056841   1.000000     0.010053     0.038715   \n",
       "pre_er_cost -0.006364 -0.046401   0.010053     1.000000     0.001647   \n",
       "pre_rx_cost  0.058645 -0.007951   0.038715     0.001647     1.000000   \n",
       "\n",
       "             pre_op_cost  pre_total_cost  pre_medical_cost    num_ip  \\\n",
       "pdc            -0.087541       -0.225819         -0.248723 -0.235985   \n",
       "pdc_cat        -0.083604       -0.160923         -0.166922 -0.151466   \n",
       "idx_copay       0.013279        0.059075          0.053849  0.051249   \n",
       "pre_er_cost     0.118528        0.139574          0.145867  0.085313   \n",
       "pre_rx_cost     0.235396        0.322903          0.130729  0.054448   \n",
       "\n",
       "             total_los  ...  log_pre_er_cost  log_pre_op_cost  \\\n",
       "pdc          -0.150989  ...        -0.066916        -0.128328   \n",
       "pdc_cat      -0.105001  ...        -0.053942        -0.113994   \n",
       "idx_copay     0.023157  ...         0.009803         0.044617   \n",
       "pre_er_cost   0.087270  ...         0.534753         0.110547   \n",
       "pre_rx_cost   0.057310  ...         0.009556         0.158766   \n",
       "\n",
       "             log_pre_rx_cost  pre_total_cat  numofgen  numofbrand  \\\n",
       "pdc                 0.104936      -0.241414  0.053872    0.116396   \n",
       "pdc_cat             0.019176      -0.208682 -0.023211    0.043687   \n",
       "idx_copay           0.083538       0.118514 -0.014657    0.100952   \n",
       "pre_er_cost         0.037106       0.181174  0.038104   -0.008949   \n",
       "pre_rx_cost         0.457711       0.266932  0.265368    0.403704   \n",
       "\n",
       "             generic_cost  brand_cost  ratio_G_total_cost  post_total_cost  \n",
       "pdc              0.082020    0.070601           -0.101133        -0.154861  \n",
       "pdc_cat          0.010557    0.012129           -0.053769        -0.055482  \n",
       "idx_copay        0.019877    0.076131           -0.134293         0.003074  \n",
       "pre_er_cost      0.051707   -0.018656            0.006352         0.064399  \n",
       "pre_rx_cost      0.476390    0.660848           -0.272123         0.267493  \n",
       "\n",
       "[5 rows x 29 columns]"
      ]
     },
     "execution_count": 20,
     "metadata": {},
     "output_type": "execute_result"
    }
   ],
   "source": [
    "cor_matrix = reg_data_multicolin.corr()\n",
    "cor_matrix.head(5)"
   ]
  },
  {
   "cell_type": "code",
   "execution_count": 21,
   "metadata": {},
   "outputs": [
    {
     "data": {
      "text/html": [
       "<div>\n",
       "<style scoped>\n",
       "    .dataframe tbody tr th:only-of-type {\n",
       "        vertical-align: middle;\n",
       "    }\n",
       "\n",
       "    .dataframe tbody tr th {\n",
       "        vertical-align: top;\n",
       "    }\n",
       "\n",
       "    .dataframe thead th {\n",
       "        text-align: right;\n",
       "    }\n",
       "</style>\n",
       "<table border=\"1\" class=\"dataframe\">\n",
       "  <thead>\n",
       "    <tr style=\"text-align: right;\">\n",
       "      <th></th>\n",
       "      <th>pdc</th>\n",
       "      <th>pdc_cat</th>\n",
       "      <th>idx_copay</th>\n",
       "      <th>pre_er_cost</th>\n",
       "      <th>pre_rx_cost</th>\n",
       "      <th>pre_op_cost</th>\n",
       "      <th>pre_total_cost</th>\n",
       "      <th>pre_medical_cost</th>\n",
       "      <th>num_ip</th>\n",
       "      <th>total_los</th>\n",
       "      <th>...</th>\n",
       "      <th>log_pre_er_cost</th>\n",
       "      <th>log_pre_op_cost</th>\n",
       "      <th>log_pre_rx_cost</th>\n",
       "      <th>pre_total_cat</th>\n",
       "      <th>numofgen</th>\n",
       "      <th>numofbrand</th>\n",
       "      <th>generic_cost</th>\n",
       "      <th>brand_cost</th>\n",
       "      <th>ratio_G_total_cost</th>\n",
       "      <th>post_total_cost</th>\n",
       "    </tr>\n",
       "  </thead>\n",
       "  <tbody>\n",
       "    <tr>\n",
       "      <th>pdc</th>\n",
       "      <td>NaN</td>\n",
       "      <td>0.341591</td>\n",
       "      <td>-0.058619</td>\n",
       "      <td>-0.006364</td>\n",
       "      <td>0.058645</td>\n",
       "      <td>-0.087541</td>\n",
       "      <td>-0.225819</td>\n",
       "      <td>-0.248723</td>\n",
       "      <td>-0.235985</td>\n",
       "      <td>-0.150989</td>\n",
       "      <td>...</td>\n",
       "      <td>-0.066916</td>\n",
       "      <td>-0.128328</td>\n",
       "      <td>0.104936</td>\n",
       "      <td>-0.241414</td>\n",
       "      <td>0.053872</td>\n",
       "      <td>0.116396</td>\n",
       "      <td>0.082020</td>\n",
       "      <td>0.070601</td>\n",
       "      <td>-0.101133</td>\n",
       "      <td>-0.154861</td>\n",
       "    </tr>\n",
       "    <tr>\n",
       "      <th>pdc_cat</th>\n",
       "      <td>NaN</td>\n",
       "      <td>NaN</td>\n",
       "      <td>-0.056841</td>\n",
       "      <td>-0.046401</td>\n",
       "      <td>-0.007951</td>\n",
       "      <td>-0.083604</td>\n",
       "      <td>-0.160923</td>\n",
       "      <td>-0.166922</td>\n",
       "      <td>-0.151466</td>\n",
       "      <td>-0.105001</td>\n",
       "      <td>...</td>\n",
       "      <td>-0.053942</td>\n",
       "      <td>-0.113994</td>\n",
       "      <td>0.019176</td>\n",
       "      <td>-0.208682</td>\n",
       "      <td>-0.023211</td>\n",
       "      <td>0.043687</td>\n",
       "      <td>0.010557</td>\n",
       "      <td>0.012129</td>\n",
       "      <td>-0.053769</td>\n",
       "      <td>-0.055482</td>\n",
       "    </tr>\n",
       "    <tr>\n",
       "      <th>idx_copay</th>\n",
       "      <td>NaN</td>\n",
       "      <td>NaN</td>\n",
       "      <td>NaN</td>\n",
       "      <td>0.010053</td>\n",
       "      <td>0.038715</td>\n",
       "      <td>0.013279</td>\n",
       "      <td>0.059075</td>\n",
       "      <td>0.053849</td>\n",
       "      <td>0.051249</td>\n",
       "      <td>0.023157</td>\n",
       "      <td>...</td>\n",
       "      <td>0.009803</td>\n",
       "      <td>0.044617</td>\n",
       "      <td>0.083538</td>\n",
       "      <td>0.118514</td>\n",
       "      <td>-0.014657</td>\n",
       "      <td>0.100952</td>\n",
       "      <td>0.019877</td>\n",
       "      <td>0.076131</td>\n",
       "      <td>-0.134293</td>\n",
       "      <td>0.003074</td>\n",
       "    </tr>\n",
       "    <tr>\n",
       "      <th>pre_er_cost</th>\n",
       "      <td>NaN</td>\n",
       "      <td>NaN</td>\n",
       "      <td>NaN</td>\n",
       "      <td>NaN</td>\n",
       "      <td>0.001647</td>\n",
       "      <td>0.118528</td>\n",
       "      <td>0.139574</td>\n",
       "      <td>0.145867</td>\n",
       "      <td>0.085313</td>\n",
       "      <td>0.087270</td>\n",
       "      <td>...</td>\n",
       "      <td>0.534753</td>\n",
       "      <td>0.110547</td>\n",
       "      <td>0.037106</td>\n",
       "      <td>0.181174</td>\n",
       "      <td>0.038104</td>\n",
       "      <td>-0.008949</td>\n",
       "      <td>0.051707</td>\n",
       "      <td>-0.018656</td>\n",
       "      <td>0.006352</td>\n",
       "      <td>0.064399</td>\n",
       "    </tr>\n",
       "    <tr>\n",
       "      <th>pre_rx_cost</th>\n",
       "      <td>NaN</td>\n",
       "      <td>NaN</td>\n",
       "      <td>NaN</td>\n",
       "      <td>NaN</td>\n",
       "      <td>NaN</td>\n",
       "      <td>0.235396</td>\n",
       "      <td>0.322903</td>\n",
       "      <td>0.130729</td>\n",
       "      <td>0.054448</td>\n",
       "      <td>0.057310</td>\n",
       "      <td>...</td>\n",
       "      <td>0.009556</td>\n",
       "      <td>0.158766</td>\n",
       "      <td>0.457711</td>\n",
       "      <td>0.266932</td>\n",
       "      <td>0.265368</td>\n",
       "      <td>0.403704</td>\n",
       "      <td>0.476390</td>\n",
       "      <td>0.660848</td>\n",
       "      <td>-0.272123</td>\n",
       "      <td>0.267493</td>\n",
       "    </tr>\n",
       "  </tbody>\n",
       "</table>\n",
       "<p>5 rows × 29 columns</p>\n",
       "</div>"
      ],
      "text/plain": [
       "             pdc   pdc_cat  idx_copay  pre_er_cost  pre_rx_cost  pre_op_cost  \\\n",
       "pdc          NaN  0.341591  -0.058619    -0.006364     0.058645    -0.087541   \n",
       "pdc_cat      NaN       NaN  -0.056841    -0.046401    -0.007951    -0.083604   \n",
       "idx_copay    NaN       NaN        NaN     0.010053     0.038715     0.013279   \n",
       "pre_er_cost  NaN       NaN        NaN          NaN     0.001647     0.118528   \n",
       "pre_rx_cost  NaN       NaN        NaN          NaN          NaN     0.235396   \n",
       "\n",
       "             pre_total_cost  pre_medical_cost    num_ip  total_los  ...  \\\n",
       "pdc               -0.225819         -0.248723 -0.235985  -0.150989  ...   \n",
       "pdc_cat           -0.160923         -0.166922 -0.151466  -0.105001  ...   \n",
       "idx_copay          0.059075          0.053849  0.051249   0.023157  ...   \n",
       "pre_er_cost        0.139574          0.145867  0.085313   0.087270  ...   \n",
       "pre_rx_cost        0.322903          0.130729  0.054448   0.057310  ...   \n",
       "\n",
       "             log_pre_er_cost  log_pre_op_cost  log_pre_rx_cost  pre_total_cat  \\\n",
       "pdc                -0.066916        -0.128328         0.104936      -0.241414   \n",
       "pdc_cat            -0.053942        -0.113994         0.019176      -0.208682   \n",
       "idx_copay           0.009803         0.044617         0.083538       0.118514   \n",
       "pre_er_cost         0.534753         0.110547         0.037106       0.181174   \n",
       "pre_rx_cost         0.009556         0.158766         0.457711       0.266932   \n",
       "\n",
       "             numofgen  numofbrand  generic_cost  brand_cost  \\\n",
       "pdc          0.053872    0.116396      0.082020    0.070601   \n",
       "pdc_cat     -0.023211    0.043687      0.010557    0.012129   \n",
       "idx_copay   -0.014657    0.100952      0.019877    0.076131   \n",
       "pre_er_cost  0.038104   -0.008949      0.051707   -0.018656   \n",
       "pre_rx_cost  0.265368    0.403704      0.476390    0.660848   \n",
       "\n",
       "             ratio_G_total_cost  post_total_cost  \n",
       "pdc                   -0.101133        -0.154861  \n",
       "pdc_cat               -0.053769        -0.055482  \n",
       "idx_copay             -0.134293         0.003074  \n",
       "pre_er_cost            0.006352         0.064399  \n",
       "pre_rx_cost           -0.272123         0.267493  \n",
       "\n",
       "[5 rows x 29 columns]"
      ]
     },
     "execution_count": 21,
     "metadata": {},
     "output_type": "execute_result"
    }
   ],
   "source": [
    "\"\"\"This section drops continous variable that are highly correlated\"\"\"\n",
    "\n",
    "# Upper triangle of correlation matrix\n",
    "upper = cor_matrix.where(np.triu(np.ones(cor_matrix.shape), k=1).astype(np.bool))\n",
    "upper.head(5)"
   ]
  },
  {
   "cell_type": "code",
   "execution_count": 22,
   "metadata": {},
   "outputs": [
    {
     "data": {
      "text/plain": [
       "['pre_medical_cost', 'log_pre_ip_cost', 'numofgen']"
      ]
     },
     "execution_count": 22,
     "metadata": {},
     "output_type": "execute_result"
    }
   ],
   "source": [
    "# In feature columns with correlation greater than selected corr strengh\n",
    "to_drop = [column for column in upper.columns if any(upper[column]> 0.9) if column != 'post_total_cost' ]\n",
    "to_drop"
   ]
  },
  {
   "cell_type": "code",
   "execution_count": 23,
   "metadata": {},
   "outputs": [],
   "source": [
    "# Selecting all features that do are NOT highly correlated\n",
    "cont_variable_columns = [x for x in reg_data_multicolin.columns if x not in to_drop]"
   ]
  },
  {
   "cell_type": "code",
   "execution_count": 24,
   "metadata": {},
   "outputs": [],
   "source": [
    "# Dataframe consisting of continous features ready to be used into our analysis\n",
    "cont_features_uncorrelated =  reg_data_multicolin[cont_variable_columns]"
   ]
  },
  {
   "cell_type": "code",
   "execution_count": 25,
   "metadata": {},
   "outputs": [
    {
     "data": {
      "text/html": [
       "<div>\n",
       "<style scoped>\n",
       "    .dataframe tbody tr th:only-of-type {\n",
       "        vertical-align: middle;\n",
       "    }\n",
       "\n",
       "    .dataframe tbody tr th {\n",
       "        vertical-align: top;\n",
       "    }\n",
       "\n",
       "    .dataframe thead th {\n",
       "        text-align: right;\n",
       "    }\n",
       "</style>\n",
       "<table border=\"1\" class=\"dataframe\">\n",
       "  <thead>\n",
       "    <tr style=\"text-align: right;\">\n",
       "      <th></th>\n",
       "      <th>pdc</th>\n",
       "      <th>pdc_cat</th>\n",
       "      <th>idx_copay</th>\n",
       "      <th>pre_er_cost</th>\n",
       "      <th>pre_rx_cost</th>\n",
       "      <th>pre_op_cost</th>\n",
       "      <th>pre_total_cost</th>\n",
       "      <th>num_ip</th>\n",
       "      <th>total_los</th>\n",
       "      <th>num_op</th>\n",
       "      <th>...</th>\n",
       "      <th>pre_er_flag</th>\n",
       "      <th>log_pre_er_cost</th>\n",
       "      <th>log_pre_op_cost</th>\n",
       "      <th>log_pre_rx_cost</th>\n",
       "      <th>pre_total_cat</th>\n",
       "      <th>numofbrand</th>\n",
       "      <th>generic_cost</th>\n",
       "      <th>brand_cost</th>\n",
       "      <th>ratio_G_total_cost</th>\n",
       "      <th>post_total_cost</th>\n",
       "    </tr>\n",
       "  </thead>\n",
       "  <tbody>\n",
       "    <tr>\n",
       "      <th>0</th>\n",
       "      <td>0.333333</td>\n",
       "      <td>3</td>\n",
       "      <td>40.474500</td>\n",
       "      <td>0.0</td>\n",
       "      <td>3015.548793</td>\n",
       "      <td>1626.271037</td>\n",
       "      <td>4641.819829</td>\n",
       "      <td>0</td>\n",
       "      <td>0</td>\n",
       "      <td>27</td>\n",
       "      <td>...</td>\n",
       "      <td>0</td>\n",
       "      <td>-4.60517</td>\n",
       "      <td>7.394045</td>\n",
       "      <td>8.011537</td>\n",
       "      <td>7</td>\n",
       "      <td>13</td>\n",
       "      <td>30.621563</td>\n",
       "      <td>2984.927229</td>\n",
       "      <td>0.010155</td>\n",
       "      <td>3554.574459</td>\n",
       "    </tr>\n",
       "    <tr>\n",
       "      <th>1</th>\n",
       "      <td>0.866667</td>\n",
       "      <td>1</td>\n",
       "      <td>4.060471</td>\n",
       "      <td>0.0</td>\n",
       "      <td>720.788173</td>\n",
       "      <td>479.349400</td>\n",
       "      <td>1200.137573</td>\n",
       "      <td>0</td>\n",
       "      <td>0</td>\n",
       "      <td>3</td>\n",
       "      <td>...</td>\n",
       "      <td>0</td>\n",
       "      <td>-4.60517</td>\n",
       "      <td>6.172430</td>\n",
       "      <td>6.580345</td>\n",
       "      <td>4</td>\n",
       "      <td>0</td>\n",
       "      <td>720.788173</td>\n",
       "      <td>0.000000</td>\n",
       "      <td>1.000000</td>\n",
       "      <td>2259.829961</td>\n",
       "    </tr>\n",
       "  </tbody>\n",
       "</table>\n",
       "<p>2 rows × 26 columns</p>\n",
       "</div>"
      ],
      "text/plain": [
       "        pdc  pdc_cat  idx_copay  pre_er_cost  pre_rx_cost  pre_op_cost  \\\n",
       "0  0.333333        3  40.474500          0.0  3015.548793  1626.271037   \n",
       "1  0.866667        1   4.060471          0.0   720.788173   479.349400   \n",
       "\n",
       "   pre_total_cost  num_ip  total_los  num_op  ...  pre_er_flag  \\\n",
       "0     4641.819829       0          0      27  ...            0   \n",
       "1     1200.137573       0          0       3  ...            0   \n",
       "\n",
       "   log_pre_er_cost  log_pre_op_cost  log_pre_rx_cost  pre_total_cat  \\\n",
       "0         -4.60517         7.394045         8.011537              7   \n",
       "1         -4.60517         6.172430         6.580345              4   \n",
       "\n",
       "   numofbrand  generic_cost   brand_cost  ratio_G_total_cost  post_total_cost  \n",
       "0          13     30.621563  2984.927229            0.010155      3554.574459  \n",
       "1           0    720.788173     0.000000            1.000000      2259.829961  \n",
       "\n",
       "[2 rows x 26 columns]"
      ]
     },
     "execution_count": 25,
     "metadata": {},
     "output_type": "execute_result"
    }
   ],
   "source": [
    "# Finally these are the uncorrelated features to use\n",
    "cont_features_uncorrelated.head(2)"
   ]
  },
  {
   "cell_type": "markdown",
   "metadata": {},
   "source": [
    "### Collinearity with the regression predictor variable\n",
    "\n",
    "- testing how they're correlated with what we need to predict"
   ]
  },
  {
   "cell_type": "code",
   "execution_count": 26,
   "metadata": {},
   "outputs": [
    {
     "data": {
      "text/html": [
       "<div>\n",
       "<style scoped>\n",
       "    .dataframe tbody tr th:only-of-type {\n",
       "        vertical-align: middle;\n",
       "    }\n",
       "\n",
       "    .dataframe tbody tr th {\n",
       "        vertical-align: top;\n",
       "    }\n",
       "\n",
       "    .dataframe thead th {\n",
       "        text-align: right;\n",
       "    }\n",
       "</style>\n",
       "<table border=\"1\" class=\"dataframe\">\n",
       "  <thead>\n",
       "    <tr style=\"text-align: right;\">\n",
       "      <th></th>\n",
       "      <th>pdc</th>\n",
       "      <th>pdc_cat</th>\n",
       "      <th>idx_copay</th>\n",
       "      <th>pre_er_cost</th>\n",
       "      <th>pre_rx_cost</th>\n",
       "      <th>pre_op_cost</th>\n",
       "      <th>pre_total_cost</th>\n",
       "      <th>num_ip</th>\n",
       "      <th>total_los</th>\n",
       "      <th>num_op</th>\n",
       "      <th>...</th>\n",
       "      <th>pre_er_flag</th>\n",
       "      <th>log_pre_er_cost</th>\n",
       "      <th>log_pre_op_cost</th>\n",
       "      <th>log_pre_rx_cost</th>\n",
       "      <th>pre_total_cat</th>\n",
       "      <th>numofbrand</th>\n",
       "      <th>generic_cost</th>\n",
       "      <th>brand_cost</th>\n",
       "      <th>ratio_G_total_cost</th>\n",
       "      <th>post_total_cost</th>\n",
       "    </tr>\n",
       "  </thead>\n",
       "  <tbody>\n",
       "    <tr>\n",
       "      <th>pdc</th>\n",
       "      <td>1.000000</td>\n",
       "      <td>0.341591</td>\n",
       "      <td>-0.058619</td>\n",
       "      <td>-0.006364</td>\n",
       "      <td>0.058645</td>\n",
       "      <td>-0.087541</td>\n",
       "      <td>-0.225819</td>\n",
       "      <td>-0.235985</td>\n",
       "      <td>-0.150989</td>\n",
       "      <td>-0.090750</td>\n",
       "      <td>...</td>\n",
       "      <td>-0.077712</td>\n",
       "      <td>-0.066916</td>\n",
       "      <td>-0.128328</td>\n",
       "      <td>0.104936</td>\n",
       "      <td>-0.241414</td>\n",
       "      <td>0.116396</td>\n",
       "      <td>0.082020</td>\n",
       "      <td>0.070601</td>\n",
       "      <td>-0.101133</td>\n",
       "      <td>-0.154861</td>\n",
       "    </tr>\n",
       "    <tr>\n",
       "      <th>pdc_cat</th>\n",
       "      <td>0.341591</td>\n",
       "      <td>1.000000</td>\n",
       "      <td>-0.056841</td>\n",
       "      <td>-0.046401</td>\n",
       "      <td>-0.007951</td>\n",
       "      <td>-0.083604</td>\n",
       "      <td>-0.160923</td>\n",
       "      <td>-0.151466</td>\n",
       "      <td>-0.105001</td>\n",
       "      <td>-0.085418</td>\n",
       "      <td>...</td>\n",
       "      <td>-0.056358</td>\n",
       "      <td>-0.053942</td>\n",
       "      <td>-0.113994</td>\n",
       "      <td>0.019176</td>\n",
       "      <td>-0.208682</td>\n",
       "      <td>0.043687</td>\n",
       "      <td>0.010557</td>\n",
       "      <td>0.012129</td>\n",
       "      <td>-0.053769</td>\n",
       "      <td>-0.055482</td>\n",
       "    </tr>\n",
       "  </tbody>\n",
       "</table>\n",
       "<p>2 rows × 26 columns</p>\n",
       "</div>"
      ],
      "text/plain": [
       "              pdc   pdc_cat  idx_copay  pre_er_cost  pre_rx_cost  pre_op_cost  \\\n",
       "pdc      1.000000  0.341591  -0.058619    -0.006364     0.058645    -0.087541   \n",
       "pdc_cat  0.341591  1.000000  -0.056841    -0.046401    -0.007951    -0.083604   \n",
       "\n",
       "         pre_total_cost    num_ip  total_los    num_op  ...  pre_er_flag  \\\n",
       "pdc           -0.225819 -0.235985  -0.150989 -0.090750  ...    -0.077712   \n",
       "pdc_cat       -0.160923 -0.151466  -0.105001 -0.085418  ...    -0.056358   \n",
       "\n",
       "         log_pre_er_cost  log_pre_op_cost  log_pre_rx_cost  pre_total_cat  \\\n",
       "pdc            -0.066916        -0.128328         0.104936      -0.241414   \n",
       "pdc_cat        -0.053942        -0.113994         0.019176      -0.208682   \n",
       "\n",
       "         numofbrand  generic_cost  brand_cost  ratio_G_total_cost  \\\n",
       "pdc        0.116396      0.082020    0.070601           -0.101133   \n",
       "pdc_cat    0.043687      0.010557    0.012129           -0.053769   \n",
       "\n",
       "         post_total_cost  \n",
       "pdc            -0.154861  \n",
       "pdc_cat        -0.055482  \n",
       "\n",
       "[2 rows x 26 columns]"
      ]
     },
     "execution_count": 26,
     "metadata": {},
     "output_type": "execute_result"
    }
   ],
   "source": [
    "# Correlation matrix between continous features only\n",
    "cor_matrix_cont_features = cont_features_uncorrelated.corr()\n",
    "cor_matrix_cont_features.head(2)"
   ]
  },
  {
   "cell_type": "code",
   "execution_count": 27,
   "metadata": {},
   "outputs": [
    {
     "data": {
      "text/plain": [
       "['pre_rx_cost',\n",
       " 'pre_op_cost',\n",
       " 'pre_total_cost',\n",
       " 'num_op',\n",
       " 'num_gpi6',\n",
       " 'log_pre_op_cost',\n",
       " 'log_pre_rx_cost',\n",
       " 'pre_total_cat',\n",
       " 'brand_cost']"
      ]
     },
     "execution_count": 27,
     "metadata": {},
     "output_type": "execute_result"
    }
   ],
   "source": [
    "# Selecting the correlation strength as strength of associativity\n",
    "corr_strength = 0.2\n",
    "\n",
    "pd.set_option('display.max_rows', 100)\n",
    "a = cor_matrix_cont_features['post_total_cost'] >= corr_strength\n",
    "b = cor_matrix_cont_features['post_total_cost'][a]\n",
    "names = [x for x in b.index if x != 'post_total_cost'] # all \n",
    "names"
   ]
  },
  {
   "cell_type": "code",
   "execution_count": 28,
   "metadata": {},
   "outputs": [
    {
     "name": "stdout",
     "output_type": "stream",
     "text": [
      "pre_rx_cost pre_op_cost 0.23539551518973012\n",
      "pre_rx_cost pre_total_cost 0.32290331942323786\n",
      "pre_rx_cost num_op 0.30161875956435064\n",
      "pre_rx_cost num_gpi6 0.3419042070552285\n",
      "pre_rx_cost log_pre_op_cost 0.15876572337672518\n",
      "pre_rx_cost log_pre_rx_cost 0.4577114851026675\n",
      "pre_rx_cost pre_total_cat 0.2669315553282783\n",
      "pre_rx_cost brand_cost 0.6608484848774697\n",
      "pre_op_cost pre_total_cost 0.5252249098553207\n",
      "pre_op_cost num_op 0.5217656435251014\n",
      "pre_op_cost num_gpi6 0.26450804948240986\n",
      "pre_op_cost log_pre_op_cost 0.4786916243172587\n",
      "pre_op_cost log_pre_rx_cost 0.2459399865305643\n",
      "pre_op_cost pre_total_cat 0.44395525940303243\n",
      "pre_op_cost brand_cost 0.09654419663498427\n",
      "pre_total_cost num_op 0.4225234396613485\n",
      "pre_total_cost num_gpi6 0.26272624755195706\n",
      "pre_total_cost log_pre_op_cost 0.3521490030174136\n",
      "pre_total_cost log_pre_rx_cost 0.21515414302752248\n",
      "pre_total_cost pre_total_cat 0.6725174072173258\n",
      "pre_total_cost brand_cost 0.193456638424651\n",
      "num_op num_gpi6 0.4025018060263738\n",
      "num_op log_pre_op_cost 0.4596365353239743\n",
      "num_op log_pre_rx_cost 0.32882262834766507\n",
      "num_op pre_total_cat 0.4704415081238326\n",
      "num_op brand_cost 0.2211304856023135\n",
      "num_gpi6 log_pre_op_cost 0.2940460697855939\n",
      "num_gpi6 log_pre_rx_cost 0.6360616580755524\n",
      "num_gpi6 pre_total_cat 0.3763711105507396\n",
      "num_gpi6 brand_cost 0.4063892752430641\n",
      "log_pre_op_cost log_pre_rx_cost 0.28001622722970665\n",
      "log_pre_op_cost pre_total_cat 0.5315926367540109\n",
      "log_pre_op_cost brand_cost 0.1061166445849667\n",
      "log_pre_rx_cost pre_total_cat 0.3529271135266459\n",
      "log_pre_rx_cost brand_cost 0.4637684300474041\n",
      "pre_total_cat brand_cost 0.2553218048038424\n"
     ]
    }
   ],
   "source": [
    "# Get the names of all columns to finally use for regression\n",
    "\n",
    "list_len = len(names)\n",
    "\n",
    "for i in range(list_len):\n",
    "    for j in range(i + 1, list_len):\n",
    "        print(names[i]+\" \"+names[j]+ \" \" + str(cor_matrix[names[i]][names[j]]))\n",
    "    "
   ]
  },
  {
   "cell_type": "code",
   "execution_count": 29,
   "metadata": {},
   "outputs": [
    {
     "data": {
      "text/html": [
       "<div>\n",
       "<style scoped>\n",
       "    .dataframe tbody tr th:only-of-type {\n",
       "        vertical-align: middle;\n",
       "    }\n",
       "\n",
       "    .dataframe tbody tr th {\n",
       "        vertical-align: top;\n",
       "    }\n",
       "\n",
       "    .dataframe thead th {\n",
       "        text-align: right;\n",
       "    }\n",
       "</style>\n",
       "<table border=\"1\" class=\"dataframe\">\n",
       "  <thead>\n",
       "    <tr style=\"text-align: right;\">\n",
       "      <th></th>\n",
       "      <th>pre_rx_cost</th>\n",
       "      <th>pre_op_cost</th>\n",
       "      <th>pre_total_cost</th>\n",
       "      <th>num_op</th>\n",
       "      <th>num_gpi6</th>\n",
       "      <th>log_pre_op_cost</th>\n",
       "      <th>log_pre_rx_cost</th>\n",
       "      <th>pre_total_cat</th>\n",
       "      <th>brand_cost</th>\n",
       "    </tr>\n",
       "  </thead>\n",
       "  <tbody>\n",
       "    <tr>\n",
       "      <th>0</th>\n",
       "      <td>3015.548793</td>\n",
       "      <td>1626.271037</td>\n",
       "      <td>4641.819829</td>\n",
       "      <td>27</td>\n",
       "      <td>6</td>\n",
       "      <td>7.394045</td>\n",
       "      <td>8.011537</td>\n",
       "      <td>7</td>\n",
       "      <td>2984.927229</td>\n",
       "    </tr>\n",
       "    <tr>\n",
       "      <th>1</th>\n",
       "      <td>720.788173</td>\n",
       "      <td>479.349400</td>\n",
       "      <td>1200.137573</td>\n",
       "      <td>3</td>\n",
       "      <td>4</td>\n",
       "      <td>6.172430</td>\n",
       "      <td>6.580345</td>\n",
       "      <td>4</td>\n",
       "      <td>0.000000</td>\n",
       "    </tr>\n",
       "    <tr>\n",
       "      <th>2</th>\n",
       "      <td>195.891492</td>\n",
       "      <td>781.502660</td>\n",
       "      <td>10771.686460</td>\n",
       "      <td>8</td>\n",
       "      <td>11</td>\n",
       "      <td>6.661219</td>\n",
       "      <td>5.277561</td>\n",
       "      <td>9</td>\n",
       "      <td>0.000000</td>\n",
       "    </tr>\n",
       "    <tr>\n",
       "      <th>3</th>\n",
       "      <td>105.816329</td>\n",
       "      <td>186.932041</td>\n",
       "      <td>43769.024830</td>\n",
       "      <td>8</td>\n",
       "      <td>5</td>\n",
       "      <td>5.230745</td>\n",
       "      <td>4.661705</td>\n",
       "      <td>10</td>\n",
       "      <td>0.000000</td>\n",
       "    </tr>\n",
       "    <tr>\n",
       "      <th>4</th>\n",
       "      <td>3895.769588</td>\n",
       "      <td>2302.981377</td>\n",
       "      <td>6198.750965</td>\n",
       "      <td>7</td>\n",
       "      <td>11</td>\n",
       "      <td>7.741960</td>\n",
       "      <td>8.267647</td>\n",
       "      <td>8</td>\n",
       "      <td>3265.595950</td>\n",
       "    </tr>\n",
       "  </tbody>\n",
       "</table>\n",
       "</div>"
      ],
      "text/plain": [
       "   pre_rx_cost  pre_op_cost  pre_total_cost  num_op  num_gpi6  \\\n",
       "0  3015.548793  1626.271037     4641.819829      27         6   \n",
       "1   720.788173   479.349400     1200.137573       3         4   \n",
       "2   195.891492   781.502660    10771.686460       8        11   \n",
       "3   105.816329   186.932041    43769.024830       8         5   \n",
       "4  3895.769588  2302.981377     6198.750965       7        11   \n",
       "\n",
       "   log_pre_op_cost  log_pre_rx_cost  pre_total_cat   brand_cost  \n",
       "0         7.394045         8.011537              7  2984.927229  \n",
       "1         6.172430         6.580345              4     0.000000  \n",
       "2         6.661219         5.277561              9     0.000000  \n",
       "3         5.230745         4.661705             10     0.000000  \n",
       "4         7.741960         8.267647              8  3265.595950  "
      ]
     },
     "execution_count": 29,
     "metadata": {},
     "output_type": "execute_result"
    }
   ],
   "source": [
    "# All continous features to use for the regression model\n",
    "final_reg = reg_data_multicolin[names]\n",
    "final_reg.head()"
   ]
  },
  {
   "cell_type": "markdown",
   "metadata": {},
   "source": [
    "\n",
    "[EDIT]\n",
    "From our correlation heatmap, correlation matrix, we can say that num_op_post and post_total_cost are the only two variables that are highly correlated with our predictor variable, post_medical_cost, while not being correlated with the other features."
   ]
  },
  {
   "cell_type": "markdown",
   "metadata": {},
   "source": [
    "### Comparative T-tests"
   ]
  },
  {
   "cell_type": "code",
   "execution_count": 30,
   "metadata": {},
   "outputs": [],
   "source": [
    "# Creating the dataset needed to carry out the comparative t-tests\n",
    "eda_data = pd.concat([reg_categorical_vars,data['post_total_cost'] ],axis=1)\n"
   ]
  },
  {
   "cell_type": "code",
   "execution_count": 31,
   "metadata": {},
   "outputs": [
    {
     "data": {
      "image/png": "[encoded data removed]",
      "text/plain": [
       "<Figure size 1080x720 with 4 Axes>"
      ]
     },
     "metadata": {
      "needs_background": "light"
     },
     "output_type": "display_data"
    }
   ],
   "source": [
    "# Setting up the plot sizes and stuff\n",
    "plt.figure(figsize=(15,10))\n",
    "plt.subplots_adjust(left=None, bottom=None, right=None, top=None, wspace=0.4, hspace=None)\n",
    "plt.suptitle('Comparing Means Across Variables', fontsize=30)\n",
    "\n",
    "\n",
    "# Looping over 4 diseases and plotting them in the respective subplots\n",
    "for dis, i in zip(['HYPERTENSION','DYSLIPIDEMIA', 'DIABETES','ASTHMA'],range(1,5)):\n",
    "    plt.subplot(2,2,i)\n",
    "    sns.boxplot(x=dis, y='post_total_cost', data=eda_data)\n"
   ]
  },
  {
   "cell_type": "markdown",
   "metadata": {},
   "source": [
    "Visually, it looks like HYPERTENSION and DYSLIPIDEMIA may **NOT** be good variables to use to predict post medical cost because we can see that post total cost mean is the same for patients that have HYPERTENSION(1) and DYSLIPIDEMIA(1) and for patients that do not have HYPERTENSION(0) and DYSLIPIDEMIA(0), but we can see there DIABETES & ASTHMA may be a good variables due to a visibly significant differences in the mean. \n",
    "\n",
    "In order to solidify this comparision numerically, we will use two sample T Test to see if there truly is a significant difference in the means between the 0's and 1's of the categorical variables in relation to the total medical costs."
   ]
  },
  {
   "cell_type": "code",
   "execution_count": 32,
   "metadata": {},
   "outputs": [
    {
     "name": "stdout",
     "output_type": "stream",
     "text": [
      "ASTHMA: 0.000102\n",
      "CARDIAC_ARRYTHMIA: 0.000126\n",
      "CARDIAC_VALVULAR: 0.000766\n",
      "CHRONIC_KIDNEY: 0.001563\n",
      "CHRONIC_PAIN_FIBRO: 0.000106\n",
      "CHF: 1e-06\n",
      "DEMENTIA: 0.005591\n",
      "DEPRESSION: 0.0\n",
      "DIABETES: 9.1e-05\n",
      "HEPATITIS: 0.032996\n",
      "LIVER_GALLBLADDER_PANCREAS: 0.003223\n",
      "MI_CAD: 0.00056\n",
      "OSTEOARTHRITIS: 0.0\n",
      "PERIPHERAL_VASCULAR: 0.000494\n",
      "RENAL_FAILURE: 0.002152\n",
      "RHEUMATOLOGIC: 0.000738\n",
      "SLEEP_DISORDERS: 1e-06\n",
      "SMOKING: 0.012965\n",
      "THYROID: 0.024687\n",
      "Solid_Tumor: 0.0\n",
      "Metastatic: 0.0\n",
      "Leukemia_Lymphoma: 0.004993\n",
      "Other_Cancer: 0.011515\n"
     ]
    }
   ],
   "source": [
    "\"\"\"\n",
    "This loops over our dataset with all the diagnoses columns and returns back the variables that have a significance level <.05,\n",
    "showing us that the mean for post total cost for patients that have these diagnoses (1) is significantly different than the \n",
    "patients that do not have these diagnoses(0) \n",
    "\n",
    "\"\"\"\n",
    "threshold = 0.05\n",
    "\n",
    "# Empty list to append column names where P-value is less than threshold\n",
    "cat_columns_chosen = []\n",
    "\n",
    "# Looping over each categorical variable.\n",
    "for column in eda_data.iloc[:,0:34]:\n",
    "    \n",
    "    # splitting the dataset into 0 or 1.IE: presence of categrical variable of not \n",
    "    zero = eda_data[eda_data[column]== 0]['post_total_cost']\n",
    "    one = eda_data[eda_data[column]== 1]['post_total_cost']\n",
    "    \n",
    "    # t-test here\n",
    "    ttest = stats.ttest_ind(zero , one)\n",
    "    \n",
    "    # get p-value \n",
    "    if ttest[1] < threshold:\n",
    "        print('{}: {}'.format(column, round(ttest.pvalue,6) ))\n",
    "        cat_columns_chosen.append(column)  # Categorical variables to use for predicting the post_total_cost        "
   ]
  },
  {
   "cell_type": "markdown",
   "metadata": {},
   "source": [
    "# Regression - Model Fitting"
   ]
  },
  {
   "cell_type": "markdown",
   "metadata": {},
   "source": [
    "## Iteration 1"
   ]
  },
  {
   "cell_type": "code",
   "execution_count": 33,
   "metadata": {},
   "outputs": [],
   "source": [
    "\"\"\"Data Cleaning & Feature Engineering\n",
    "\n",
    "- **a.** Normalize the continuous variables\n",
    "- **b.** Deal with outlier data? Cap it maybe\n",
    "- **c.** Create new features if necessary\n",
    "\n",
    "##### Normalizing the data\n",
    "\n",
    "Here we look to employ the use of Guassian normalization techniques to pull our continuous variables, considering that they are not on the same scale\n",
    "\"\"\"\n",
    "\n",
    "def normalize(cf):\n",
    "    \"\"\"takes in a dataframe and normalizes it\"\"\"\n",
    "    scaler = preprocessing.StandardScaler().fit(cf)\n",
    "    X_scaled = scaler.transform(cf)\n",
    "    a = pd.DataFrame(X_scaled)\n",
    "    a.columns = cf.columns\n",
    "    return a\n",
    "    "
   ]
  },
  {
   "cell_type": "code",
   "execution_count": 34,
   "metadata": {},
   "outputs": [
    {
     "name": "stderr",
     "output_type": "stream",
     "text": [
      "C:\\Users\\Darshil Desai\\Anaconda3\\lib\\site-packages\\sklearn\\preprocessing\\data.py:645: DataConversionWarning: Data with input dtype int64, float64 were all converted to float64 by StandardScaler.\n",
      "  return self.partial_fit(X, y)\n",
      "C:\\Users\\Darshil Desai\\Anaconda3\\lib\\site-packages\\ipykernel_launcher.py:15: DataConversionWarning: Data with input dtype int64, float64 were all converted to float64 by StandardScaler.\n",
      "  from ipykernel import kernelapp as app\n"
     ]
    },
    {
     "data": {
      "text/html": [
       "<div>\n",
       "<style scoped>\n",
       "    .dataframe tbody tr th:only-of-type {\n",
       "        vertical-align: middle;\n",
       "    }\n",
       "\n",
       "    .dataframe tbody tr th {\n",
       "        vertical-align: top;\n",
       "    }\n",
       "\n",
       "    .dataframe thead th {\n",
       "        text-align: right;\n",
       "    }\n",
       "</style>\n",
       "<table border=\"1\" class=\"dataframe\">\n",
       "  <thead>\n",
       "    <tr style=\"text-align: right;\">\n",
       "      <th></th>\n",
       "      <th>pre_rx_cost</th>\n",
       "      <th>pre_op_cost</th>\n",
       "      <th>pre_total_cost</th>\n",
       "      <th>num_op</th>\n",
       "      <th>num_gpi6</th>\n",
       "      <th>log_pre_op_cost</th>\n",
       "      <th>log_pre_rx_cost</th>\n",
       "      <th>pre_total_cat</th>\n",
       "      <th>brand_cost</th>\n",
       "    </tr>\n",
       "  </thead>\n",
       "  <tbody>\n",
       "    <tr>\n",
       "      <th>0</th>\n",
       "      <td>0.394398</td>\n",
       "      <td>-0.321876</td>\n",
       "      <td>-0.454324</td>\n",
       "      <td>1.828715</td>\n",
       "      <td>0.025625</td>\n",
       "      <td>0.142058</td>\n",
       "      <td>0.968525</td>\n",
       "      <td>0.147669</td>\n",
       "      <td>0.932456</td>\n",
       "    </tr>\n",
       "    <tr>\n",
       "      <th>1</th>\n",
       "      <td>-0.208051</td>\n",
       "      <td>-0.497465</td>\n",
       "      <td>-0.633323</td>\n",
       "      <td>-0.639950</td>\n",
       "      <td>-0.467157</td>\n",
       "      <td>-0.373597</td>\n",
       "      <td>0.346919</td>\n",
       "      <td>-0.858021</td>\n",
       "      <td>-0.404607</td>\n",
       "    </tr>\n",
       "    <tr>\n",
       "      <th>2</th>\n",
       "      <td>-0.345854</td>\n",
       "      <td>-0.451206</td>\n",
       "      <td>-0.135515</td>\n",
       "      <td>-0.125645</td>\n",
       "      <td>1.257578</td>\n",
       "      <td>-0.167275</td>\n",
       "      <td>-0.218917</td>\n",
       "      <td>0.818128</td>\n",
       "      <td>-0.404607</td>\n",
       "    </tr>\n",
       "    <tr>\n",
       "      <th>3</th>\n",
       "      <td>-0.369501</td>\n",
       "      <td>-0.542232</td>\n",
       "      <td>1.580650</td>\n",
       "      <td>-0.125645</td>\n",
       "      <td>-0.220766</td>\n",
       "      <td>-0.771092</td>\n",
       "      <td>-0.486400</td>\n",
       "      <td>1.153358</td>\n",
       "      <td>-0.404607</td>\n",
       "    </tr>\n",
       "    <tr>\n",
       "      <th>4</th>\n",
       "      <td>0.625484</td>\n",
       "      <td>-0.218275</td>\n",
       "      <td>-0.373349</td>\n",
       "      <td>-0.228506</td>\n",
       "      <td>1.257578</td>\n",
       "      <td>0.288917</td>\n",
       "      <td>1.079760</td>\n",
       "      <td>0.482898</td>\n",
       "      <td>1.058178</td>\n",
       "    </tr>\n",
       "  </tbody>\n",
       "</table>\n",
       "</div>"
      ],
      "text/plain": [
       "   pre_rx_cost  pre_op_cost  pre_total_cost    num_op  num_gpi6  \\\n",
       "0     0.394398    -0.321876       -0.454324  1.828715  0.025625   \n",
       "1    -0.208051    -0.497465       -0.633323 -0.639950 -0.467157   \n",
       "2    -0.345854    -0.451206       -0.135515 -0.125645  1.257578   \n",
       "3    -0.369501    -0.542232        1.580650 -0.125645 -0.220766   \n",
       "4     0.625484    -0.218275       -0.373349 -0.228506  1.257578   \n",
       "\n",
       "   log_pre_op_cost  log_pre_rx_cost  pre_total_cat  brand_cost  \n",
       "0         0.142058         0.968525       0.147669    0.932456  \n",
       "1        -0.373597         0.346919      -0.858021   -0.404607  \n",
       "2        -0.167275        -0.218917       0.818128   -0.404607  \n",
       "3        -0.771092        -0.486400       1.153358   -0.404607  \n",
       "4         0.288917         1.079760       0.482898    1.058178  "
      ]
     },
     "execution_count": 34,
     "metadata": {},
     "output_type": "execute_result"
    }
   ],
   "source": [
    "# normalizing cont features\n",
    "final_reg_scaled = normalize(final_reg)\n",
    "final_reg_scaled.head(2)\n",
    "\n",
    "# setting index\n",
    "final_reg_scaled.index = final_reg.index\n",
    "final_reg_scaled.head(5)"
   ]
  },
  {
   "cell_type": "code",
   "execution_count": 35,
   "metadata": {},
   "outputs": [
    {
     "data": {
      "text/html": [
       "<div>\n",
       "<style scoped>\n",
       "    .dataframe tbody tr th:only-of-type {\n",
       "        vertical-align: middle;\n",
       "    }\n",
       "\n",
       "    .dataframe tbody tr th {\n",
       "        vertical-align: top;\n",
       "    }\n",
       "\n",
       "    .dataframe thead th {\n",
       "        text-align: right;\n",
       "    }\n",
       "</style>\n",
       "<table border=\"1\" class=\"dataframe\">\n",
       "  <thead>\n",
       "    <tr style=\"text-align: right;\">\n",
       "      <th></th>\n",
       "      <th>pre_rx_cost</th>\n",
       "      <th>pre_op_cost</th>\n",
       "      <th>pre_total_cost</th>\n",
       "      <th>num_op</th>\n",
       "      <th>num_gpi6</th>\n",
       "      <th>log_pre_op_cost</th>\n",
       "      <th>log_pre_rx_cost</th>\n",
       "      <th>pre_total_cat</th>\n",
       "      <th>brand_cost</th>\n",
       "      <th>ASTHMA</th>\n",
       "      <th>...</th>\n",
       "      <th>PERIPHERAL_VASCULAR</th>\n",
       "      <th>RENAL_FAILURE</th>\n",
       "      <th>RHEUMATOLOGIC</th>\n",
       "      <th>SLEEP_DISORDERS</th>\n",
       "      <th>SMOKING</th>\n",
       "      <th>THYROID</th>\n",
       "      <th>Solid_Tumor</th>\n",
       "      <th>Metastatic</th>\n",
       "      <th>Leukemia_Lymphoma</th>\n",
       "      <th>Other_Cancer</th>\n",
       "    </tr>\n",
       "  </thead>\n",
       "  <tbody>\n",
       "    <tr>\n",
       "      <th>0</th>\n",
       "      <td>0.394398</td>\n",
       "      <td>-0.321876</td>\n",
       "      <td>-0.454324</td>\n",
       "      <td>1.828715</td>\n",
       "      <td>0.025625</td>\n",
       "      <td>0.142058</td>\n",
       "      <td>0.968525</td>\n",
       "      <td>0.147669</td>\n",
       "      <td>0.932456</td>\n",
       "      <td>0</td>\n",
       "      <td>...</td>\n",
       "      <td>0</td>\n",
       "      <td>0</td>\n",
       "      <td>0</td>\n",
       "      <td>0</td>\n",
       "      <td>0</td>\n",
       "      <td>0</td>\n",
       "      <td>0</td>\n",
       "      <td>0</td>\n",
       "      <td>0</td>\n",
       "      <td>0</td>\n",
       "    </tr>\n",
       "    <tr>\n",
       "      <th>1</th>\n",
       "      <td>-0.208051</td>\n",
       "      <td>-0.497465</td>\n",
       "      <td>-0.633323</td>\n",
       "      <td>-0.639950</td>\n",
       "      <td>-0.467157</td>\n",
       "      <td>-0.373597</td>\n",
       "      <td>0.346919</td>\n",
       "      <td>-0.858021</td>\n",
       "      <td>-0.404607</td>\n",
       "      <td>0</td>\n",
       "      <td>...</td>\n",
       "      <td>0</td>\n",
       "      <td>0</td>\n",
       "      <td>0</td>\n",
       "      <td>1</td>\n",
       "      <td>0</td>\n",
       "      <td>0</td>\n",
       "      <td>0</td>\n",
       "      <td>0</td>\n",
       "      <td>0</td>\n",
       "      <td>0</td>\n",
       "    </tr>\n",
       "    <tr>\n",
       "      <th>2</th>\n",
       "      <td>-0.345854</td>\n",
       "      <td>-0.451206</td>\n",
       "      <td>-0.135515</td>\n",
       "      <td>-0.125645</td>\n",
       "      <td>1.257578</td>\n",
       "      <td>-0.167275</td>\n",
       "      <td>-0.218917</td>\n",
       "      <td>0.818128</td>\n",
       "      <td>-0.404607</td>\n",
       "      <td>0</td>\n",
       "      <td>...</td>\n",
       "      <td>0</td>\n",
       "      <td>0</td>\n",
       "      <td>0</td>\n",
       "      <td>0</td>\n",
       "      <td>0</td>\n",
       "      <td>0</td>\n",
       "      <td>0</td>\n",
       "      <td>0</td>\n",
       "      <td>0</td>\n",
       "      <td>0</td>\n",
       "    </tr>\n",
       "    <tr>\n",
       "      <th>3</th>\n",
       "      <td>-0.369501</td>\n",
       "      <td>-0.542232</td>\n",
       "      <td>1.580650</td>\n",
       "      <td>-0.125645</td>\n",
       "      <td>-0.220766</td>\n",
       "      <td>-0.771092</td>\n",
       "      <td>-0.486400</td>\n",
       "      <td>1.153358</td>\n",
       "      <td>-0.404607</td>\n",
       "      <td>0</td>\n",
       "      <td>...</td>\n",
       "      <td>0</td>\n",
       "      <td>0</td>\n",
       "      <td>0</td>\n",
       "      <td>0</td>\n",
       "      <td>1</td>\n",
       "      <td>0</td>\n",
       "      <td>0</td>\n",
       "      <td>0</td>\n",
       "      <td>0</td>\n",
       "      <td>0</td>\n",
       "    </tr>\n",
       "    <tr>\n",
       "      <th>4</th>\n",
       "      <td>0.625484</td>\n",
       "      <td>-0.218275</td>\n",
       "      <td>-0.373349</td>\n",
       "      <td>-0.228506</td>\n",
       "      <td>1.257578</td>\n",
       "      <td>0.288917</td>\n",
       "      <td>1.079760</td>\n",
       "      <td>0.482898</td>\n",
       "      <td>1.058178</td>\n",
       "      <td>0</td>\n",
       "      <td>...</td>\n",
       "      <td>0</td>\n",
       "      <td>0</td>\n",
       "      <td>0</td>\n",
       "      <td>0</td>\n",
       "      <td>0</td>\n",
       "      <td>0</td>\n",
       "      <td>0</td>\n",
       "      <td>0</td>\n",
       "      <td>0</td>\n",
       "      <td>0</td>\n",
       "    </tr>\n",
       "  </tbody>\n",
       "</table>\n",
       "<p>5 rows × 32 columns</p>\n",
       "</div>"
      ],
      "text/plain": [
       "   pre_rx_cost  pre_op_cost  pre_total_cost    num_op  num_gpi6  \\\n",
       "0     0.394398    -0.321876       -0.454324  1.828715  0.025625   \n",
       "1    -0.208051    -0.497465       -0.633323 -0.639950 -0.467157   \n",
       "2    -0.345854    -0.451206       -0.135515 -0.125645  1.257578   \n",
       "3    -0.369501    -0.542232        1.580650 -0.125645 -0.220766   \n",
       "4     0.625484    -0.218275       -0.373349 -0.228506  1.257578   \n",
       "\n",
       "   log_pre_op_cost  log_pre_rx_cost  pre_total_cat  brand_cost  ASTHMA  ...  \\\n",
       "0         0.142058         0.968525       0.147669    0.932456       0  ...   \n",
       "1        -0.373597         0.346919      -0.858021   -0.404607       0  ...   \n",
       "2        -0.167275        -0.218917       0.818128   -0.404607       0  ...   \n",
       "3        -0.771092        -0.486400       1.153358   -0.404607       0  ...   \n",
       "4         0.288917         1.079760       0.482898    1.058178       0  ...   \n",
       "\n",
       "   PERIPHERAL_VASCULAR  RENAL_FAILURE  RHEUMATOLOGIC  SLEEP_DISORDERS  \\\n",
       "0                    0              0              0                0   \n",
       "1                    0              0              0                1   \n",
       "2                    0              0              0                0   \n",
       "3                    0              0              0                0   \n",
       "4                    0              0              0                0   \n",
       "\n",
       "   SMOKING  THYROID  Solid_Tumor  Metastatic  Leukemia_Lymphoma  Other_Cancer  \n",
       "0        0        0            0           0                  0             0  \n",
       "1        0        0            0           0                  0             0  \n",
       "2        0        0            0           0                  0             0  \n",
       "3        1        0            0           0                  0             0  \n",
       "4        0        0            0           0                  0             0  \n",
       "\n",
       "[5 rows x 32 columns]"
      ]
     },
     "execution_count": 35,
     "metadata": {},
     "output_type": "execute_result"
    }
   ],
   "source": [
    "# combining cont + cat features that are selected using the T-test above!\n",
    "main_data_reg = pd.concat([final_reg_scaled, reg_categorical_vars[cat_columns_chosen]  ], axis=1)  \n",
    "main_data_reg.head(5)"
   ]
  },
  {
   "cell_type": "code",
   "execution_count": 36,
   "metadata": {},
   "outputs": [],
   "source": [
    "# Splitting the dataset into training and validation data\n",
    "X_train_reg, X_val_reg, y_train_reg, y_val_reg = train_test_split(main_data_reg, data.loc[main_data_reg.index]['post_total_cost'], test_size=0.20, random_state=42)"
   ]
  },
  {
   "cell_type": "code",
   "execution_count": 37,
   "metadata": {},
   "outputs": [
    {
     "data": {
      "text/plain": [
       "1.1874545412906616"
      ]
     },
     "execution_count": 37,
     "metadata": {},
     "output_type": "execute_result"
    }
   ],
   "source": [
    "# Create linear regression object\n",
    "regr = LinearRegression()\n",
    "\n",
    "# Fitting the model\n",
    "regr.fit(X_train_reg, np.log(y_train_reg))\n",
    "\n",
    "# In sample RMSE error - LOG\n",
    "np.sqrt(mean_squared_error(np.log(y_train_reg), regr.predict(X_train_reg)))"
   ]
  },
  {
   "cell_type": "code",
   "execution_count": 38,
   "metadata": {},
   "outputs": [
    {
     "data": {
      "text/plain": [
       "1.299040185105841"
      ]
     },
     "execution_count": 38,
     "metadata": {},
     "output_type": "execute_result"
    }
   ],
   "source": [
    "# Outsample error:  testing the validation \n",
    "np.sqrt(mean_squared_error(np.log(y_val_reg), regr.predict(X_val_reg)))"
   ]
  },
  {
   "cell_type": "markdown",
   "metadata": {},
   "source": [
    "**Conclusion of iteration 1: Interpretaing the errors**\n",
    "\n",
    "The RMSE or root mean square error allows you to see how much your prediction deviates, on average, from the actual value in the units of the variable\n",
    "\n",
    "- In sample real RMSE of 680: Average deviation in predicted total_medical_cost for the training dataset is $11282 (hunderds? - CHECK UNITS)\n",
    "\n",
    "- Out sample real RMSE of 1561: Average deviation in predicted total_medical_cost for the validation dataset is $11064 (hunderds? - CHECK UNITS)"
   ]
  },
  {
   "cell_type": "markdown",
   "metadata": {},
   "source": [
    "### Testing LINE Assumptions"
   ]
  },
  {
   "cell_type": "code",
   "execution_count": 39,
   "metadata": {},
   "outputs": [],
   "source": [
    "def LINE_test_plot(df):\n",
    "    \n",
    "    \"\"\"\n",
    "    Performs a LINE check and returns the relevant plots\n",
    "    \"\"\"\n",
    "    \n",
    "\n",
    "    # combining X, Y data to use into \n",
    "    ols_train_data = df\n",
    "\n",
    "    all_columns = \"+\".join([x for x in ols_train_data.columns if x != 'post_total_cost'])\n",
    "\n",
    "    my_formula = \"post_total_cost~\" + all_columns\n",
    "    mlr_model1 = smf.ols(my_formula, data = ols_train_data).fit()\n",
    "\n",
    "    # Setting up the plot sizes and stuff\n",
    "    plt.figure(figsize=(15,10))\n",
    "    plt.subplots_adjust(left=None, bottom=None, right=None, top=None, wspace=0.4, hspace=None)\n",
    "    plt.suptitle('Checking Linear Regression Assumptions', fontsize=30)\n",
    "\n",
    "    #-------------------------------------------\n",
    "    plt.subplot(2,2,1)\n",
    "\n",
    "    # Q-Q plot\n",
    "\n",
    "    stats.probplot(mlr_model1.resid, plot= plt)\n",
    "    plt.title(\"Residuals Probability Plot\")\n",
    "\n",
    "    #-------------------------------------------\n",
    "    plt.subplot(2,2,2)\n",
    "\n",
    "    residuals = abs(mlr_model1.predict(ols_train_data[[x for x in ols_train_data.columns if x != 'post_total_cost']]) - ols_train_data.post_total_cost)\n",
    "    preds = mlr_model1.predict(ols_train_data[[x for x in ols_train_data.columns if x != 'post_total_cost']])\n",
    "\n",
    "\n",
    "    # plotting everything for Homoesdasticity\n",
    "    plt.title(\"Checking for Homoesdasticity\")\n",
    "    plt.plot(preds ,residuals, '.')\n",
    "    plt.xlabel('Predicted Values')\n",
    "    plt.ylabel('Residuals')    \n",
    "\n"
   ]
  },
  {
   "cell_type": "code",
   "execution_count": 40,
   "metadata": {},
   "outputs": [
    {
     "data": {
      "image/png": "[encoded data removed]",
      "text/plain": [
       "<Figure size 1080x720 with 2 Axes>"
      ]
     },
     "metadata": {
      "needs_background": "light"
     },
     "output_type": "display_data"
    }
   ],
   "source": [
    "LINE_test_plot(pd.concat([X_train_reg,  np.log(y_train_reg) ],1))"
   ]
  },
  {
   "cell_type": "markdown",
   "metadata": {},
   "source": [
    "## Iteration 2: \n",
    "\n",
    "- Stepwise Regression"
   ]
  },
  {
   "cell_type": "code",
   "execution_count": 41,
   "metadata": {},
   "outputs": [
    {
     "name": "stderr",
     "output_type": "stream",
     "text": [
      "C:\\Users\\Darshil Desai\\Anaconda3\\lib\\site-packages\\numpy\\core\\fromnumeric.py:2389: FutureWarning: Method .ptp is deprecated and will be removed in a future version. Use numpy.ptp instead.\n",
      "  return ptp(axis=axis, out=out, **kwargs)\n"
     ]
    },
    {
     "data": {
      "text/plain": [
       "['num_op',\n",
       " 'OSTEOARTHRITIS',\n",
       " 'Metastatic',\n",
       " 'brand_cost',\n",
       " 'DIABETES',\n",
       " 'CARDIAC_ARRYTHMIA',\n",
       " 'DEPRESSION',\n",
       " 'pre_op_cost',\n",
       " 'SLEEP_DISORDERS',\n",
       " 'num_gpi6',\n",
       " 'CHF',\n",
       " 'pre_total_cost',\n",
       " 'PERIPHERAL_VASCULAR',\n",
       " 'Leukemia_Lymphoma',\n",
       " 'pre_rx_cost',\n",
       " 'ASTHMA',\n",
       " 'DEMENTIA',\n",
       " 'SMOKING']"
      ]
     },
     "execution_count": 41,
     "metadata": {},
     "output_type": "execute_result"
    }
   ],
   "source": [
    "stepwise_columns = stepwise_regression.forward_regression(main_data_reg, data.loc[main_data_reg.index]['post_total_cost'], threshold_in=0.05, verbose=False)\n",
    "stepwise_columns"
   ]
  },
  {
   "cell_type": "code",
   "execution_count": 42,
   "metadata": {},
   "outputs": [],
   "source": [
    "# Using columns from stepwise regression\n",
    "stepwise_main_data_reg = main_data_reg[stepwise_columns]\n",
    "\n",
    "# Splitting the dataset into training and validation data\n",
    "X_train_reg_s, X_val_reg_s, y_train_reg_s, y_val_reg_s = train_test_split(stepwise_main_data_reg, data.loc[main_data_reg.index]['post_total_cost'], test_size=0.20, random_state=42)"
   ]
  },
  {
   "cell_type": "code",
   "execution_count": 43,
   "metadata": {},
   "outputs": [
    {
     "data": {
      "text/plain": [
       "1.2336384224301773"
      ]
     },
     "execution_count": 43,
     "metadata": {},
     "output_type": "execute_result"
    }
   ],
   "source": [
    "# Create linear regression object\n",
    "regr = LinearRegression()\n",
    "\n",
    "# Fitting the model\n",
    "regr.fit(X_train_reg_s, np.log(y_train_reg_s))\n",
    "\n",
    "# In sample RMSE error - LOG\n",
    "np.sqrt(mean_squared_error(np.log(y_train_reg_s), regr.predict(X_train_reg_s)))"
   ]
  },
  {
   "cell_type": "code",
   "execution_count": 44,
   "metadata": {},
   "outputs": [
    {
     "data": {
      "text/plain": [
       "1.35563807634966"
      ]
     },
     "execution_count": 44,
     "metadata": {},
     "output_type": "execute_result"
    }
   ],
   "source": [
    "# Outsample error:  testing the validation \n",
    "np.sqrt(mean_squared_error(np.log(y_val_reg_s), regr.predict(X_val_reg_s)))"
   ]
  },
  {
   "cell_type": "markdown",
   "metadata": {},
   "source": [
    "### Testing LINE Assumptions"
   ]
  },
  {
   "cell_type": "code",
   "execution_count": 45,
   "metadata": {},
   "outputs": [
    {
     "data": {
      "image/png": "[encoded data removed]",
      "text/plain": [
       "<Figure size 1080x720 with 2 Axes>"
      ]
     },
     "metadata": {
      "needs_background": "light"
     },
     "output_type": "display_data"
    }
   ],
   "source": [
    "LINE_test_plot(pd.concat([X_train_reg_s,  np.log(y_train_reg_s) ],1))"
   ]
  },
  {
   "cell_type": "markdown",
   "metadata": {},
   "source": [
    "**Conclusion:** Stepwise regression RMSE metrics are not very different from our custom model selection approach in Iteration 1. ADD MORE"
   ]
  },
  {
   "cell_type": "markdown",
   "metadata": {},
   "source": [
    "# Classification - Feature Selection\n",
    "\n",
    "This section will focus on determining the which of the appropriate features to incorporate in our model fitting. We will employ the use of various techniques to determine the following: \n",
    "    \n",
    "- **(i.) Which features show significant associativity which the predictor variable we will use for classification. Predicting the pdc_80_flag variable poses as a binary classification problem. \n",
    "    - Employ the use of chi-square tests to determine which categorical variables prove to be associative with \n",
    "    - Employ the use of the Wilcoxon T-Tests to determine which continuous variables work best in predicting the pdc_80_flag"
   ]
  },
  {
   "cell_type": "markdown",
   "metadata": {},
   "source": [
    "### Chi - Square tests"
   ]
  },
  {
   "cell_type": "code",
   "execution_count": 46,
   "metadata": {},
   "outputs": [],
   "source": [
    "\"\"\"Co - morbidity index\"\"\"\n",
    "# First we need to make a contigency table \n",
    "\n",
    "\n",
    "def chisq(cat_cols, group, a, df):    \n",
    "    \"\"\"\n",
    "    Calculates the chi-square metric for a set of categorical variables given the group\n",
    "    \n",
    "    Parameters\n",
    "    ----------\n",
    "    : param cat_cols: The column names of categorical columns in from the data file\n",
    "    : param group: Aither ANTIDIABETIC or ANTICOAGULANT or BOTH as 'ANTIDIABETIC|ANTICOAGULANT'\n",
    "    : param a: alpha test statistic\n",
    "    \"\"\"\n",
    "    \n",
    "    data = df\n",
    "    \n",
    "    # Only retreiving rows belonging to the group\n",
    "    subset_ad = data[data['drug_class'].str.contains(group)]\n",
    "    \n",
    "    # Initializing empty lists to append into\n",
    "    var = []\n",
    "    p_val = []\n",
    "    \n",
    "\n",
    "    # Iterating over each cat_column\n",
    "    for x in cat_cols:\n",
    "        \n",
    "        # Contingency table for that categorical column and the pdc_80_flag\n",
    "        table = np.array(pd.crosstab(subset_ad[x], subset_ad['pdc_80_flag']))\n",
    "\n",
    "        # Getting statistical metrics\n",
    "        stat, p, dof, expected = chi2_contingency(table)\n",
    "        \n",
    "        # Append all data\n",
    "        var.append(x), p_val.append(p)\n",
    "    \n",
    "    # Empty dataframe to append into\n",
    "    mod_df = pd.DataFrame({'variable': var, 'p_val': np.round(p_val,6)})\n",
    "\n",
    "    # return\n",
    "    return mod_df[mod_df['p_val'] <= a]          \n"
   ]
  },
  {
   "cell_type": "code",
   "execution_count": 47,
   "metadata": {},
   "outputs": [
    {
     "data": {
      "text/plain": [
       "11        DIABETES\n",
       "12    DYSLIPIDEMIA\n",
       "16    HYPERTENSION\n",
       "28         THYROID\n",
       "34            sexN\n",
       "35       pre_CCI_0\n",
       "36       pre_CCI_1\n",
       "45      age_grpN_2\n",
       "46      age_grpN_3\n",
       "47      age_grpN_4\n",
       "50       regionN_3\n",
       "Name: variable, dtype: object"
      ]
     },
     "execution_count": 47,
     "metadata": {},
     "output_type": "execute_result"
    }
   ],
   "source": [
    "data1 = data[data['drug_class'].str.contains('ANTIDIABETIC')]\n",
    "\n",
    "# Which categorical columns were chosen for Diabetic patients\n",
    "cat_chosen = chisq(class_categorical_vars.columns, 'ANTIDIABETIC', 0.05, df=pd.concat([class_categorical_vars, data1[['drug_class', 'pdc_80_flag']]],1)).variable\n",
    "cat_chosen"
   ]
  },
  {
   "cell_type": "markdown",
   "metadata": {},
   "source": [
    "### Wilcoxon Test\n",
    "\n",
    "- To choose continous features for classification"
   ]
  },
  {
   "cell_type": "code",
   "execution_count": 48,
   "metadata": {},
   "outputs": [
    {
     "name": "stdout",
     "output_type": "stream",
     "text": [
      "pdc: 6.060309350527707e-51\n",
      "pdc_cat: 6.760813950869273e-29\n",
      "pre_er_cost: 0.02480080595225188\n",
      "pre_rx_cost: 0.0001248457641211887\n",
      "num_ndc: 1.5935035583241227e-06\n",
      "num_gpi6: 0.000483096741248662\n",
      "adjust_total_30d: 8.176776148652972e-08\n",
      "log_pre_rx_cost: 8.292802336371263e-07\n",
      "numofgen: 3.321468002211197e-06\n",
      "numofbrand: 0.009980112535512039\n",
      "generic_cost: 3.879276859404366e-08\n",
      "brand_cost: 0.011234916593773509\n",
      "ratio_G_total_cost: 0.00014248644587522305\n"
     ]
    },
    {
     "name": "stderr",
     "output_type": "stream",
     "text": [
      "C:\\Users\\Darshil Desai\\Anaconda3\\lib\\site-packages\\scipy\\stats\\morestats.py:2781: RuntimeWarning: invalid value encountered in greater\n",
      "  r_plus = np.sum((d > 0) * r, axis=0)\n",
      "C:\\Users\\Darshil Desai\\Anaconda3\\lib\\site-packages\\scipy\\stats\\morestats.py:2782: RuntimeWarning: invalid value encountered in less\n",
      "  r_minus = np.sum((d < 0) * r, axis=0)\n"
     ]
    }
   ],
   "source": [
    "# Creating a seperate dataframe with continous features for classification along with drug_class and pdc_80_flag\n",
    "df_wilcox = pd.concat([class_cont_vars, data1[['drug_class', 'pdc_80_flag']]],1)\n",
    "\n",
    "# Splitting it into two datasets PDC_80_Flag 0 and 1\n",
    "df_wilcox_0 = df_wilcox[df_wilcox['pdc_80_flag']==0]\n",
    "df_wilcox_1 = df_wilcox[df_wilcox['pdc_80_flag']==1]\n",
    "\n",
    "\n",
    "#Randomly selecting N rows for the Wilcoxon test\n",
    "np.random.seed(3)\n",
    "N = 300\n",
    "df_wilcox_0_r = df_wilcox_0.loc[np.random.choice(df_wilcox_0.index,N)]\n",
    "df_wilcox_1_r = df_wilcox_1.loc[np.random.choice(df_wilcox_1.index,N)]\n",
    "\n",
    "\n",
    "# Performing the Wilxocon Test here \n",
    "\n",
    "    # Empty list for continous columns to use for classification\n",
    "cont_cols_use = []\n",
    "\n",
    "for column, p_value in zip( class_cont_vars.columns, [stats.wilcoxon(df_wilcox_0_r[x],df_wilcox_1_r[x])[1] for x in class_cont_vars.columns]):\n",
    "    if p_value < 0.05:    \n",
    "        print ('{}: {}'.format(column, p_value)), cont_cols_use.append(column)                "
   ]
  },
  {
   "cell_type": "markdown",
   "metadata": {},
   "source": [
    "# Classification - Model Fitting\n",
    "\n",
    "Prior to model fitting, we will create the combined dataset and then split it up the training dataset into training and validation sets in order to test for hyperparameters"
   ]
  },
  {
   "cell_type": "code",
   "execution_count": 49,
   "metadata": {},
   "outputs": [
    {
     "name": "stderr",
     "output_type": "stream",
     "text": [
      "C:\\Users\\Darshil Desai\\Anaconda3\\lib\\site-packages\\sklearn\\preprocessing\\data.py:645: DataConversionWarning: Data with input dtype int64, float64 were all converted to float64 by StandardScaler.\n",
      "  return self.partial_fit(X, y)\n",
      "C:\\Users\\Darshil Desai\\Anaconda3\\lib\\site-packages\\ipykernel_launcher.py:15: DataConversionWarning: Data with input dtype int64, float64 were all converted to float64 by StandardScaler.\n",
      "  from ipykernel import kernelapp as app\n"
     ]
    }
   ],
   "source": [
    "# categorical features for classification\n",
    "cat_features_classification = class_categorical_vars[cat_chosen]\n",
    "\n",
    "# cont features fr classification\n",
    "cont_features_classification = normalize(class_cont_vars[cont_cols_use])\n",
    "cont_features_classification.index = cat_features_classification.index  # Setting the correct indices again"
   ]
  },
  {
   "cell_type": "code",
   "execution_count": 50,
   "metadata": {},
   "outputs": [],
   "source": [
    "\"\"\"Combined dataset\"\"\"\n",
    "main_x = pd.concat([cont_features_classification, cat_features_classification], axis=1)\n",
    "main_x = main_x.dropna()"
   ]
  },
  {
   "cell_type": "code",
   "execution_count": 51,
   "metadata": {},
   "outputs": [],
   "source": [
    "# Splitting the dataset into training and validation\n",
    "X_train, X_val, y_train, y_val = train_test_split(main_x, data1.loc[list(main_x.index)]['pdc_80_flag'], test_size=0.20, random_state=42)"
   ]
  },
  {
   "cell_type": "code",
   "execution_count": 52,
   "metadata": {},
   "outputs": [],
   "source": [
    "def return_accu_report(Xval, yval,Xtrain,ytrain, model):\n",
    "    \"\"\"\n",
    "    returns the in and out sample accuracy rates\n",
    "    \"\"\"\n",
    "    preds_log = model.predict(X_val)\n",
    "    \n",
    "    # In sample---------------------------\n",
    "    # Accuracy\n",
    "    in_sample_accuracy = round(accuracy_score(ytrain ,model.predict(Xtrain)),2) *100\n",
    "    # Testing\n",
    "    print ('The in sample accuracy score using this classifier: {} %'.format(in_sample_accuracy))\n",
    "\n",
    "    \n",
    "    \n",
    "    # Out sample ----------------------\n",
    "    out_preds = model.predict(Xval)\n",
    "    \n",
    "    # Accuracy\n",
    "    out_sample_accu = round(accuracy_score(yval ,out_preds),2) *100\n",
    "    # Testing\n",
    "    print ('The out sample accuracy score using this classifier: {} %'.format(out_sample_accu))\n",
    "\n",
    "    \n",
    "    # Confusion matrix for the out sample\n",
    "    print ('Confusion Matrix: \\n' ,confusion_matrix(y_val , out_preds))"
   ]
  },
  {
   "cell_type": "markdown",
   "metadata": {},
   "source": [
    "### (NB) Classification Using Naive Bayes \n",
    "\n",
    "In this section we will employ the use of the Naive Bayes Classifer to predict the pdc_80_flag. Particularily:\n",
    "\n",
    "- Categorical features used: DIABETES, DYSLIPIDEMIA, HYPERTENSION, THYROID, age_grpN, sexN, regionN\n",
    "- Continous features used: All for now (will delete later after the statistical section above is filled)"
   ]
  },
  {
   "cell_type": "code",
   "execution_count": 53,
   "metadata": {
    "scrolled": true
   },
   "outputs": [
    {
     "name": "stdout",
     "output_type": "stream",
     "text": [
      "The in sample accuracy score using this classifier: 100.0 %\n",
      "The out sample accuracy score using this classifier: 99.0 %\n",
      "Confusion Matrix: \n",
      " [[112   0]\n",
      " [  1  72]]\n"
     ]
    }
   ],
   "source": [
    "#Create a Gaussian Classifier\n",
    "nb_model = GaussianNB()\n",
    "\n",
    "# Fitting the Model\n",
    "nb_model.fit(X_train,y_train)\n",
    "\n",
    "return_accu_report(X_val, y_val,X_train, y_train, nb_model)    "
   ]
  },
  {
   "cell_type": "markdown",
   "metadata": {},
   "source": [
    "### (LR) Logistic Regression\n",
    "\n",
    "In this section we will employ the use of the Logistic Regression Classifer to predict the pdc_80_flag. Particularily:\n",
    "\n",
    "- Categorical features used: DIABETES, DYSLIPIDEMIA, HYPERTENSION, THYROID, age_grpN, sexN, regionN\n",
    "- Continous features used: All for now (will delete later after the statistical section above is filled)"
   ]
  },
  {
   "cell_type": "code",
   "execution_count": 54,
   "metadata": {},
   "outputs": [
    {
     "name": "stdout",
     "output_type": "stream",
     "text": [
      "The in sample accuracy score using this classifier: 100.0 %\n",
      "The out sample accuracy score using this classifier: 100.0 %\n",
      "Confusion Matrix: \n",
      " [[112   0]\n",
      " [  0  73]]\n"
     ]
    }
   ],
   "source": [
    "# creating an instance of the model AND fitting it \n",
    "log_model = LogisticRegression(random_state=0, penalty=\"l2\", max_iter = 1000, solver = 'lbfgs')\n",
    "\n",
    "# Fitting the Model\n",
    "log_model.fit(X_train,y_train)\n",
    "\n",
    "return_accu_report(X_val, y_val,X_train, y_train, log_model)    "
   ]
  },
  {
   "cell_type": "markdown",
   "metadata": {},
   "source": [
    "### (KNN) K - Nearest Neighbors\n",
    "\n",
    "In this section we will employ the use of the KNN to predict the pdc_80_flag. Particularily:\n",
    "\n",
    "- Categorical features used: DIABETES, DYSLIPIDEMIA, HYPERTENSION, THYROID, age_grpN, sexN, regionN\n",
    "- Continous features used: All for now (will delete later after the statistical section above is filled)"
   ]
  },
  {
   "cell_type": "code",
   "execution_count": 55,
   "metadata": {},
   "outputs": [
    {
     "name": "stdout",
     "output_type": "stream",
     "text": [
      "The in sample accuracy score using this classifier: 100.0 %\n",
      "The out sample accuracy score using this classifier: 96.0 %\n",
      "Confusion Matrix: \n",
      " [[108   4]\n",
      " [  4  69]]\n"
     ]
    }
   ],
   "source": [
    "# Initializing the model\n",
    "neigh = KNeighborsClassifier(n_neighbors=3, weights = 'distance')\n",
    "\n",
    "# fitting the model \n",
    "neigh.fit(X_train, y_train)\n",
    "\n",
    "return_accu_report(X_val, y_val,X_train, y_train, neigh)    "
   ]
  },
  {
   "cell_type": "markdown",
   "metadata": {},
   "source": [
    "# Test & Deploy\n",
    "- For Prof.Zarei\n",
    "\n",
    "In this section we will facilitate the use of an external dataset (with the same features) to test the models we have created above on new data. \n",
    "\n",
    "**PENDING** until we figure our final models and consequentially the features"
   ]
  }
 ],
 "metadata": {
  "kernelspec": {
   "display_name": "Python 3",
   "language": "python",
   "name": "python3"
  },
  "language_info": {
   "codemirror_mode": {
    "name": "ipython",
    "version": 3
   },
   "file_extension": ".py",
   "mimetype": "text/x-python",
   "name": "python",
   "nbconvert_exporter": "python",
   "pygments_lexer": "ipython3",
   "version": "3.6.6"
  }
 },
 "nbformat": 4,
 "nbformat_minor": 2
}
